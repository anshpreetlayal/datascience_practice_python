{
 "cells": [
  {
   "cell_type": "markdown",
   "id": "8f61ea88-0734-4498-8f9d-d0cc2123dc40",
   "metadata": {},
   "source": [
    "# Lists, Tuples, Sets - Building the Foundations 🏗️📦"
   ]
  },
  {
   "cell_type": "markdown",
   "id": "a8d97f15-e3bb-4ba9-a944-5600ff1dd00e",
   "metadata": {},
   "source": [
    "Let's explore the key differences between lists, tuples, and sets in Python:\n",
    "\n",
    "1. Mutability:\n",
    "   - List: Mutable (can be modified after creation). You can add, remove, or modify elements.\n",
    "   - Tuple: Immutable (cannot be modified after creation). Once a tuple is created, you cannot add, remove, or modify elements.\n",
    "   - Set: Mutable. While the set itself is mutable (you can add and remove elements), the elements inside a set must be immutable.\n",
    "2. Syntax:\n",
    "   - List: Created using square brackets []. Example: my_list = [1, 2, 3].\n",
    "   -  Tuple: Created using parentheses (). Example: my_tuple = (1, 2, 3).\n",
    "   -  Set: Created using curly braces {} or the set() constructor. Example: my_set = {1, 2, 3}.\n",
    "  \n",
    "3. Ordered vs. Unordered:\n",
    "   - List: Ordered (maintains the order of elements based on their index).\n",
    "   - Tuple: Ordered.\n",
    "   - Set: Unordered (does not guarantee the order of elements).\n",
    "  \n",
    "4. Duplicates:\n",
    "   - List: Allows duplicate elements.\n",
    "   - Tuple: Allows duplicate elements.\n",
    "   - Set: Does not allow duplicate elements. If you try to add a duplicate element, it won't be included.\n",
    "\n",
    "5. Indexing and Slicing:\n",
    "   - List: Supports indexing and slicing.\n",
    "   - Tuple: Supports indexing and slicing.\n",
    "   - Set: Does not support indexing or slicing since it is unordered.\n",
    "     \n",
    "6. Use Cases:\n",
    "   - List: Use when you have a collection of items that may need to be modified (e.g., a dynamic list of tasks).\n",
    "   - Tuple: Use when the collection of items should remain constant throughout the program (e.g., coordinates, RGB values).\n",
    "   - Set: Use when you need an unordered collection of unique elements and don't require indexing (e.g., unique values, membership tests)."
   ]
  },
  {
   "cell_type": "markdown",
   "id": "8d10befc-62f7-4faa-b58d-3dae05afc760",
   "metadata": {},
   "source": [
    "## Lists - A Magical Collection"
   ]
  },
  {
   "cell_type": "markdown",
   "id": "9bb060ce-03ec-4b22-a2b0-87b6b78ff5cd",
   "metadata": {},
   "source": [
    "#### Creating a list"
   ]
  },
  {
   "cell_type": "code",
   "execution_count": 1,
   "id": "403ef377-cd3c-4410-b112-f090f37ce858",
   "metadata": {},
   "outputs": [
    {
     "name": "stdout",
     "output_type": "stream",
     "text": [
      "['Wand', 'Spellbook', 'Robe', 'Potion']\n"
     ]
    }
   ],
   "source": [
    "wizard_inventory = [\"Wand\", \"Spellbook\", \"Robe\", \"Potion\"]\n",
    "print(wizard_inventory)"
   ]
  },
  {
   "cell_type": "markdown",
   "id": "c9f97dea-1559-4523-9b2d-b12bde4c292e",
   "metadata": {},
   "source": [
    "#### Accessing elements"
   ]
  },
  {
   "cell_type": "code",
   "execution_count": 2,
   "id": "516556c6-dbe3-42ab-a79d-26f84e944c55",
   "metadata": {},
   "outputs": [
    {
     "name": "stdout",
     "output_type": "stream",
     "text": [
      "Wand\n",
      "Potion\n"
     ]
    }
   ],
   "source": [
    "first_item = wizard_inventory[0]\n",
    "last_item = wizard_inventory[-1]\n",
    "print(first_item)\n",
    "print(last_item)"
   ]
  },
  {
   "cell_type": "markdown",
   "id": "7d84dd54-4467-4c20-ac86-8703f3c55eef",
   "metadata": {},
   "source": [
    "#### Modifying the list"
   ]
  },
  {
   "cell_type": "code",
   "execution_count": 3,
   "id": "8015c40c-533c-40ff-8552-f12656985a51",
   "metadata": {},
   "outputs": [
    {
     "name": "stdout",
     "output_type": "stream",
     "text": [
      "['Wand', 'Spellbook', 'Robe', 'Potion', 'Crystal Ball']\n",
      "['Wand', 'Spellbook', 'Robe', 'Crystal Ball']\n",
      "['Wand', 'Amulet', 'Spellbook', 'Robe', 'Crystal Ball']\n"
     ]
    }
   ],
   "source": [
    "# Adding an item\n",
    "wizard_inventory.append(\"Crystal Ball\")\n",
    "print(wizard_inventory)\n",
    "\n",
    "# Removing an item\n",
    "wizard_inventory.remove(\"Potion\")\n",
    "print(wizard_inventory)\n",
    "\n",
    "# Inserting an item at a specific index\n",
    "wizard_inventory.insert(1, \"Amulet\")\n",
    "print(wizard_inventory)"
   ]
  },
  {
   "cell_type": "markdown",
   "id": "03b16ea9-4c33-48bc-9dd3-73baedb5f926",
   "metadata": {},
   "source": [
    "#### Slicing"
   ]
  },
  {
   "cell_type": "code",
   "execution_count": 4,
   "id": "ae3a7cf7-9b15-4685-871b-1dda21129df8",
   "metadata": {},
   "outputs": [
    {
     "name": "stdout",
     "output_type": "stream",
     "text": [
      "['Amulet', 'Spellbook']\n"
     ]
    }
   ],
   "source": [
    "# Getting a sublist\n",
    "spell_book = wizard_inventory[1:3]\n",
    "print(spell_book)"
   ]
  },
  {
   "cell_type": "markdown",
   "id": "c2528158-e86e-4203-936b-87e5c3fec499",
   "metadata": {},
   "source": [
    "#### List Comprehension"
   ]
  },
  {
   "cell_type": "code",
   "execution_count": 5,
   "id": "5dae3193-eb01-4d7d-99e9-61c453565dc1",
   "metadata": {},
   "outputs": [
    {
     "name": "stdout",
     "output_type": "stream",
     "text": [
      "[1, 4, 9, 16, 25]\n"
     ]
    }
   ],
   "source": [
    "# Creating a new list with squared values\n",
    "squared_numbers = [x**2 for x in range(1, 6)]\n",
    "print(squared_numbers)"
   ]
  },
  {
   "cell_type": "markdown",
   "id": "03e498f0-d6ea-472f-9d70-b1f290c7367d",
   "metadata": {},
   "source": [
    "#### Sorting"
   ]
  },
  {
   "cell_type": "code",
   "execution_count": 6,
   "id": "2ba3ba37-ea13-431c-b636-bb282e70081f",
   "metadata": {},
   "outputs": [
    {
     "name": "stdout",
     "output_type": "stream",
     "text": [
      "['Amulet', 'Crystal Ball', 'Robe', 'Spellbook', 'Wand']\n",
      "['Amulet', 'Crystal Ball', 'Robe', 'Spellbook', 'Wand']\n"
     ]
    }
   ],
   "source": [
    "# Sorting the list in-place\n",
    "wizard_inventory.sort()\n",
    "print(wizard_inventory)\n",
    "\n",
    "# Creating a sorted copy of the list\n",
    "sorted_inventory = sorted(wizard_inventory)\n",
    "print(sorted_inventory)"
   ]
  },
  {
   "cell_type": "markdown",
   "id": "9428197d-bfd3-42ab-ac40-bfc8205bef34",
   "metadata": {},
   "source": [
    "#### Reversing"
   ]
  },
  {
   "cell_type": "code",
   "execution_count": 7,
   "id": "8093e755-07b9-48b5-849a-27941e1a5d83",
   "metadata": {},
   "outputs": [
    {
     "name": "stdout",
     "output_type": "stream",
     "text": [
      "['Wand', 'Spellbook', 'Robe', 'Crystal Ball', 'Amulet']\n"
     ]
    }
   ],
   "source": [
    "# Reversing the list in-place\n",
    "wizard_inventory.reverse()\n",
    "print(wizard_inventory)"
   ]
  },
  {
   "cell_type": "markdown",
   "id": "8d7bf563-40ad-41da-9253-5ee62c444e03",
   "metadata": {},
   "source": [
    "#### Copying"
   ]
  },
  {
   "cell_type": "code",
   "execution_count": 8,
   "id": "ef25ea04-ae96-48d2-8ecf-408f3ecd48d9",
   "metadata": {},
   "outputs": [
    {
     "name": "stdout",
     "output_type": "stream",
     "text": [
      "['Wand', 'Spellbook', 'Robe', 'Crystal Ball', 'Amulet']\n",
      "['Wand', 'Spellbook', 'Robe', 'Crystal Ball', 'Amulet']\n"
     ]
    }
   ],
   "source": [
    "# Shallow copy\n",
    "wizard_inventory_copy = wizard_inventory.copy()\n",
    "print(wizard_inventory_copy)\n",
    "\n",
    "# Deep copy (for nested lists)\n",
    "import copy\n",
    "deep_copy = copy.deepcopy(wizard_inventory)\n",
    "print(deep_copy)"
   ]
  },
  {
   "cell_type": "markdown",
   "id": "ba3ac54a-eca2-4da5-a2f9-fa81e75a068a",
   "metadata": {},
   "source": [
    "#### Checking Membership"
   ]
  },
  {
   "cell_type": "code",
   "execution_count": 9,
   "id": "9b563c93-e0f4-41d4-817c-489d28c003ae",
   "metadata": {},
   "outputs": [
    {
     "name": "stdout",
     "output_type": "stream",
     "text": [
      "True\n"
     ]
    }
   ],
   "source": [
    "# Checking if an item is in the list\n",
    "has_robe = \"Robe\" in wizard_inventory\n",
    "print(has_robe)"
   ]
  },
  {
   "cell_type": "markdown",
   "id": "5802ab81-a122-4638-be0f-d67640092d89",
   "metadata": {},
   "source": [
    "#### List Concatenation"
   ]
  },
  {
   "cell_type": "code",
   "execution_count": 10,
   "id": "96afcd0e-ece3-416f-93c3-979b81941af5",
   "metadata": {},
   "outputs": [
    {
     "name": "stdout",
     "output_type": "stream",
     "text": [
      "['Wand', 'Spellbook', 'Robe', 'Crystal Ball', 'Amulet', 'Crystal Ball', 'Amulet']\n"
     ]
    }
   ],
   "source": [
    "# Combining two lists\n",
    "magical_items = wizard_inventory + [\"Crystal Ball\", \"Amulet\"]\n",
    "print(magical_items)"
   ]
  },
  {
   "cell_type": "markdown",
   "id": "2ce74e26-7631-43fa-b5fc-dde35ce6ecd7",
   "metadata": {},
   "source": [
    "#### List Length"
   ]
  },
  {
   "cell_type": "code",
   "execution_count": 11,
   "id": "5d6c14b1-1b30-4d7b-abbb-59d3ef75bbc3",
   "metadata": {},
   "outputs": [
    {
     "name": "stdout",
     "output_type": "stream",
     "text": [
      "5\n"
     ]
    }
   ],
   "source": [
    "# Finding the length of the list\n",
    "num_items = len(wizard_inventory)\n",
    "print(num_items)"
   ]
  },
  {
   "cell_type": "markdown",
   "id": "86aa953c-cbed-473b-ad70-0bdef667576c",
   "metadata": {},
   "source": [
    "#### Counting Occurrences"
   ]
  },
  {
   "cell_type": "code",
   "execution_count": 12,
   "id": "c111e26a-f513-4404-b66b-5db797ed96ce",
   "metadata": {},
   "outputs": [
    {
     "name": "stdout",
     "output_type": "stream",
     "text": [
      "1\n"
     ]
    }
   ],
   "source": [
    "# Counting occurrences of an item\n",
    "num_wands = wizard_inventory.count(\"Wand\")\n",
    "print(num_wands)"
   ]
  },
  {
   "cell_type": "markdown",
   "id": "b86bc817-cb65-4f42-b93a-052de8e7f5bf",
   "metadata": {},
   "source": [
    "#### Removing by Index"
   ]
  },
  {
   "cell_type": "code",
   "execution_count": 13,
   "id": "0cbcfbb5-b5d6-46b1-bd21-37b1638c0be0",
   "metadata": {},
   "outputs": [
    {
     "name": "stdout",
     "output_type": "stream",
     "text": [
      "Spellbook\n"
     ]
    }
   ],
   "source": [
    "# Removing an item by index\n",
    "removed_item = wizard_inventory.pop(1)\n",
    "print(removed_item)"
   ]
  },
  {
   "cell_type": "markdown",
   "id": "5f03452f-08dc-4c3c-8a57-1ad243f5f6c0",
   "metadata": {},
   "source": [
    "#### Clearing the List"
   ]
  },
  {
   "cell_type": "code",
   "execution_count": 14,
   "id": "5d09a6fc-14dc-405f-8eb7-3e350c3ea826",
   "metadata": {},
   "outputs": [
    {
     "name": "stdout",
     "output_type": "stream",
     "text": [
      "[]\n"
     ]
    }
   ],
   "source": [
    "# Clearing all items from the list\n",
    "wizard_inventory.clear()\n",
    "print(wizard_inventory)"
   ]
  },
  {
   "cell_type": "markdown",
   "id": "ccd0fa0e-9743-45ba-b384-7ec7539e3e00",
   "metadata": {},
   "source": [
    "#### Finding Index of an Item"
   ]
  },
  {
   "cell_type": "code",
   "execution_count": 15,
   "id": "16f7306d-2e0e-496a-b23d-47e762a8ace2",
   "metadata": {},
   "outputs": [
    {
     "name": "stdout",
     "output_type": "stream",
     "text": [
      "1\n"
     ]
    }
   ],
   "source": [
    "# Finding the index of an item\n",
    "wizard_inventory = [\"Wand\", \"Spellbook\", \"Robe\", \"Potion\"]\n",
    "index_of_spellbook = wizard_inventory.index(\"Spellbook\")\n",
    "print(index_of_spellbook)"
   ]
  },
  {
   "cell_type": "markdown",
   "id": "95457478-c949-4fc2-bee1-d8a33c811bb7",
   "metadata": {},
   "source": [
    "#### Iterating Over Elements"
   ]
  },
  {
   "cell_type": "code",
   "execution_count": 16,
   "id": "627e6385-5e25-4645-8171-02b3332ea99e",
   "metadata": {},
   "outputs": [
    {
     "name": "stdout",
     "output_type": "stream",
     "text": [
      "Wand\n",
      "Spellbook\n",
      "Robe\n",
      "Potion\n"
     ]
    }
   ],
   "source": [
    "# Iterating over elements with a for loop\n",
    "for item in wizard_inventory:\n",
    "    print(item)"
   ]
  },
  {
   "cell_type": "markdown",
   "id": "906f440f-7903-47c9-b6a2-f0e992158fe2",
   "metadata": {},
   "source": [
    "#### Combining Lists"
   ]
  },
  {
   "cell_type": "code",
   "execution_count": 17,
   "id": "5474bb1d-5d30-4c58-af65-e49fe83da6be",
   "metadata": {},
   "outputs": [
    {
     "name": "stdout",
     "output_type": "stream",
     "text": [
      "['Wand', 'Spellbook', 'Robe', 'Potion', 'Potion', 'Gloves']\n"
     ]
    }
   ],
   "source": [
    "# Combining lists using extend\n",
    "additional_items = [\"Potion\", \"Gloves\"]\n",
    "wizard_inventory.extend(additional_items)\n",
    "print(wizard_inventory)"
   ]
  },
  {
   "cell_type": "markdown",
   "id": "ecf7c78d-c06b-47fb-a732-ac30a3a3e80b",
   "metadata": {},
   "source": [
    "#### List Repetition"
   ]
  },
  {
   "cell_type": "code",
   "execution_count": 18,
   "id": "02e039e4-3379-49c2-b6c8-d80669ef9f93",
   "metadata": {},
   "outputs": [
    {
     "name": "stdout",
     "output_type": "stream",
     "text": [
      "['Fireball', 'Fireball', 'Fireball']\n"
     ]
    }
   ],
   "source": [
    "# Creating a list with repeated elements\n",
    "repeated_spells = [\"Fireball\"] * 3\n",
    "print(repeated_spells)"
   ]
  },
  {
   "cell_type": "markdown",
   "id": "390a56a9-0f94-4f74-bfee-5965c137e657",
   "metadata": {},
   "source": [
    "#### Filtering with List Comprehension"
   ]
  },
  {
   "cell_type": "code",
   "execution_count": 19,
   "id": "048f8878-9025-48d3-b773-2d2357d88a1e",
   "metadata": {},
   "outputs": [
    {
     "name": "stdout",
     "output_type": "stream",
     "text": [
      "[]\n"
     ]
    }
   ],
   "source": [
    "# Filtering elements with a condition\n",
    "enchanted_items = [item for item in wizard_inventory if \"Enchanted\" in item]\n",
    "print(enchanted_items)"
   ]
  },
  {
   "cell_type": "markdown",
   "id": "5157c09b-050b-4a42-bc6d-4a49a049ffb4",
   "metadata": {},
   "source": [
    "#### Nested Lists"
   ]
  },
  {
   "cell_type": "code",
   "execution_count": 20,
   "id": "14a3b5d7-b82d-4283-9040-dec3a1736862",
   "metadata": {},
   "outputs": [
    {
     "name": "stdout",
     "output_type": "stream",
     "text": [
      "[['Fireball', 'Lightning Bolt'], ['Healing', 'Protection']]\n"
     ]
    }
   ],
   "source": [
    "# Creating a nested list\n",
    "nested_lists = [[\"Fireball\", \"Lightning Bolt\"], [\"Healing\", \"Protection\"]]\n",
    "print(nested_lists)"
   ]
  },
  {
   "cell_type": "markdown",
   "id": "69465695-eb92-4541-901f-5f3241fc4162",
   "metadata": {},
   "source": [
    "#### Mapping"
   ]
  },
  {
   "cell_type": "code",
   "execution_count": 21,
   "id": "fc2890bd-cb0f-49b0-8c6c-0072e0f62067",
   "metadata": {},
   "outputs": [
    {
     "name": "stdout",
     "output_type": "stream",
     "text": [
      "[4, 9, 4, 6, 6, 6]\n"
     ]
    }
   ],
   "source": [
    "# Applying a function to each element\n",
    "spell_lengths = list(map(len, wizard_inventory))\n",
    "print(spell_lengths)"
   ]
  },
  {
   "cell_type": "markdown",
   "id": "97a6d9de-b3d4-4853-98e6-546d309a4816",
   "metadata": {},
   "source": [
    "#### Zipping Lists:"
   ]
  },
  {
   "cell_type": "code",
   "execution_count": 22,
   "id": "f30636e8-eef7-403f-b188-d1186f7eb88e",
   "metadata": {},
   "outputs": [
    {
     "name": "stdout",
     "output_type": "stream",
     "text": [
      "[('Wand', 4), ('Spellbook', 9), ('Robe', 4), ('Potion', 6), ('Potion', 6), ('Gloves', 6)]\n"
     ]
    }
   ],
   "source": [
    "# Pairing elements from two lists\n",
    "magical_combinations = list(zip(wizard_inventory, spell_lengths))\n",
    "print(magical_combinations)"
   ]
  },
  {
   "cell_type": "markdown",
   "id": "f4752b60-d3b9-4e61-8395-180480961eea",
   "metadata": {},
   "source": [
    "#### List as a Stack"
   ]
  },
  {
   "cell_type": "code",
   "execution_count": 23,
   "id": "f3fcb076-8c1e-483c-8593-037e861314c1",
   "metadata": {},
   "outputs": [
    {
     "name": "stdout",
     "output_type": "stream",
     "text": [
      "[]\n"
     ]
    }
   ],
   "source": [
    "# Using the list as a stack (Last In, First Out)\n",
    "spell_stack = []\n",
    "spell_stack.append(\"Fireball\")\n",
    "last_cast_spell = spell_stack.pop()\n",
    "print(spell_stack)"
   ]
  },
  {
   "cell_type": "markdown",
   "id": "1ea2f9d7-5dc7-4c94-8343-3db7dd467c8a",
   "metadata": {},
   "source": [
    "#### List as a Queue"
   ]
  },
  {
   "cell_type": "code",
   "execution_count": 24,
   "id": "aa13fcf4-06b3-474a-a87b-bfd70209015c",
   "metadata": {},
   "outputs": [
    {
     "name": "stdout",
     "output_type": "stream",
     "text": [
      "[]\n"
     ]
    }
   ],
   "source": [
    "# Using the list as a queue (First In, First Out)\n",
    "spell_queue = []\n",
    "spell_queue.append(\"Levitation\")\n",
    "first_cast_spell = spell_queue.pop(0)\n",
    "print(spell_queue)"
   ]
  },
  {
   "cell_type": "markdown",
   "id": "c72aab72-3f90-491d-aec5-a1a33a2e3025",
   "metadata": {},
   "source": [
    "#### List Slicing with Stride"
   ]
  },
  {
   "cell_type": "code",
   "execution_count": 25,
   "id": "6d9a1122-b7a6-4cf3-b2e6-76a6cfcc834c",
   "metadata": {},
   "outputs": [
    {
     "name": "stdout",
     "output_type": "stream",
     "text": [
      "['Wand', 'Robe', 'Potion']\n"
     ]
    }
   ],
   "source": [
    "# Slicing with a specified stride\n",
    "every_second_item = wizard_inventory[::2]\n",
    "print(every_second_item)"
   ]
  },
  {
   "cell_type": "markdown",
   "id": "300e5ddc-d1cb-400e-9a44-07b21b79788f",
   "metadata": {},
   "source": [
    "#### List Comparison"
   ]
  },
  {
   "cell_type": "code",
   "execution_count": 26,
   "id": "f045d360-05ff-46d0-bc77-fe70e910e028",
   "metadata": {},
   "outputs": [
    {
     "name": "stdout",
     "output_type": "stream",
     "text": [
      "False\n"
     ]
    }
   ],
   "source": [
    "# Comparing two lists\n",
    "other_wizard_inventory = [\"Robe\", \"Wand\", \"Spellbook\"]\n",
    "are_equal = wizard_inventory == other_wizard_inventory\n",
    "print(are_equal)"
   ]
  },
  {
   "cell_type": "markdown",
   "id": "e183eb7e-900d-4df8-b6af-ec91a746d3eb",
   "metadata": {},
   "source": [
    "#### List Comprehension with Conditional Expression"
   ]
  },
  {
   "cell_type": "code",
   "execution_count": 27,
   "id": "9f2f75fc-975d-4c7e-bbad-af92df5f98b5",
   "metadata": {},
   "outputs": [
    {
     "name": "stdout",
     "output_type": "stream",
     "text": [
      "['Regular', 'Regular', 'Regular', 'Regular', 'Regular', 'Regular']\n"
     ]
    }
   ],
   "source": [
    "# List comprehension with a conditional expression\n",
    "enchanted_items = [item if \"Enchanted\" in item else \"Regular\" for item in wizard_inventory]\n",
    "print(enchanted_items)"
   ]
  },
  {
   "cell_type": "markdown",
   "id": "154049ad-a29c-4652-b856-98af75d27341",
   "metadata": {},
   "source": [
    "#### Flattening Nested Lists"
   ]
  },
  {
   "cell_type": "code",
   "execution_count": 28,
   "id": "2cf163d2-84a3-44c4-90f9-f540c6ca1db1",
   "metadata": {},
   "outputs": [
    {
     "name": "stdout",
     "output_type": "stream",
     "text": [
      "[['Fireball', 'Lightning Bolt'], ['Healing', 'Protection']]\n",
      "['Fireball', 'Lightning Bolt', 'Healing', 'Protection']\n"
     ]
    }
   ],
   "source": [
    "# Flattening a nested list\n",
    "nested_lists = [[\"Fireball\", \"Lightning Bolt\"], [\"Healing\", \"Protection\"]]\n",
    "flattened_list = [spell for sublist in nested_lists for spell in sublist]\n",
    "print(nested_lists)\n",
    "print(flattened_list)"
   ]
  },
  {
   "cell_type": "markdown",
   "id": "7b1af3a6-2568-4983-a55d-c63dd73931f7",
   "metadata": {},
   "source": [
    "#### List Conversion to Set"
   ]
  },
  {
   "cell_type": "code",
   "execution_count": 29,
   "id": "a6f7d073-9d43-4398-8018-86ef98238714",
   "metadata": {},
   "outputs": [
    {
     "name": "stdout",
     "output_type": "stream",
     "text": [
      "['Potion', 'Wand', 'Gloves', 'Spellbook', 'Robe']\n"
     ]
    }
   ],
   "source": [
    "# Converting a list to a set to remove duplicates\n",
    "unique_spells = list(set(wizard_inventory))\n",
    "print(unique_spells)"
   ]
  },
  {
   "cell_type": "markdown",
   "id": "00b97c90-f401-4181-afaa-c18a3d4c67d8",
   "metadata": {},
   "source": [
    "#### List Reversal"
   ]
  },
  {
   "cell_type": "code",
   "execution_count": 30,
   "id": "12a453f9-43f7-4de9-889c-e15931ba3eed",
   "metadata": {},
   "outputs": [
    {
     "name": "stdout",
     "output_type": "stream",
     "text": [
      "['Gloves', 'Potion', 'Potion', 'Robe', 'Spellbook', 'Wand']\n"
     ]
    }
   ],
   "source": [
    "# Reversing the order of elements in the list\n",
    "reversed_inventory = wizard_inventory[::-1]\n",
    "print(reversed_inventory)"
   ]
  },
  {
   "cell_type": "markdown",
   "id": "3e35f47b-b1ac-4f8a-9790-3a22cd4bb478",
   "metadata": {},
   "source": [
    "#### Finding Minimum and Maximum"
   ]
  },
  {
   "cell_type": "code",
   "execution_count": 31,
   "id": "c13e05a3-7d10-4fe9-a3cc-8077c75a1dac",
   "metadata": {},
   "outputs": [
    {
     "name": "stdout",
     "output_type": "stream",
     "text": [
      "4\n",
      "9\n"
     ]
    }
   ],
   "source": [
    "# Finding the minimum and maximum values in a list\n",
    "min_value = min(spell_lengths)\n",
    "max_value = max(spell_lengths)\n",
    "print(min_value)\n",
    "print(max_value)"
   ]
  },
  {
   "cell_type": "markdown",
   "id": "20286914-362b-43f9-9886-5110246a8098",
   "metadata": {},
   "source": [
    "#### Shuffling a List"
   ]
  },
  {
   "cell_type": "code",
   "execution_count": 32,
   "id": "5b37214d-f901-413c-b95e-1a9196ffeb6f",
   "metadata": {},
   "outputs": [
    {
     "name": "stdout",
     "output_type": "stream",
     "text": [
      "['Gloves', 'Potion', 'Robe', 'Spellbook', 'Potion', 'Wand']\n"
     ]
    }
   ],
   "source": [
    "# Shuffling the elements of a list\n",
    "import random\n",
    "random.shuffle(wizard_inventory)\n",
    "print(wizard_inventory)"
   ]
  },
  {
   "cell_type": "markdown",
   "id": "b61e3a77-a497-4669-a7bb-17f6b7eefb5b",
   "metadata": {},
   "source": [
    "#### List Concatenation with '+' Operator"
   ]
  },
  {
   "cell_type": "code",
   "execution_count": 33,
   "id": "b1d50850-66b4-4465-b650-6e1f0a187caf",
   "metadata": {},
   "outputs": [
    {
     "name": "stdout",
     "output_type": "stream",
     "text": [
      "['Gloves', 'Potion', 'Robe', 'Spellbook', 'Potion', 'Wand', 'Crystal Ball', 'Amulet']\n"
     ]
    }
   ],
   "source": [
    "# Concatenating lists using the '+' operator\n",
    "magical_items = wizard_inventory + [\"Crystal Ball\", \"Amulet\"]\n",
    "print(magical_items)"
   ]
  },
  {
   "cell_type": "markdown",
   "id": "e46a4e01-e590-4b4b-bab6-b41f5b805dda",
   "metadata": {},
   "source": [
    "#### List Unpacking"
   ]
  },
  {
   "cell_type": "code",
   "execution_count": 34,
   "id": "19196183-ae8d-4c65-af8b-de2d2bdc6aab",
   "metadata": {},
   "outputs": [
    {
     "name": "stdout",
     "output_type": "stream",
     "text": [
      "Gloves\n",
      "Potion\n",
      "Robe Spellbook Potion Wand\n"
     ]
    }
   ],
   "source": [
    "# Unpacking elements into individual variables\n",
    "first_item, second_item, *remaining_items = wizard_inventory\n",
    "print(first_item)\n",
    "print(second_item)\n",
    "print(*remaining_items)"
   ]
  },
  {
   "cell_type": "markdown",
   "id": "1832eb3c-e0e9-45e0-9847-131e87199378",
   "metadata": {},
   "source": [
    "#### Enumerating a List"
   ]
  },
  {
   "cell_type": "code",
   "execution_count": 35,
   "id": "8c176ec3-825b-46cb-927a-092b69e1b618",
   "metadata": {},
   "outputs": [
    {
     "name": "stdout",
     "output_type": "stream",
     "text": [
      "0 Gloves\n",
      "1 Potion\n",
      "2 Robe\n",
      "3 Spellbook\n",
      "4 Potion\n",
      "5 Wand\n"
     ]
    }
   ],
   "source": [
    "# Enumerating elements of a list with their indices\n",
    "for index, item in enumerate(wizard_inventory):\n",
    "    print(index, item)\n"
   ]
  },
  {
   "cell_type": "markdown",
   "id": "627d46a1-cd90-424f-b0ff-9bfc93b66891",
   "metadata": {},
   "source": [
    "#### List Comprehension with Condition"
   ]
  },
  {
   "cell_type": "code",
   "execution_count": 36,
   "id": "9be8aa12-9233-4592-af68-2b44fb362f27",
   "metadata": {},
   "outputs": [
    {
     "name": "stdout",
     "output_type": "stream",
     "text": [
      "[]\n"
     ]
    }
   ],
   "source": [
    "# Creating a new list with a condition\n",
    "powerful_spells = [spell for spell in wizard_inventory if \"Powerful\" in spell]\n",
    "print(powerful_spells)"
   ]
  },
  {
   "cell_type": "markdown",
   "id": "3e62e433-ac19-4b11-8c64-263895ce1f7c",
   "metadata": {},
   "source": [
    "#### List Intersection"
   ]
  },
  {
   "cell_type": "code",
   "execution_count": 37,
   "id": "e6077eb7-d55c-4cf0-8f33-a022e1381582",
   "metadata": {},
   "outputs": [
    {
     "name": "stdout",
     "output_type": "stream",
     "text": [
      "['Potion', 'Gloves']\n"
     ]
    }
   ],
   "source": [
    "# Finding common elements between two lists\n",
    "common_items = list(set(wizard_inventory) & set(additional_items))\n",
    "print(common_items)"
   ]
  },
  {
   "cell_type": "markdown",
   "id": "269184eb-2ff3-4068-9576-51d16c918003",
   "metadata": {},
   "source": [
    "#### List Difference"
   ]
  },
  {
   "cell_type": "code",
   "execution_count": 38,
   "id": "8ad897bc-127f-4c6f-985a-293562b70ef2",
   "metadata": {},
   "outputs": [
    {
     "name": "stdout",
     "output_type": "stream",
     "text": [
      "['Spellbook', 'Robe', 'Wand']\n"
     ]
    }
   ],
   "source": [
    "# Finding elements unique to the first list\n",
    "unique_items = list(set(wizard_inventory) - set(additional_items))\n",
    "print(unique_items)"
   ]
  },
  {
   "cell_type": "markdown",
   "id": "f351dc0f-e9f9-4b3f-b8ef-061d07ceecf4",
   "metadata": {},
   "source": [
    "#### List Removal with a Condition"
   ]
  },
  {
   "cell_type": "code",
   "execution_count": 39,
   "id": "c81c474c-c29e-4d52-a959-7becb89721c2",
   "metadata": {},
   "outputs": [
    {
     "name": "stdout",
     "output_type": "stream",
     "text": [
      "['Gloves', 'Potion', 'Robe', 'Spellbook', 'Potion', 'Wand']\n"
     ]
    }
   ],
   "source": [
    "# Removing elements based on a condition\n",
    "wizard_inventory = [item for item in wizard_inventory if \"Cursed\" not in item]\n",
    "print(wizard_inventory)"
   ]
  },
  {
   "cell_type": "markdown",
   "id": "a0215506-ce95-4639-bf3c-82c1db235ef2",
   "metadata": {},
   "source": [
    "#### List Sorting with Custom Key"
   ]
  },
  {
   "cell_type": "code",
   "execution_count": 40,
   "id": "b7171d55-34a2-406b-b75d-302a7def4365",
   "metadata": {},
   "outputs": [
    {
     "name": "stdout",
     "output_type": "stream",
     "text": [
      "['Robe', 'Wand', 'Gloves', 'Potion', 'Potion', 'Spellbook']\n"
     ]
    }
   ],
   "source": [
    "# Sorting the list based on a custom key (e.g., length of the spell)\n",
    "sorted_by_length = sorted(wizard_inventory, key=len)\n",
    "print(sorted_by_length)"
   ]
  },
  {
   "cell_type": "markdown",
   "id": "aa4b7bb6-a470-4321-9f8d-a090fdae2e13",
   "metadata": {},
   "source": [
    "#### List Concatenation with '+='"
   ]
  },
  {
   "cell_type": "code",
   "execution_count": 41,
   "id": "e65d82e9-e5c5-48eb-8b6b-81bf9a66ca10",
   "metadata": {},
   "outputs": [
    {
     "name": "stdout",
     "output_type": "stream",
     "text": [
      "['Gloves', 'Potion', 'Robe', 'Spellbook', 'Potion', 'Wand', 'Amulet', 'Crystal Ball']\n"
     ]
    }
   ],
   "source": [
    "# Concatenating lists using '+='\n",
    "additional_items = [\"Amulet\", \"Crystal Ball\"]\n",
    "wizard_inventory += additional_items\n",
    "print(wizard_inventory)"
   ]
  },
  {
   "cell_type": "markdown",
   "id": "96957891-b65f-45d2-a028-2b69014af987",
   "metadata": {},
   "source": [
    "#### List Membership Testing"
   ]
  },
  {
   "cell_type": "code",
   "execution_count": 42,
   "id": "041c8cac-766f-4fda-8cf2-a2f7ec5992cf",
   "metadata": {},
   "outputs": [
    {
     "name": "stdout",
     "output_type": "stream",
     "text": [
      "True\n"
     ]
    }
   ],
   "source": [
    "# Testing if all items are in the list\n",
    "all_items_present = all(item in wizard_inventory for item in [\"Wand\", \"Spellbook\"])\n",
    "print(all_items_present)"
   ]
  },
  {
   "cell_type": "markdown",
   "id": "a335f366-6f14-4b26-a47d-c4c4641c5970",
   "metadata": {},
   "source": [
    "#### List Initialization with a Range"
   ]
  },
  {
   "cell_type": "code",
   "execution_count": 43,
   "id": "d9ac1315-e860-416d-8efe-082ebf3fdb6c",
   "metadata": {},
   "outputs": [
    {
     "name": "stdout",
     "output_type": "stream",
     "text": [
      "[1, 3, 5, 7, 9]\n"
     ]
    }
   ],
   "source": [
    "# Initializing a list with a range of numbers\n",
    "numbers = list(range(1, 10, 2))  # [1, 3, 5, 7, 9]\n",
    "print(numbers)"
   ]
  },
  {
   "cell_type": "markdown",
   "id": "bfd951c9-644c-4246-ac96-d6cf5097aaae",
   "metadata": {},
   "source": [
    "#### List Indexing with a Step"
   ]
  },
  {
   "cell_type": "code",
   "execution_count": 44,
   "id": "39b84bf7-a76f-40db-b38a-ffbc942decdc",
   "metadata": {},
   "outputs": [
    {
     "name": "stdout",
     "output_type": "stream",
     "text": [
      "['Gloves', 'Robe', 'Potion', 'Amulet']\n"
     ]
    }
   ],
   "source": [
    "# Accessing elements with a step in indexing\n",
    "every_second_spell = wizard_inventory[::2]\n",
    "print(every_second_spell)"
   ]
  },
  {
   "cell_type": "markdown",
   "id": "e8af8ea5-18c6-419b-8758-3360c8ec55c1",
   "metadata": {},
   "source": [
    "# Tuples - Immutable Elegance"
   ]
  },
  {
   "cell_type": "markdown",
   "id": "db4d5b4a-8abb-43d7-bba4-634d42b1fca1",
   "metadata": {},
   "source": [
    "#### Tuple Initialization"
   ]
  },
  {
   "cell_type": "code",
   "execution_count": 47,
   "id": "61c4d308-7487-49f9-9c36-17652760caba",
   "metadata": {},
   "outputs": [
    {
     "name": "stdout",
     "output_type": "stream",
     "text": [
      "('Silk', 'Blue', 'Enchanted')\n"
     ]
    }
   ],
   "source": [
    "# Creating a tuple\n",
    "wizard_robe = (\"Silk\", \"Blue\", \"Enchanted\")\n",
    "print(wizard_robe)"
   ]
  },
  {
   "cell_type": "markdown",
   "id": "fd86be75-96a5-4f41-9924-055ddf1ba1c0",
   "metadata": {},
   "source": [
    "#### Accessing Elements"
   ]
  },
  {
   "cell_type": "code",
   "execution_count": 48,
   "id": "77871e8b-ebde-4b84-adba-8dd1ffa31137",
   "metadata": {},
   "outputs": [
    {
     "name": "stdout",
     "output_type": "stream",
     "text": [
      "Silk\n"
     ]
    }
   ],
   "source": [
    "# Accessing elements in a tuple\n",
    "robe_material = wizard_robe[0]\n",
    "print(robe_material)"
   ]
  },
  {
   "cell_type": "markdown",
   "id": "d6b371bb-c72f-417d-a964-174774283232",
   "metadata": {},
   "source": [
    "#### Nested Tuples"
   ]
  },
  {
   "cell_type": "code",
   "execution_count": 49,
   "id": "44c8862f-8c41-49da-96ae-54fe51c11029",
   "metadata": {},
   "outputs": [
    {
     "name": "stdout",
     "output_type": "stream",
     "text": [
      "(('Wand', 'Crystal'), ('Spellbook', 'Amulet'))\n"
     ]
    }
   ],
   "source": [
    "# Creating nested tuples\n",
    "magical_artifacts = ((\"Wand\", \"Crystal\"), (\"Spellbook\", \"Amulet\"))\n",
    "print(magical_artifacts)\n"
   ]
  },
  {
   "cell_type": "markdown",
   "id": "5f3a916a-69c7-4ac8-9224-b236b79f8415",
   "metadata": {},
   "source": [
    "#### Tuple Unpacking"
   ]
  },
  {
   "cell_type": "code",
   "execution_count": 50,
   "id": "1226f04e-0a50-4462-bb85-d8fcd592ec01",
   "metadata": {},
   "outputs": [
    {
     "name": "stdout",
     "output_type": "stream",
     "text": [
      "Silk Blue Enchanted\n"
     ]
    }
   ],
   "source": [
    "# Unpacking elements into variables\n",
    "material, color, enchantment = wizard_robe\n",
    "print(material, color, enchantment)\n"
   ]
  },
  {
   "cell_type": "markdown",
   "id": "962ae3a3-d7f1-4dd0-9fc9-8206934007c5",
   "metadata": {},
   "source": [
    "#### Concatenating Tuples"
   ]
  },
  {
   "cell_type": "code",
   "execution_count": 51,
   "id": "d259ceaa-420b-4b38-b6c9-8f80d1a6731b",
   "metadata": {},
   "outputs": [
    {
     "name": "stdout",
     "output_type": "stream",
     "text": [
      "('Silk', 'Blue', 'Enchanted', 'Gloves', 'Golden')\n"
     ]
    }
   ],
   "source": [
    "# Concatenating tuples\n",
    "wizard_ensemble = wizard_robe + (\"Gloves\", \"Golden\")\n",
    "print(wizard_ensemble)\n"
   ]
  },
  {
   "cell_type": "markdown",
   "id": "03998b75-0a6e-4b5e-9825-510245d5c521",
   "metadata": {},
   "source": [
    "#### Repeating Tuples"
   ]
  },
  {
   "cell_type": "code",
   "execution_count": 52,
   "id": "d35b9648-ec00-41cc-ab4f-e1e47ea758cb",
   "metadata": {},
   "outputs": [
    {
     "name": "stdout",
     "output_type": "stream",
     "text": [
      "('Silk', 'Blue', 'Enchanted', 'Silk', 'Blue', 'Enchanted')\n"
     ]
    }
   ],
   "source": [
    "# Repeating a tuple\n",
    "repeated_robe = wizard_robe * 2\n",
    "print(repeated_robe)\n"
   ]
  },
  {
   "cell_type": "markdown",
   "id": "855df419-8c06-458d-9a42-c0530755e645",
   "metadata": {},
   "source": [
    "#### Checking Membership"
   ]
  },
  {
   "cell_type": "code",
   "execution_count": 53,
   "id": "eedbd7b7-e7b3-4b61-81fe-3e6e7f39d572",
   "metadata": {},
   "outputs": [
    {
     "name": "stdout",
     "output_type": "stream",
     "text": [
      "True\n"
     ]
    }
   ],
   "source": [
    "# Checking if an item is in the tuple\n",
    "has_enchantment = \"Enchanted\" in wizard_robe\n",
    "print(has_enchantment)\n"
   ]
  },
  {
   "cell_type": "markdown",
   "id": "77051f79-f73e-4631-bbd7-5cb777601cc1",
   "metadata": {},
   "source": [
    "#### Tuple Length"
   ]
  },
  {
   "cell_type": "code",
   "execution_count": 54,
   "id": "546ef9bb-285c-40a1-929b-fbd70b4656d1",
   "metadata": {},
   "outputs": [
    {
     "name": "stdout",
     "output_type": "stream",
     "text": [
      "3\n"
     ]
    }
   ],
   "source": [
    "# Finding the length of a tuple\n",
    "num_elements = len(wizard_robe)\n",
    "print(num_elements)\n"
   ]
  },
  {
   "cell_type": "markdown",
   "id": "11fb3ee0-18dd-4af1-a70e-4b66abb1e655",
   "metadata": {},
   "source": [
    "#### Slicing Tuples"
   ]
  },
  {
   "cell_type": "code",
   "execution_count": 55,
   "id": "69cec125-0385-471a-a612-e6f2a25152fe",
   "metadata": {},
   "outputs": [
    {
     "name": "stdout",
     "output_type": "stream",
     "text": [
      "('Blue', 'Enchanted', 'Gloves')\n"
     ]
    }
   ],
   "source": [
    "# Slicing a tuple\n",
    "sliced_robe = wizard_ensemble[1:4]\n",
    "print(sliced_robe)\n"
   ]
  },
  {
   "cell_type": "markdown",
   "id": "ed2bf2e2-a06d-4fd2-ae9f-58ff0bd4f3f7",
   "metadata": {},
   "source": [
    "#### Tuples in a List"
   ]
  },
  {
   "cell_type": "code",
   "execution_count": 56,
   "id": "12e567e4-c15f-4158-9cea-2f4b26158895",
   "metadata": {},
   "outputs": [
    {
     "name": "stdout",
     "output_type": "stream",
     "text": [
      "[('Robe', 'Blue'), ('Hat', 'Pointed'), ('Boots', 'Leather')]\n"
     ]
    }
   ],
   "source": [
    "# Using tuples in a list\n",
    "wizard_outfits = [(\"Robe\", \"Blue\"), (\"Hat\", \"Pointed\"), (\"Boots\", \"Leather\")]\n",
    "print(wizard_outfits)\n"
   ]
  },
  {
   "cell_type": "markdown",
   "id": "5e940beb-36c4-4c93-bfb2-4186904cfd2c",
   "metadata": {},
   "source": [
    "#### Counting Occurrences"
   ]
  },
  {
   "cell_type": "code",
   "execution_count": 59,
   "id": "c4fd86f3-5401-4a71-9939-451576b281c7",
   "metadata": {},
   "outputs": [
    {
     "name": "stdout",
     "output_type": "stream",
     "text": [
      "1\n"
     ]
    }
   ],
   "source": [
    "# Counting occurrences of an item\n",
    "num_earth_crystals = spell_components.count(\"Earth Crystal\")\n",
    "print(num_earth_crystals)"
   ]
  },
  {
   "cell_type": "markdown",
   "id": "d4b980dc-5193-42d9-b353-264856f2a94f",
   "metadata": {},
   "source": [
    "#### Tuple Initialization with a Range"
   ]
  },
  {
   "cell_type": "code",
   "execution_count": 60,
   "id": "ef815479-8649-43be-8acc-f0f054f56c6a",
   "metadata": {},
   "outputs": [
    {
     "name": "stdout",
     "output_type": "stream",
     "text": [
      "(1, 3, 5, 7, 9)\n"
     ]
    }
   ],
   "source": [
    "# Initializing a tuple with a range of numbers\n",
    "numbers_tuple = tuple(range(1, 10, 2))\n",
    "print(numbers_tuple)"
   ]
  },
  {
   "cell_type": "markdown",
   "id": "286bc276-a13a-4ab5-877e-5bdb3333fa24",
   "metadata": {},
   "source": [
    "#### Tuple Indexing with a Step"
   ]
  },
  {
   "cell_type": "code",
   "execution_count": 62,
   "id": "e0e01927-f405-4b7f-9ebf-f836ba1a7502",
   "metadata": {},
   "outputs": [
    {
     "name": "stdout",
     "output_type": "stream",
     "text": [
      "('Fire Essence', 'Water Droplet', 'Air Feather', 'Earth Crystal')\n",
      "('Fire Essence', 'Air Feather')\n"
     ]
    }
   ],
   "source": [
    "# Accessing elements with a step in indexing\n",
    "print(spell_components)\n",
    "every_second_element = spell_components[::2]\n",
    "print(every_second_element)"
   ]
  },
  {
   "cell_type": "markdown",
   "id": "4a1d7852-5651-4b9d-87e8-bb0052acda0b",
   "metadata": {},
   "source": [
    "#### Tuple Sorting"
   ]
  },
  {
   "cell_type": "code",
   "execution_count": 63,
   "id": "06d0161a-f615-4cf3-92d4-c2c3a0ef79ca",
   "metadata": {},
   "outputs": [
    {
     "name": "stdout",
     "output_type": "stream",
     "text": [
      "('Air Feather', 'Earth Crystal', 'Fire Essence', 'Water Droplet')\n"
     ]
    }
   ],
   "source": [
    "# Creating a sorted copy of the tuple\n",
    "sorted_components = tuple(sorted(spell_components))\n",
    "print(sorted_components)"
   ]
  },
  {
   "cell_type": "markdown",
   "id": "90b37436-2d2b-4a1e-bd80-eeee72123ed9",
   "metadata": {},
   "source": [
    "#### Tuple Reverse Iteration"
   ]
  },
  {
   "cell_type": "code",
   "execution_count": 64,
   "id": "71da76f7-66ae-48dd-8910-2dee6a26d58f",
   "metadata": {},
   "outputs": [
    {
     "name": "stdout",
     "output_type": "stream",
     "text": [
      "Earth Crystal\n",
      "Air Feather\n",
      "Water Droplet\n",
      "Fire Essence\n"
     ]
    }
   ],
   "source": [
    "# Iterating over the tuple in reverse\n",
    "for element in reversed(spell_components):\n",
    "    print(element)"
   ]
  },
  {
   "cell_type": "markdown",
   "id": "c21befbf-ca33-444e-a934-e99862740fdf",
   "metadata": {},
   "source": [
    "#### Tuple Indexing with Negative Values"
   ]
  },
  {
   "cell_type": "code",
   "execution_count": 65,
   "id": "9b7d3d82-a184-414e-b913-3734e020e803",
   "metadata": {},
   "outputs": [
    {
     "name": "stdout",
     "output_type": "stream",
     "text": [
      "('Fire Essence', 'Water Droplet', 'Air Feather', 'Earth Crystal')\n",
      "Air Feather\n"
     ]
    }
   ],
   "source": [
    "# Accessing elements with negative indexing\n",
    "print(spell_components)\n",
    "last_but_one_element = spell_components[-2]\n",
    "print(last_but_one_element)"
   ]
  },
  {
   "cell_type": "markdown",
   "id": "52624329-6603-40ed-9e42-5b0a14c6f6bd",
   "metadata": {},
   "source": [
    "#### Tuple Membership Testing"
   ]
  },
  {
   "cell_type": "code",
   "execution_count": 66,
   "id": "56351eb8-a44b-4b17-aac6-abdc4b655847",
   "metadata": {},
   "outputs": [
    {
     "name": "stdout",
     "output_type": "stream",
     "text": [
      "False\n"
     ]
    }
   ],
   "source": [
    "# Testing if all items are in the tuple\n",
    "all_elements_present = all(element in spell_components for element in (\"Fire\", \"Air\"))\n",
    "print(all_elements_present)"
   ]
  },
  {
   "cell_type": "markdown",
   "id": "d88c47aa-2117-46df-a5f0-31b97acd4574",
   "metadata": {},
   "source": [
    "#### Tuple Initialization with a Function"
   ]
  },
  {
   "cell_type": "code",
   "execution_count": 67,
   "id": "d45b3727-b21b-4644-8e27-960ab95d34b2",
   "metadata": {},
   "outputs": [
    {
     "name": "stdout",
     "output_type": "stream",
     "text": [
      "(12, 13, 11, 13)\n"
     ]
    }
   ],
   "source": [
    "# Initializing a tuple with a function\n",
    "tuple_of_lengths = tuple(len(element) for element in spell_components)\n",
    "print(tuple_of_lengths)"
   ]
  },
  {
   "cell_type": "markdown",
   "id": "e74be4dd-2cde-46d2-be31-a9dfb0eed39f",
   "metadata": {},
   "source": [
    "#### Tuple Filtering with a Condition"
   ]
  },
  {
   "cell_type": "code",
   "execution_count": 68,
   "id": "272f374a-8be7-4fda-a656-2abd3f4d829c",
   "metadata": {},
   "outputs": [
    {
     "name": "stdout",
     "output_type": "stream",
     "text": [
      "('Fire Essence', 'Water Droplet', 'Air Feather', 'Earth Crystal')\n"
     ]
    }
   ],
   "source": [
    "# Filtering elements with a condition\n",
    "long_elements = tuple(element for element in spell_components if len(element) > 8)\n",
    "print(long_elements)"
   ]
  },
  {
   "cell_type": "markdown",
   "id": "03ad441c-f0ea-41bb-9939-3b5337690815",
   "metadata": {},
   "source": [
    "#### Tuple Comparison"
   ]
  },
  {
   "cell_type": "code",
   "execution_count": 70,
   "id": "a1de68ee-0767-46d4-a549-86924313d95b",
   "metadata": {},
   "outputs": [
    {
     "name": "stdout",
     "output_type": "stream",
     "text": [
      "True\n"
     ]
    }
   ],
   "source": [
    "# Comparing tuples\n",
    "is_same = spell_components == long_elements\n",
    "print(is_same)"
   ]
  },
  {
   "cell_type": "markdown",
   "id": "1372a175-1dbb-4a7a-9695-e5c9009778be",
   "metadata": {},
   "source": [
    "#### Tuple Clearing"
   ]
  },
  {
   "cell_type": "code",
   "execution_count": 71,
   "id": "b804eb6d-4c97-418b-b7e4-e6c225738336",
   "metadata": {},
   "outputs": [
    {
     "name": "stdout",
     "output_type": "stream",
     "text": [
      "()\n"
     ]
    }
   ],
   "source": [
    "# Clearing all items from the tuple (convert to empty tuple)\n",
    "spell_components = tuple()\n",
    "print(spell_components)"
   ]
  },
  {
   "cell_type": "markdown",
   "id": "d521f29e-9f1c-4bd8-8259-ed3ffc6b86f6",
   "metadata": {},
   "source": [
    "#### Tuple Conversion to List"
   ]
  },
  {
   "cell_type": "code",
   "execution_count": 84,
   "id": "e58a02b5-8cf0-469f-b7c8-ffcbe389ba83",
   "metadata": {},
   "outputs": [
    {
     "name": "stdout",
     "output_type": "stream",
     "text": [
      "[]\n"
     ]
    }
   ],
   "source": [
    "# Converting a tuple to a list\n",
    "components_list = list(spell_components)\n",
    "print(components_list)"
   ]
  },
  {
   "cell_type": "markdown",
   "id": "95550a73-cf89-4562-8a54-42ba4fe56b66",
   "metadata": {},
   "source": [
    "#### Tuple Filtering with a Lambda Function"
   ]
  },
  {
   "cell_type": "code",
   "execution_count": 79,
   "id": "7672bd05-53e6-4f32-bf42-6dad9a9e6526",
   "metadata": {},
   "outputs": [
    {
     "name": "stdout",
     "output_type": "stream",
     "text": [
      "('Fire Essence', 'Water Droplet', 'Air Feather', 'Earth Crystal')\n",
      "('Air Feather',)\n"
     ]
    }
   ],
   "source": [
    "# Filtering elements with a lambda function\n",
    "print(long_elements)\n",
    "short_elements = tuple(filter(lambda x: len(x) < 12, long_elements))\n",
    "print(short_elements)"
   ]
  },
  {
   "cell_type": "markdown",
   "id": "a90b6046-d62f-422b-806a-6242efa27972",
   "metadata": {},
   "source": [
    "#### Tuple Mapping with a Function"
   ]
  },
  {
   "cell_type": "code",
   "execution_count": 81,
   "id": "03ec404e-2af5-4f2c-baee-d8225d01b265",
   "metadata": {},
   "outputs": [
    {
     "name": "stdout",
     "output_type": "stream",
     "text": [
      "('FIRE ESSENCE', 'WATER DROPLET', 'AIR FEATHER', 'EARTH CRYSTAL')\n"
     ]
    }
   ],
   "source": [
    "# Applying a function to each element\n",
    "uppercase_elements = tuple(map(str.upper, long_elements))\n",
    "print(uppercase_elements)"
   ]
  },
  {
   "cell_type": "markdown",
   "id": "1e4e5a47-181a-43a7-a2f9-2635b4e5e229",
   "metadata": {},
   "source": [
    "#### Tuple Initialization with User Input"
   ]
  },
  {
   "cell_type": "code",
   "execution_count": 83,
   "id": "873fceb6-9ff1-43cc-b8d3-a6be4f5e1c25",
   "metadata": {},
   "outputs": [
    {
     "name": "stdin",
     "output_type": "stream",
     "text": [
      "Enter elements separated by commas:  4,67,78\n"
     ]
    },
    {
     "name": "stdout",
     "output_type": "stream",
     "text": [
      "('4', '67', '78')\n"
     ]
    }
   ],
   "source": [
    "# Initializing a tuple with user input\n",
    "user_input_tuple = tuple(input(\"Enter elements separated by commas: \").split(\",\"))\n",
    "print(user_input_tuple)"
   ]
  },
  {
   "cell_type": "markdown",
   "id": "bead7345-b219-437a-a457-2b34895bd390",
   "metadata": {},
   "source": [
    "#### Tuple Conversion to Set"
   ]
  },
  {
   "cell_type": "code",
   "execution_count": 88,
   "id": "c250f1b6-afc7-4547-9568-18a61284bff1",
   "metadata": {},
   "outputs": [
    {
     "name": "stdout",
     "output_type": "stream",
     "text": [
      "{'Air Feather', 'Fire Essence', 'Earth Crystal', 'Water Droplet'}\n"
     ]
    }
   ],
   "source": [
    "# Converting a tuple to a set\n",
    "unique_elements_set = set(long_elements)\n",
    "print(unique_elements_set)"
   ]
  },
  {
   "cell_type": "markdown",
   "id": "13dcc690-9ea7-438e-9e64-17da2e65b9bb",
   "metadata": {},
   "source": [
    "#### Tuple Unpacking with Asterisk"
   ]
  },
  {
   "cell_type": "code",
   "execution_count": 91,
   "id": "cee8a18f-c2da-43cc-9d24-2c045f8d8ad9",
   "metadata": {},
   "outputs": [
    {
     "name": "stdout",
     "output_type": "stream",
     "text": [
      "Air Feather\n",
      "['Fire Essence', 'Earth Crystal', 'Water Droplet']\n"
     ]
    }
   ],
   "source": [
    "# Unpacking elements with asterisk\n",
    "first_element, *rest_of_elements = unique_elements_set\n",
    "print(first_element)\n",
    "print(rest_of_elements)"
   ]
  },
  {
   "cell_type": "markdown",
   "id": "827404e9-8451-466b-94a1-22fb12a5a705",
   "metadata": {},
   "source": [
    "#### Tuple Conversion to String"
   ]
  },
  {
   "cell_type": "code",
   "execution_count": 93,
   "id": "d7324357-c29d-41ee-830e-718da65a04b3",
   "metadata": {},
   "outputs": [
    {
     "name": "stdout",
     "output_type": "stream",
     "text": [
      "{'Air Feather', 'Fire Essence', 'Earth Crystal', 'Water Droplet'}\n"
     ]
    }
   ],
   "source": [
    "# Converting a tuple to a string\n",
    "spell_components=unique_elements_set\n",
    "tuple_string = str(spell_components)\n",
    "print(tuple_string)"
   ]
  },
  {
   "cell_type": "markdown",
   "id": "32a95276-e9e6-4ab2-9976-6a7bf1307f07",
   "metadata": {},
   "source": [
    "#### Tuple Joining with a Separator"
   ]
  },
  {
   "cell_type": "code",
   "execution_count": 94,
   "id": "9740948c-09f4-47f5-a03c-aa341b69b64e",
   "metadata": {},
   "outputs": [
    {
     "name": "stdout",
     "output_type": "stream",
     "text": [
      "Air Feather-Fire Essence-Earth Crystal-Water Droplet\n"
     ]
    }
   ],
   "source": [
    "# Joining tuple elements with a separator\n",
    "components_string = \"-\".join(spell_components)\n",
    "print(components_string)"
   ]
  },
  {
   "cell_type": "markdown",
   "id": "ae2c59d7-9421-4d40-aa06-b122673ac8cd",
   "metadata": {},
   "source": [
    "#### Tuple Initialization with Zip"
   ]
  },
  {
   "cell_type": "code",
   "execution_count": 97,
   "id": "f31051b0-e888-4bb0-982c-667b23f57206",
   "metadata": {},
   "outputs": [
    {
     "name": "stdout",
     "output_type": "stream",
     "text": [
      "(('Air Feather', '4'), ('Fire Essence', '67'), ('Earth Crystal', '78'))\n"
     ]
    }
   ],
   "source": [
    "# Initializing a tuple using zip\n",
    "paired_elements = tuple(zip(spell_components,user_input_tuple))\n",
    "print(paired_elements)"
   ]
  },
  {
   "cell_type": "markdown",
   "id": "e2421506-97da-410e-8f46-11c6b27020c2",
   "metadata": {},
   "source": [
    "#### Tuple Maximum and Minimum"
   ]
  },
  {
   "cell_type": "code",
   "execution_count": 98,
   "id": "678404de-7a67-47c1-9f8c-8c979c48dd87",
   "metadata": {},
   "outputs": [
    {
     "name": "stdout",
     "output_type": "stream",
     "text": [
      "Water Droplet\n",
      "Air Feather\n"
     ]
    }
   ],
   "source": [
    "# Finding the maximum and minimum elements\n",
    "max_element = max(spell_components)\n",
    "min_element = min(spell_components)\n",
    "print(max_element)\n",
    "print(min_element)"
   ]
  },
  {
   "cell_type": "markdown",
   "id": "b6a6049b-8d8a-47ee-aa27-040c74313694",
   "metadata": {},
   "source": [
    "#### Tuple Intersection with Sets"
   ]
  },
  {
   "cell_type": "code",
   "execution_count": 102,
   "id": "c264baa4-31e6-4a74-864a-466455cdf715",
   "metadata": {},
   "outputs": [
    {
     "name": "stdout",
     "output_type": "stream",
     "text": [
      "{'Air Feather', 'Fire Essence', 'Earth Crystal', 'Water Droplet'}\n",
      "Air Feather\n",
      "{'Fire Essence', 'Earth Crystal', 'Water Droplet'}\n"
     ]
    }
   ],
   "source": [
    "# Finding common elements between two tuples\n",
    "print(spell_components)\n",
    "print(min_element)\n",
    "common_elements = (set(spell_components) & set(rest_of_elements))\n",
    "print(common_elements)"
   ]
  },
  {
   "cell_type": "markdown",
   "id": "8fc49531-b38e-4253-8124-efe5626cbb90",
   "metadata": {},
   "source": [
    "# Sets - Magical Uniqueness"
   ]
  },
  {
   "cell_type": "markdown",
   "id": "5cb3390c-58e6-4626-9e36-8c8d906866f3",
   "metadata": {},
   "source": [
    "#### Set Initialization"
   ]
  },
  {
   "cell_type": "code",
   "execution_count": 103,
   "id": "98f5d3b2-48c0-4db8-8c6d-43a034fa0912",
   "metadata": {},
   "outputs": [
    {
     "name": "stdout",
     "output_type": "stream",
     "text": [
      "{'Teleportation', 'Fireball', 'Invisibility', 'Levitation'}\n"
     ]
    }
   ],
   "source": [
    "# Creating a set\n",
    "unique_spells = {\"Fireball\", \"Levitation\", \"Invisibility\", \"Teleportation\"}\n",
    "print(unique_spells)"
   ]
  },
  {
   "cell_type": "markdown",
   "id": "bd8ac648-d96e-4bb1-878c-8c3510a28e76",
   "metadata": {},
   "source": [
    "#### Adding an Element"
   ]
  },
  {
   "cell_type": "code",
   "execution_count": 104,
   "id": "87a84fca-cce4-493c-8afd-c40be0564091",
   "metadata": {},
   "outputs": [
    {
     "name": "stdout",
     "output_type": "stream",
     "text": [
      "{'Teleportation', 'Fireball', 'Healing', 'Invisibility', 'Levitation'}\n"
     ]
    }
   ],
   "source": [
    "# Adding an element to the set\n",
    "unique_spells.add(\"Healing\")\n",
    "print(unique_spells)"
   ]
  },
  {
   "cell_type": "markdown",
   "id": "988ad357-23d3-4090-a94f-3e96147d804d",
   "metadata": {},
   "source": [
    "#### Removing an Element"
   ]
  },
  {
   "cell_type": "code",
   "execution_count": 105,
   "id": "ad71a4a1-a03c-4f99-8975-233eb42e71d1",
   "metadata": {},
   "outputs": [
    {
     "name": "stdout",
     "output_type": "stream",
     "text": [
      "{'Teleportation', 'Healing', 'Invisibility', 'Levitation'}\n"
     ]
    }
   ],
   "source": [
    "# Removing an element from the set\n",
    "unique_spells.remove(\"Fireball\")\n",
    "print(unique_spells)"
   ]
  },
  {
   "cell_type": "markdown",
   "id": "7423f480-042c-47e2-a4a1-d4663931c850",
   "metadata": {},
   "source": [
    "#### Checking Membership"
   ]
  },
  {
   "cell_type": "code",
   "execution_count": 106,
   "id": "336db19b-ea69-4ed7-8889-a710256e3d5e",
   "metadata": {},
   "outputs": [
    {
     "name": "stdout",
     "output_type": "stream",
     "text": [
      "True\n"
     ]
    }
   ],
   "source": [
    "# Checking if an element is in the set\n",
    "has_levitation = \"Levitation\" in unique_spells\n",
    "print(has_levitation)"
   ]
  },
  {
   "cell_type": "markdown",
   "id": "0856d246-7645-416f-bc85-85dc95b8a313",
   "metadata": {},
   "source": [
    "#### Set Union"
   ]
  },
  {
   "cell_type": "code",
   "execution_count": null,
   "id": "e1ecbf29-39b0-4108-908f-8a5e52f67f21",
   "metadata": {},
   "outputs": [],
   "source": [
    "# Combining two sets (Union)\n",
    "additional_spells = {\"Summoning\", \"Protection\"}\n",
    "all_spells = unique_spells.union(additional_spells)\n"
   ]
  }
 ],
 "metadata": {
  "kernelspec": {
   "display_name": "Python 3 (ipykernel)",
   "language": "python",
   "name": "python3"
  },
  "language_info": {
   "codemirror_mode": {
    "name": "ipython",
    "version": 3
   },
   "file_extension": ".py",
   "mimetype": "text/x-python",
   "name": "python",
   "nbconvert_exporter": "python",
   "pygments_lexer": "ipython3",
   "version": "3.11.6"
  }
 },
 "nbformat": 4,
 "nbformat_minor": 5
}
