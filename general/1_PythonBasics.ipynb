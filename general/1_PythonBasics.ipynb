{
 "cells": [
  {
   "cell_type": "code",
   "execution_count": 1,
   "id": "a2a919cc-d135-4393-8f58-8f356e212e75",
   "metadata": {},
   "outputs": [
    {
     "name": "stdout",
     "output_type": "stream",
     "text": [
      "Hello\n"
     ]
    }
   ],
   "source": [
    "print(\"Hello\")"
   ]
  },
  {
   "cell_type": "code",
   "execution_count": 2,
   "id": "7b8cade3-e78c-4127-8583-cee4d7a46597",
   "metadata": {},
   "outputs": [
    {
     "name": "stdout",
     "output_type": "stream",
     "text": [
      "Hello, World!\n",
      "44\n",
      "131.88\n",
      "40\n",
      "21.0\n",
      "0\n",
      "1764\n"
     ]
    }
   ],
   "source": [
    "# Variables, Data Types, and Operators\n",
    "# Variables\n",
    "variable_name = \"Hello, World!\"\n",
    "num_variable = 42\n",
    "\n",
    "# Data Types\n",
    "string_var = \"This is a string\" # String type\n",
    "int_var = 2 # Numeric types\n",
    "float_var = 3.14 # Numeric types\n",
    "bool_var = True # Boolean type\n",
    "empty_variable = None # None type\n",
    "\n",
    "# Operators\n",
    "# Arithmetic Operators\n",
    "result_addition = num_variable + int_var\n",
    "result_multiplication = num_variable * float_var\n",
    "subtraction_result = num_variable - int_var\n",
    "division_result = num_variable / int_var\n",
    "modulo_result = num_variable % int_var\n",
    "exponential_result = num_variable ** int_var\n",
    "\n",
    "# Print the results\n",
    "print(variable_name)\n",
    "print(result_addition)\n",
    "print(result_multiplication)\n",
    "print(subtraction_result)\n",
    "print(division_result)\n",
    "print(modulo_result)\n",
    "print(exponential_result)"
   ]
  },
  {
   "cell_type": "code",
   "execution_count": 3,
   "id": "098a684d-dd09-4495-8db5-762eb1b4f0f8",
   "metadata": {},
   "outputs": [
    {
     "name": "stdout",
     "output_type": "stream",
     "text": [
      "False\n",
      "True\n",
      "True\n",
      "False\n",
      "True\n",
      "False\n"
     ]
    }
   ],
   "source": [
    "# Comparison Operators\n",
    "num1=67\n",
    "num2=54.3\n",
    "\n",
    "is_equal = num1 == num2\n",
    "print(is_equal) # Print the results \n",
    "not_equal = num1 != num2\n",
    "print(not_equal) # Print the results \n",
    "greater_than = num1 > num2\n",
    "print(greater_than) # Print the results \n",
    "less_than = num1 < num2\n",
    "print(less_than) # Print the results \n",
    "greater_than_or_equal = num1 >= num2\n",
    "print(greater_than_or_equal) # Print the results \n",
    "less_than_or_equal = num1 <= num2\n",
    "print(less_than_or_equal) # Print the results \n"
   ]
  },
  {
   "cell_type": "code",
   "execution_count": 4,
   "id": "f349114d-e6a7-4c41-8233-fc3c7e114176",
   "metadata": {},
   "outputs": [
    {
     "name": "stdout",
     "output_type": "stream",
     "text": [
      "True\n",
      "True\n",
      "False\n"
     ]
    }
   ],
   "source": [
    "# Logical Operators\n",
    "logical_and = (num1 > 0) and (num2 > 0)\n",
    "logical_or = (num1 > 0) or (num2 > 0)\n",
    "logical_not = not (num1 > 0)\n",
    "print(logical_and)\n",
    "print(logical_or)\n",
    "print(logical_not)"
   ]
  },
  {
   "cell_type": "code",
   "execution_count": 5,
   "id": "58d5c675-b856-4bf7-878b-92c3f086ca55",
   "metadata": {},
   "outputs": [
    {
     "name": "stdout",
     "output_type": "stream",
     "text": [
      "Hello World\n",
      "11\n",
      "H\n",
      "World\n"
     ]
    }
   ],
   "source": [
    "# String Manipulations\n",
    "\n",
    "# Concatenation\n",
    "str1= \"Hello\"\n",
    "str2= \"World\"\n",
    "concatenated_str = str1 +\" \"+ str2\n",
    "\n",
    "# String Length\n",
    "str_length = len(concatenated_str)\n",
    "\n",
    "# String Indexing and Slicing\n",
    "first_char = concatenated_str[0]\n",
    "substring = concatenated_str[6:]\n",
    "\n",
    "#Print the results\n",
    "print(concatenated_str)\n",
    "print(str_length)\n",
    "print(first_char)\n",
    "print(substring)"
   ]
  },
  {
   "cell_type": "code",
   "execution_count": 6,
   "id": "c1346a04-0bf3-453b-aebf-4307bc79eb5e",
   "metadata": {},
   "outputs": [
    {
     "name": "stdout",
     "output_type": "stream",
     "text": [
      "MY NAME IS TARANJIT KAUR\n",
      "my name is taranjit kaur\n",
      "My name is Tanu\n",
      "['My', 'name', 'is', 'Taranjit', 'Kaur']\n"
     ]
    }
   ],
   "source": [
    "# String Methods\n",
    "\n",
    "str=\"My name is Taranjit Kaur\"\n",
    "uppercase_str= str.upper()\n",
    "lowercase_str=str.lower()\n",
    "replaced_str=str.replace(\"Taranjit Kaur\",\"Tanu\")\n",
    "split_str= str.split(\" \")\n",
    "\n",
    "print(uppercase_str)\n",
    "print(lowercase_str)\n",
    "print(replaced_str)\n",
    "print(split_str)"
   ]
  },
  {
   "cell_type": "code",
   "execution_count": 7,
   "id": "da15ba52-2351-4e74-ab58-24864f5897fd",
   "metadata": {},
   "outputs": [
    {
     "name": "stdout",
     "output_type": "stream",
     "text": [
      "2\n",
      "8\n",
      "True\n",
      "True\n",
      "Python\n",
      "False\n",
      "False\n"
     ]
    }
   ],
   "source": [
    "# Additional String Methods\n",
    "\n",
    "# Count occurrences of a substring\n",
    "count_occurrences = str.count('i')\n",
    "\n",
    "# Find the index of a substring\n",
    "index_of_world = str.find(\"is\")\n",
    "\n",
    "# Check if a string starts or ends with a specific substring\n",
    "starts_with = str.startswith(\"My\")\n",
    "ends_with= str.endswith(\"Kaur\")\n",
    "\n",
    "# Strip leading and trailing whitespaces\n",
    "whitespace_str = \"   Python   \"\n",
    "stripped_str = whitespace_str.strip()\n",
    "\n",
    "# Check if all characters are alphabetic or numeric\n",
    "is_alpha = str.isalpha()\n",
    "is_numeric = str.isnumeric()\n",
    "\n",
    "print(count_occurrences)\n",
    "print(index_of_world)\n",
    "print(starts_with)\n",
    "print(ends_with)\n",
    "print(stripped_str)\n",
    "print(is_alpha)\n",
    "print(is_numeric)"
   ]
  },
  {
   "cell_type": "code",
   "execution_count": 8,
   "id": "57c12bcb-db9c-4761-94be-380ee37ef27c",
   "metadata": {},
   "outputs": [
    {
     "name": "stdout",
     "output_type": "stream",
     "text": [
      "You are an adult\n",
      "0\n",
      "1\n",
      "2\n",
      "3\n",
      "4\n",
      "Loop iteration: 0\n",
      "Loop iteration: 1\n",
      "Loop iteration: 2\n"
     ]
    }
   ],
   "source": [
    "# Control Flow\n",
    "\n",
    "# if-else statement\n",
    "age = 20\n",
    "if age >= 18:\n",
    "    print(\"You are an adult\")\n",
    "else:\n",
    "    print(\"You are a minor\")\n",
    "\n",
    "# for loop\n",
    "for i in range(5):\n",
    "    print(i)\n",
    "\n",
    "#while loop\n",
    "counter=0\n",
    "while counter<3:\n",
    "    print(\"Loop iteration:\", counter)\n",
    "    counter += 1"
   ]
  },
  {
   "cell_type": "code",
   "execution_count": 9,
   "id": "68b619d8-26ff-4e14-8906-2bf9de89a462",
   "metadata": {},
   "outputs": [
    {
     "name": "stdout",
     "output_type": "stream",
     "text": [
      "Hello, Alice!\n",
      "12\n"
     ]
    }
   ],
   "source": [
    "# Functions and Lamba Expressions\n",
    "\n",
    "# Function definition\n",
    "def greet(name):\n",
    "    return \"Hello, \" +name+\"!\"\n",
    "\n",
    "# Function Call\n",
    "greeting=greet(\"Alice\")\n",
    "print(greeting)\n",
    "\n",
    "# Lambda function\n",
    "multiply = lambda x,y: x*y\n",
    "result = multiply(3,4)\n",
    "print(result)"
   ]
  },
  {
   "cell_type": "code",
   "execution_count": 10,
   "id": "3e08c35a-86fa-4be5-b202-1cba9ee95f9d",
   "metadata": {},
   "outputs": [
    {
     "name": "stdin",
     "output_type": "stream",
     "text": [
      "Enter a number: 8\n"
     ]
    },
    {
     "name": "stdout",
     "output_type": "stream",
     "text": [
      "Result: 1.25\n"
     ]
    }
   ],
   "source": [
    "# Error Handling (try-except)\n",
    "\n",
    "try:\n",
    "    num_input = int(input(\"Enter a number:\"))\n",
    "    result=10/num_input\n",
    "    print(\"Result:\", result)\n",
    "\n",
    "except ZeroDivisionError:\n",
    "    print(\"Cannot divide by zero!\")\n",
    "\n",
    "except ValueError:\n",
    "    print(\"Invalid input. Please enter a valid number.\")"
   ]
  },
  {
   "cell_type": "code",
   "execution_count": 11,
   "id": "f21e7bb1-bb8a-4f42-abee-d607e30f617b",
   "metadata": {},
   "outputs": [
    {
     "name": "stdout",
     "output_type": "stream",
     "text": [
      "File content:\n",
      " Ths is an example file. \n",
      "Python is fun\n"
     ]
    }
   ],
   "source": [
    "# Basic File Operations (reading/writing files)\n",
    "\n",
    "# Writing to a file\n",
    "with open(\"example.txt\",\"w\") as file:\n",
    "    file.write(\"Ths is an example file. \\nPython is fun\")\n",
    "\n",
    "# Reading from a file\n",
    "with open(\"example.txt\",\"r\") as file:\n",
    "    content=file.read()\n",
    "    print(\"File content:\\n\",content)"
   ]
  },
  {
   "cell_type": "code",
   "execution_count": null,
   "id": "1885c0c7-380c-4c30-83a4-9b95c5816112",
   "metadata": {},
   "outputs": [],
   "source": []
  }
 ],
 "metadata": {
  "kernelspec": {
   "display_name": "Python 3 (ipykernel)",
   "language": "python",
   "name": "python3"
  },
  "language_info": {
   "codemirror_mode": {
    "name": "ipython",
    "version": 3
   },
   "file_extension": ".py",
   "mimetype": "text/x-python",
   "name": "python",
   "nbconvert_exporter": "python",
   "pygments_lexer": "ipython3",
   "version": "3.11.6"
  }
 },
 "nbformat": 4,
 "nbformat_minor": 5
}
