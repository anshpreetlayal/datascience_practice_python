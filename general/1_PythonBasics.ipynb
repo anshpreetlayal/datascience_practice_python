{
 "cells": [
  {
   "cell_type": "code",
   "execution_count": 2,
   "id": "a2a919cc-d135-4393-8f58-8f356e212e75",
   "metadata": {},
   "outputs": [
    {
     "name": "stdout",
     "output_type": "stream",
     "text": [
      "Hello\n"
     ]
    }
   ],
   "source": [
    "print(\"Hello\")"
   ]
  },
  {
   "cell_type": "code",
   "execution_count": 3,
   "id": "f289a409-0f95-4e36-a332-adfb3d2d6372",
   "metadata": {},
   "outputs": [],
   "source": [
    "import numpy as num"
   ]
  }
 ],
 "metadata": {
  "kernelspec": {
   "display_name": "Python 3 (ipykernel)",
   "language": "python",
   "name": "python3"
  },
  "language_info": {
   "codemirror_mode": {
    "name": "ipython",
    "version": 3
   },
   "file_extension": ".py",
   "mimetype": "text/x-python",
   "name": "python",
   "nbconvert_exporter": "python",
   "pygments_lexer": "ipython3",
   "version": "3.11.6"
  }
 },
 "nbformat": 4,
 "nbformat_minor": 5
}
