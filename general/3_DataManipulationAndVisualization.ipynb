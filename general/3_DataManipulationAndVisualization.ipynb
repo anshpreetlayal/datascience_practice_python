{
 "cells": [
  {
   "cell_type": "markdown",
   "id": "73e97001-cca5-4850-9ba8-6e166f5c6878",
   "metadata": {},
   "source": [
    "# Data Manipulation with Python"
   ]
  },
  {
   "cell_type": "markdown",
   "id": "2097125b-5e34-4e27-a1e1-87975cef5176",
   "metadata": {},
   "source": [
    "## Introduction"
   ]
  },
  {
   "cell_type": "markdown",
   "id": "fba4196b-dd19-4e41-b876-c60a838f5e03",
   "metadata": {},
   "source": [
    "Data manipulation is a crucial aspect of data science and analysis. In this notebook, we'll explore three powerful libraries in Python: NumPy, Pandas, and Matplotlib. These libraries provide tools for handling, analyzing, and visualizing data.\n"
   ]
  },
  {
   "cell_type": "markdown",
   "id": "edc7e9ba-fbd9-4a27-9382-3ee58db6babd",
   "metadata": {},
   "source": [
    "## NumPy: Numerical Python"
   ]
  },
  {
   "cell_type": "markdown",
   "id": "d273c16a-a5fa-4b66-bdb0-955c703a62ee",
   "metadata": {},
   "source": [
    "### Introduction to NumPy"
   ]
  },
  {
   "cell_type": "markdown",
   "id": "9e36a76e-f0d0-459a-b938-f14bf16629a8",
   "metadata": {},
   "source": [
    "NumPy is a fundamental package for scientific computing with Python. It provides support for large, multi-dimensional arrays and matrices, along with mathematical functions to operate on these arrays."
   ]
  },
  {
   "cell_type": "markdown",
   "id": "3cb066a3-f659-481e-ba9e-f2625d55f6e8",
   "metadata": {},
   "source": [
    "### NumPy Basics"
   ]
  },
  {
   "cell_type": "markdown",
   "id": "ccb6102a-0374-4886-961f-8ecd474b9937",
   "metadata": {},
   "source": [
    "#### Array Creation"
   ]
  },
  {
   "cell_type": "code",
   "execution_count": 4,
   "id": "16bbe971-5058-4432-9527-48d650252370",
   "metadata": {},
   "outputs": [
    {
     "name": "stdout",
     "output_type": "stream",
     "text": [
      "[1 2 3 4 5]\n",
      "[[1 2 3]\n",
      " [4 5 6]]\n",
      "[[0. 0. 0.]\n",
      " [0. 0. 0.]\n",
      " [0. 0. 0.]]\n",
      "[[1. 1. 1. 1.]\n",
      " [1. 1. 1. 1.]]\n"
     ]
    }
   ],
   "source": [
    "import numpy as np\n",
    "\n",
    "# Create a 1D array\n",
    "arr_1d = np.array([1, 2, 3, 4, 5])\n",
    "\n",
    "# Create a 2D array\n",
    "arr_2d = np.array([[1, 2, 3], [4, 5, 6]])\n",
    "\n",
    "# Create an array with zeros\n",
    "zeros_array = np.zeros((3, 3))\n",
    "\n",
    "# Create an array with ones\n",
    "ones_array = np.ones((2, 4))\n",
    "\n",
    "print(arr_1d)\n",
    "print(arr_2d)\n",
    "print(zeros_array)\n",
    "print(ones_array)"
   ]
  },
  {
   "cell_type": "markdown",
   "id": "a5c08bd3-e523-447c-bf5c-2eb026ff7199",
   "metadata": {},
   "source": [
    "#### Array Operations"
   ]
  },
  {
   "cell_type": "code",
   "execution_count": 5,
   "id": "18617129-357c-4241-bd9f-81deb0ca9f79",
   "metadata": {},
   "outputs": [
    {
     "name": "stdout",
     "output_type": "stream",
     "text": [
      "[11 12 13 14 15]\n",
      "[[ 2  4  6]\n",
      " [ 8 10 12]]\n",
      "[[ 6.]\n",
      " [15.]]\n"
     ]
    }
   ],
   "source": [
    "# Arithmetic operations\n",
    "result = arr_1d + 10\n",
    "\n",
    "# Element-wise multiplication\n",
    "result2 = arr_2d * 2\n",
    "\n",
    "# Matrix multiplication\n",
    "result3 = np.dot(arr_2d, np.ones((3, 1)))\n",
    "\n",
    "print(result)\n",
    "print(result2)\n",
    "print(result3)"
   ]
  },
  {
   "cell_type": "markdown",
   "id": "46393804-054e-4c15-859a-df1b62fcd1df",
   "metadata": {},
   "source": [
    "#### Array Indexing"
   ]
  },
  {
   "cell_type": "code",
   "execution_count": 7,
   "id": "075a01f5-af3c-4c59-84b3-129434410197",
   "metadata": {},
   "outputs": [
    {
     "name": "stdout",
     "output_type": "stream",
     "text": [
      "Element at index 2: 13\n"
     ]
    }
   ],
   "source": [
    "# Array Indexing\n",
    "print(\"Element at index 2:\", result[2])"
   ]
  },
  {
   "cell_type": "markdown",
   "id": "cade9326-daf0-43dd-82af-2c8699f41254",
   "metadata": {},
   "source": [
    "#### Array Slicing"
   ]
  },
  {
   "cell_type": "code",
   "execution_count": 9,
   "id": "6eefcfb3-9d4d-441d-8e4f-c88a4b586707",
   "metadata": {},
   "outputs": [
    {
     "name": "stdout",
     "output_type": "stream",
     "text": [
      "Sliced array: [12 13 14]\n"
     ]
    }
   ],
   "source": [
    "# Array Slicing\n",
    "print(\"Sliced array:\", result[1:4])"
   ]
  },
  {
   "cell_type": "markdown",
   "id": "be0b34f1-12f1-4fe7-8149-f59594ce1503",
   "metadata": {},
   "source": [
    "#### Data Types"
   ]
  },
  {
   "cell_type": "code",
   "execution_count": 10,
   "id": "0c3fb4eb-0a5f-4207-95b8-25e5615f58c7",
   "metadata": {},
   "outputs": [
    {
     "name": "stdout",
     "output_type": "stream",
     "text": [
      "Array with float data type: [1. 2. 3.]\n"
     ]
    }
   ],
   "source": [
    "arr_float = np.array([1, 2, 3], dtype=float)\n",
    "print(\"Array with float data type:\", arr_float)"
   ]
  },
  {
   "cell_type": "markdown",
   "id": "5af88427-3530-4ebf-bb6a-87118982a297",
   "metadata": {},
   "source": [
    "#### Copy vs View"
   ]
  },
  {
   "cell_type": "code",
   "execution_count": 16,
   "id": "3a59f3ec-7185-4490-ac2d-dd29b8d31deb",
   "metadata": {},
   "outputs": [
    {
     "name": "stdout",
     "output_type": "stream",
     "text": [
      "Original Array: [10 12 13 14 15]\n",
      "Copied Array: [11 12 13 14 15]\n",
      "Viewed Array: [10 12 13 14 15]\n"
     ]
    }
   ],
   "source": [
    "arr_copy = result.copy()\n",
    "arr_view = result.view()\n",
    "result[0] = 10\n",
    "print(\"Original Array:\", result)\n",
    "print(\"Copied Array:\", arr_copy)\n",
    "print(\"Viewed Array:\", arr_view)"
   ]
  },
  {
   "cell_type": "markdown",
   "id": "07fd79c3-feee-43b3-8677-e514612f7246",
   "metadata": {},
   "source": [
    "#### Array Shape"
   ]
  },
  {
   "cell_type": "code",
   "execution_count": 15,
   "id": "91df888e-666b-434a-bb5b-04ad04214dce",
   "metadata": {},
   "outputs": [
    {
     "name": "stdout",
     "output_type": "stream",
     "text": [
      "Shape of Array: (5,)\n"
     ]
    }
   ],
   "source": [
    "print(\"Shape of Array:\", result.shape)"
   ]
  },
  {
   "cell_type": "markdown",
   "id": "1f9e6815-5c86-44e2-8524-78a2bc6ea400",
   "metadata": {},
   "source": [
    "#### Array Reshape"
   ]
  },
  {
   "cell_type": "code",
   "execution_count": 19,
   "id": "a02052e7-682e-4d62-863c-029df341dd1c",
   "metadata": {},
   "outputs": [
    {
     "name": "stdout",
     "output_type": "stream",
     "text": [
      "Reshaped Array: [[10 12 13 14 15]]\n"
     ]
    }
   ],
   "source": [
    "arr_reshape = result.reshape(1, 5)\n",
    "print(\"Reshaped Array:\", arr_reshape)"
   ]
  },
  {
   "cell_type": "markdown",
   "id": "a5b85833-86ac-4999-9b88-46bb687d59bb",
   "metadata": {},
   "source": [
    "#### Array Iterating"
   ]
  },
  {
   "cell_type": "code",
   "execution_count": 20,
   "id": "0993a7bf-8e15-463e-ad2a-28702708d271",
   "metadata": {},
   "outputs": [
    {
     "name": "stdout",
     "output_type": "stream",
     "text": [
      "10\n",
      "12\n",
      "13\n",
      "14\n",
      "15\n"
     ]
    }
   ],
   "source": [
    "for element in  result:\n",
    "    print(element)"
   ]
  },
  {
   "cell_type": "markdown",
   "id": "25bdc90f-8d19-4d7e-883f-8a56f923cd43",
   "metadata": {},
   "source": [
    "#### Array Join"
   ]
  },
  {
   "cell_type": "code",
   "execution_count": 21,
   "id": "2f9d0923-6e2f-4cd7-a1f2-1e91e3ca77db",
   "metadata": {},
   "outputs": [
    {
     "name": "stdout",
     "output_type": "stream",
     "text": [
      "Joined Array: [1 2 3 4 5 6]\n"
     ]
    }
   ],
   "source": [
    "arr1 = np.array([1, 2, 3])\n",
    "arr2 = np.array([4, 5, 6])\n",
    "arr_join = np.concatenate((arr1, arr2))\n",
    "print(\"Joined Array:\", arr_join)"
   ]
  },
  {
   "cell_type": "markdown",
   "id": "c600c82c-69aa-4a17-a9ff-520a0ed7146d",
   "metadata": {},
   "source": [
    "#### Array Split"
   ]
  },
  {
   "cell_type": "code",
   "execution_count": 22,
   "id": "7f6495d8-5bb6-4df0-afd6-c98258b95cd3",
   "metadata": {},
   "outputs": [
    {
     "name": "stdout",
     "output_type": "stream",
     "text": [
      "Split Arrays: [array([1, 2, 3]), array([4, 5, 6])]\n"
     ]
    }
   ],
   "source": [
    "arr_split = np.array_split(arr_join, 2)\n",
    "print(\"Split Arrays:\", arr_split)"
   ]
  },
  {
   "cell_type": "markdown",
   "id": "d25a1d21-f409-48e6-bbfc-e12a0ebd066b",
   "metadata": {},
   "source": [
    "#### Array Search"
   ]
  },
  {
   "cell_type": "code",
   "execution_count": 23,
   "id": "834fcf4b-47cf-41df-a0de-4217e80b8987",
   "metadata": {},
   "outputs": [
    {
     "name": "stdout",
     "output_type": "stream",
     "text": [
      "Index of 4: (array([3], dtype=int64),)\n"
     ]
    }
   ],
   "source": [
    "index = np.where(arr_join == 4)\n",
    "print(\"Index of 4:\", index)"
   ]
  },
  {
   "cell_type": "markdown",
   "id": "cd629c4d-1fda-4321-b38f-aa0ea3211c05",
   "metadata": {},
   "source": [
    "#### Array Sort"
   ]
  },
  {
   "cell_type": "code",
   "execution_count": 27,
   "id": "aa95a83d-50c4-4f91-9212-fcc41dbea199",
   "metadata": {},
   "outputs": [
    {
     "name": "stdout",
     "output_type": "stream",
     "text": [
      "Sorted Array: [1 2 3 4 5 6]\n"
     ]
    }
   ],
   "source": [
    "arr_sort = np.sort(arr_join)\n",
    "print(\"Sorted Array:\", arr_sort)"
   ]
  },
  {
   "cell_type": "markdown",
   "id": "3e9a50cc-e313-45f4-9eec-44c7a033013a",
   "metadata": {},
   "source": [
    "#### Array Filter"
   ]
  },
  {
   "cell_type": "code",
   "execution_count": 25,
   "id": "392d621d-56f1-4022-b60f-530a6bfcc942",
   "metadata": {},
   "outputs": [
    {
     "name": "stdout",
     "output_type": "stream",
     "text": [
      "Filtered Array: [4 5 6]\n"
     ]
    }
   ],
   "source": [
    "arr_filter = arr_join[arr_join > 3]\n",
    "print(\"Filtered Array:\", arr_filter)"
   ]
  },
  {
   "cell_type": "markdown",
   "id": "c1d69433-0e64-4d95-918b-52fb57ad0aa0",
   "metadata": {},
   "source": [
    "## Random"
   ]
  },
  {
   "cell_type": "markdown",
   "id": "d64419a8-4e4c-457e-b9ef-34539f7a34b7",
   "metadata": {},
   "source": [
    "NumPy provides a variety of functions for generating random numbers and arrays. Here's a list of some common random functions in NumPy"
   ]
  },
  {
   "cell_type": "markdown",
   "id": "d268b61a-8ab3-480f-bf94-cdaa0fdc8aa4",
   "metadata": {},
   "source": [
    "#### np.random.rand \n",
    "Generate random numbers from a uniform distribution over [0, 1)."
   ]
  },
  {
   "cell_type": "code",
   "execution_count": 26,
   "id": "d85ea0ac-8d14-4740-b708-5caefd0ad928",
   "metadata": {},
   "outputs": [
    {
     "name": "stdout",
     "output_type": "stream",
     "text": [
      "[[0.07225681 0.18417801]\n",
      " [0.05048088 0.63659361]\n",
      " [0.79947358 0.75929477]]\n"
     ]
    }
   ],
   "source": [
    "random_numbers = np.random.rand(3, 2)  # 3x2 array of random numbers\n",
    "print(random_numbers )"
   ]
  },
  {
   "cell_type": "markdown",
   "id": "5a7cf613-d300-4dbf-a651-8cc0f509f622",
   "metadata": {},
   "source": [
    "#### np.random.randn \n",
    "Generate random numbers from a standard normal distribution."
   ]
  },
  {
   "cell_type": "code",
   "execution_count": 28,
   "id": "3b471074-6bc4-4419-b44b-42c6cb53fb27",
   "metadata": {},
   "outputs": [
    {
     "name": "stdout",
     "output_type": "stream",
     "text": [
      "[[ 0.19794525 -0.71724616]\n",
      " [ 1.05347964 -1.35449645]\n",
      " [-2.40356582 -0.3437388 ]]\n"
     ]
    }
   ],
   "source": [
    "random_numbers_std_normal = np.random.randn(3, 2)  # 3x2 array of standard normal distribution numbers\n",
    "print(random_numbers_std_normal )"
   ]
  },
  {
   "cell_type": "markdown",
   "id": "b5b5bb59-6155-4b1e-87d3-9f36cc1c074d",
   "metadata": {},
   "source": [
    "#### np.random.randint\n",
    "Generate random integers from a specified low to high, exclusive."
   ]
  },
  {
   "cell_type": "code",
   "execution_count": 29,
   "id": "1992a888-7c7f-4362-9641-a133f464e9d5",
   "metadata": {},
   "outputs": [
    {
     "name": "stdout",
     "output_type": "stream",
     "text": [
      "[[2 3]\n",
      " [9 3]\n",
      " [1 5]]\n"
     ]
    }
   ],
   "source": [
    "random_integers = np.random.randint(1, 10, size=(3, 2))  # 3x2 array of random integers between 1 and 10\n",
    "print(random_integers)"
   ]
  },
  {
   "cell_type": "markdown",
   "id": "8d686342-19a1-4e60-8d5a-fef7366146b2",
   "metadata": {},
   "source": [
    "#### np.random.random_sample or np.random.random\n",
    "Generate random floats in the half-open interval [0.0, 1.0)."
   ]
  },
  {
   "cell_type": "code",
   "execution_count": 30,
   "id": "66afa788-f13d-4993-8f87-235449f816b2",
   "metadata": {},
   "outputs": [
    {
     "name": "stdout",
     "output_type": "stream",
     "text": [
      "[[0.21383953 0.12183887]\n",
      " [0.16265151 0.9278005 ]\n",
      " [0.98291903 0.90679948]]\n"
     ]
    }
   ],
   "source": [
    "random_floats = np.random.random_sample((3, 2))  # 3x2 array of random floats\n",
    "print(random_floats)"
   ]
  },
  {
   "cell_type": "markdown",
   "id": "618e6505-f500-40d8-b274-a8c43e954e03",
   "metadata": {},
   "source": [
    "#### np.random.choice\n",
    "Generates a random sample from a given 1-D array."
   ]
  },
  {
   "cell_type": "code",
   "execution_count": 31,
   "id": "27db7e2d-1b5b-4091-a44e-ea40b26297ef",
   "metadata": {},
   "outputs": [
    {
     "name": "stdout",
     "output_type": "stream",
     "text": [
      "[[1 5]\n",
      " [1 3]\n",
      " [2 3]]\n"
     ]
    }
   ],
   "source": [
    "choices = np.array([1, 2, 3, 4, 5])\n",
    "random_choice = np.random.choice(choices, size=(3, 2))  # 3x2 array of random choices from the array\n",
    "print(random_choice)"
   ]
  },
  {
   "cell_type": "markdown",
   "id": "1d9e30e3-0de3-4419-90d3-1cdcac226e86",
   "metadata": {},
   "source": [
    "#### np.random.shuffle\n",
    "Shuffle an array in-place."
   ]
  },
  {
   "cell_type": "markdown",
   "id": "4ca76d35-f38b-4d6d-aa78-170968605e03",
   "metadata": {},
   "source": [
    "arr = np.array([1, 2, 3, 4, 5])\n",
    "np.random.shuffle(arr)\n",
    "print(arr)"
   ]
  },
  {
   "cell_type": "markdown",
   "id": "3ca468fa-2966-4eaf-8a2b-6ea8d76cc130",
   "metadata": {},
   "source": [
    "#### np.random.permutation\n",
    "Randomly permute a sequence or return a permuted range."
   ]
  },
  {
   "cell_type": "code",
   "execution_count": 33,
   "id": "929d7c89-075f-41a3-9586-a0f35c17ca00",
   "metadata": {},
   "outputs": [
    {
     "name": "stdout",
     "output_type": "stream",
     "text": [
      "[5 1 2 3 4]\n"
     ]
    }
   ],
   "source": [
    "permuted_arr = np.random.permutation(arr)\n",
    "print(permuted_arr)"
   ]
  },
  {
   "cell_type": "markdown",
   "id": "a34630da-c013-49c8-8b5b-d84dd1b8db8f",
   "metadata": {},
   "source": [
    "#### np.random.seed\n",
    "Seed the generator for reproducibility."
   ]
  },
  {
   "cell_type": "code",
   "execution_count": 36,
   "id": "cef39403-f4cc-4a55-b4b0-be368e61c266",
   "metadata": {},
   "outputs": [
    {
     "name": "stdout",
     "output_type": "stream",
     "text": [
      "None\n"
     ]
    }
   ],
   "source": [
    "seed=np.random.seed(42)\n",
    "print(seed)"
   ]
  },
  {
   "cell_type": "markdown",
   "id": "5a70e1ce-801c-4d9b-b784-f21e90bb81ad",
   "metadata": {},
   "source": [
    "## Probability Distribitions\n",
    "NumPy's random module provides functions for generating random numbers from various probability distributions. Here are some common probability distribution functions in NumPy:"
   ]
  },
  {
   "cell_type": "markdown",
   "id": "5c23f0c6-43ee-48d0-85ed-d120ee381cff",
   "metadata": {},
   "source": [
    "#### Uniform Distribution (np.random.uniform):\n",
    "\n",
    "Generates random samples from a uniform distribution over a specified interval"
   ]
  },
  {
   "cell_type": "code",
   "execution_count": 37,
   "id": "f60436eb-8ed4-4c92-b52f-9dbf4961090a",
   "metadata": {},
   "outputs": [
    {
     "name": "stdout",
     "output_type": "stream",
     "text": [
      "[[0.37454012 0.95071431]\n",
      " [0.73199394 0.59865848]\n",
      " [0.15601864 0.15599452]]\n"
     ]
    }
   ],
   "source": [
    "uniform_distribution = np.random.uniform(low=0.0, high=1.0, size=(3, 2))\n",
    "print(uniform_distribution)"
   ]
  },
  {
   "cell_type": "markdown",
   "id": "e97e52d5-b388-4232-bbff-a0241ddc888d",
   "metadata": {},
   "source": [
    "#### Normal Distribution (np.random.normal):\r\n",
    "\r\n",
    "Generates random samples from a normal (Gaussian) distribution."
   ]
  },
  {
   "cell_type": "code",
   "execution_count": 38,
   "id": "88100414-5d9d-4fc0-a8f7-019f5f8dbc74",
   "metadata": {},
   "outputs": [
    {
     "name": "stdout",
     "output_type": "stream",
     "text": [
      "[[ 1.57921282  0.76743473]\n",
      " [-0.46947439  0.54256004]\n",
      " [-0.46341769 -0.46572975]]\n"
     ]
    }
   ],
   "source": [
    "normal_distribution = np.random.normal(loc=0.0, scale=1.0, size=(3, 2))\n",
    "print(normal_distribution)"
   ]
  },
  {
   "cell_type": "markdown",
   "id": "4815fc14-413a-4e11-9fe2-7179a9138142",
   "metadata": {},
   "source": [
    "#### Binomial Distribution (np.random.binomial):\r\n",
    "\r\n",
    "Generates random samples from a binomial distribution."
   ]
  },
  {
   "cell_type": "code",
   "execution_count": 39,
   "id": "71b58afd-4630-40d0-bd17-8913e3bc8f85",
   "metadata": {},
   "outputs": [
    {
     "name": "stdout",
     "output_type": "stream",
     "text": [
      "[[4 5]\n",
      " [5 4]\n",
      " [5 3]]\n"
     ]
    }
   ],
   "source": [
    "binomial_distribution = np.random.binomial(n=10, p=0.5, size=(3, 2))\n",
    "print(binomial_distribution)"
   ]
  },
  {
   "cell_type": "markdown",
   "id": "3395165b-726c-4bb3-96b3-9280388756d6",
   "metadata": {},
   "source": [
    "#### Poisson Distribution (np.random.poisson):\r\n",
    "\r\n",
    "Generates random samples from a Poisson distribution."
   ]
  },
  {
   "cell_type": "code",
   "execution_count": 40,
   "id": "ed9944a1-4ecc-47a1-8b61-ce6f2154d78d",
   "metadata": {},
   "outputs": [
    {
     "name": "stdout",
     "output_type": "stream",
     "text": [
      "[[5 3]\n",
      " [5 4]\n",
      " [6 7]]\n"
     ]
    }
   ],
   "source": [
    "poisson_distribution = np.random.poisson(lam=5, size=(3, 2))\n",
    "print(poisson_distribution)"
   ]
  },
  {
   "cell_type": "markdown",
   "id": "060fae2b-ea44-43e4-90fa-6b56bd5ef25c",
   "metadata": {},
   "source": [
    "#### Exponential Distribution (np.random.exponential):\r\n",
    "\r\n",
    "Generates random samples from an exponential distribution."
   ]
  },
  {
   "cell_type": "code",
   "execution_count": 41,
   "id": "052d22dd-291b-4534-8605-04e89b7909c8",
   "metadata": {},
   "outputs": [
    {
     "name": "stdout",
     "output_type": "stream",
     "text": [
      "[[0.04628197 0.39353209]\n",
      " [0.49213029 0.31656044]\n",
      " [1.76455787 0.441227  ]]\n"
     ]
    }
   ],
   "source": [
    "exponential_distribution = np.random.exponential(scale=1.0, size=(3, 2))\n",
    "print(exponential_distribution)"
   ]
  },
  {
   "cell_type": "markdown",
   "id": "e8ac89ee-3c33-408d-a54e-5f34ccd5edfc",
   "metadata": {},
   "source": [
    "#### Logistic Distribution (np.random.logistic):\r\n",
    "\r\n",
    "Generates random samples from a logistic distribution."
   ]
  },
  {
   "cell_type": "code",
   "execution_count": 42,
   "id": "9c86b580-388f-4c38-9d70-b012f8f66ae8",
   "metadata": {},
   "outputs": [
    {
     "name": "stdout",
     "output_type": "stream",
     "text": [
      "[[-0.93983086  0.17120127]\n",
      " [-1.8076348   1.40008251]\n",
      " [-2.51880073  4.32094654]]\n"
     ]
    }
   ],
   "source": [
    "logistic_distribution = np.random.logistic(loc=0.0, scale=1.0, size=(3, 2))\n",
    "print(logistic_distribution)"
   ]
  },
  {
   "cell_type": "markdown",
   "id": "ce795899-aebf-4434-bd9b-7b63e21ff4f4",
   "metadata": {},
   "source": [
    "#### Chi-Square Distribution (np.random.chisquare):\r\n",
    "\r\n",
    "Generates random samples from a chi-square distribution."
   ]
  },
  {
   "cell_type": "code",
   "execution_count": 43,
   "id": "3108e711-7b59-416e-a6a5-b97b4f4b29d6",
   "metadata": {},
   "outputs": [
    {
     "name": "stdout",
     "output_type": "stream",
     "text": [
      "[[1.15522492 3.91983193]\n",
      " [5.34434366 4.97870708]\n",
      " [0.94940659 1.72707227]]\n"
     ]
    }
   ],
   "source": [
    "chi_square_distribution = np.random.chisquare(df=3, size=(3, 2))\n",
    "print(chi_square_distribution)"
   ]
  },
  {
   "cell_type": "markdown",
   "id": "3c8bd334-1969-4616-a43a-71704e55489f",
   "metadata": {},
   "source": [
    "#### Gamma Distribution (np.random.gamma):\r\n",
    "\r\n",
    "Generates random samples from a gamma distribution."
   ]
  },
  {
   "cell_type": "code",
   "execution_count": 44,
   "id": "d3106758-2a57-4d8c-9c29-0c078777c79a",
   "metadata": {},
   "outputs": [
    {
     "name": "stdout",
     "output_type": "stream",
     "text": [
      "[[1.12143497 1.43828812]\n",
      " [2.95108852 4.10226246]\n",
      " [2.17848714 0.96484462]]\n"
     ]
    }
   ],
   "source": [
    "gamma_distribution = np.random.gamma(shape=2, scale=1, size=(3, 2))\n",
    "print(gamma_distribution)"
   ]
  },
  {
   "cell_type": "markdown",
   "id": "a350730e-4ec5-4429-b779-0d255afd22e1",
   "metadata": {},
   "source": [
    "#### Beta Distribution (np.random.beta):\r\n",
    "\r\n",
    "Generates random samples from a beta distribution."
   ]
  },
  {
   "cell_type": "code",
   "execution_count": 45,
   "id": "f1970b5e-1f3a-480b-bf32-cbf81bec7dbb",
   "metadata": {},
   "outputs": [
    {
     "name": "stdout",
     "output_type": "stream",
     "text": [
      "[[0.15364547 0.30550235]\n",
      " [0.20331388 0.18387688]\n",
      " [0.36782409 0.20209677]]\n"
     ]
    }
   ],
   "source": [
    "beta_distribution = np.random.beta(a=2, b=5, size=(3, 2))\n",
    "print(beta_distribution)"
   ]
  },
  {
   "cell_type": "markdown",
   "id": "43c2c2cc-a485-4f86-b2b0-76251e041005",
   "metadata": {},
   "source": [
    "#### Laplace Distribution (np.random.laplace):\r\n",
    "\r\n",
    "Generates random samples from a Laplace distribution."
   ]
  },
  {
   "cell_type": "code",
   "execution_count": 46,
   "id": "d78ca8ab-970c-444a-b266-18e38702a6de",
   "metadata": {},
   "outputs": [
    {
     "name": "stdout",
     "output_type": "stream",
     "text": [
      "[[-0.45254579 -1.5136558 ]\n",
      " [-0.78554688 -0.15757168]\n",
      " [ 1.01068255  1.27819779]]\n"
     ]
    }
   ],
   "source": [
    "laplace_distribution = np.random.laplace(loc=0.0, scale=1.0, size=(3, 2))\n",
    "print(laplace_distribution )"
   ]
  },
  {
   "cell_type": "code",
   "execution_count": null,
   "id": "90af7705-25ab-4237-bdf0-e31b83cf2f29",
   "metadata": {},
   "outputs": [],
   "source": []
  },
  {
   "cell_type": "code",
   "execution_count": null,
   "id": "598e8df8-91e4-401f-99e0-71bf06ecf170",
   "metadata": {},
   "outputs": [],
   "source": []
  }
 ],
 "metadata": {
  "kernelspec": {
   "display_name": "Python 3 (ipykernel)",
   "language": "python",
   "name": "python3"
  },
  "language_info": {
   "codemirror_mode": {
    "name": "ipython",
    "version": 3
   },
   "file_extension": ".py",
   "mimetype": "text/x-python",
   "name": "python",
   "nbconvert_exporter": "python",
   "pygments_lexer": "ipython3",
   "version": "3.11.6"
  }
 },
 "nbformat": 4,
 "nbformat_minor": 5
}
