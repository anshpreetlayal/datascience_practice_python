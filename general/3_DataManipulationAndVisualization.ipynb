{
 "cells": [
  {
   "cell_type": "markdown",
   "id": "73e97001-cca5-4850-9ba8-6e166f5c6878",
   "metadata": {},
   "source": [
    "# Data Manipulation with Python"
   ]
  },
  {
   "cell_type": "markdown",
   "id": "2097125b-5e34-4e27-a1e1-87975cef5176",
   "metadata": {},
   "source": [
    "## Introduction"
   ]
  },
  {
   "cell_type": "markdown",
   "id": "fba4196b-dd19-4e41-b876-c60a838f5e03",
   "metadata": {},
   "source": [
    "Data manipulation is a crucial aspect of data science and analysis. In this notebook, we'll explore three powerful libraries in Python: NumPy, Pandas, and Matplotlib. These libraries provide tools for handling, analyzing, and visualizing data.\n"
   ]
  },
  {
   "cell_type": "markdown",
   "id": "edc7e9ba-fbd9-4a27-9382-3ee58db6babd",
   "metadata": {},
   "source": [
    "## NumPy: Numerical Python"
   ]
  },
  {
   "cell_type": "markdown",
   "id": "d273c16a-a5fa-4b66-bdb0-955c703a62ee",
   "metadata": {},
   "source": [
    "### Introduction to NumPy"
   ]
  },
  {
   "cell_type": "markdown",
   "id": "9e36a76e-f0d0-459a-b938-f14bf16629a8",
   "metadata": {},
   "source": [
    "NumPy is a fundamental package for scientific computing with Python. It provides support for large, multi-dimensional arrays and matrices, along with mathematical functions to operate on these arrays."
   ]
  },
  {
   "cell_type": "markdown",
   "id": "3cb066a3-f659-481e-ba9e-f2625d55f6e8",
   "metadata": {},
   "source": [
    "### NumPy Basics"
   ]
  },
  {
   "cell_type": "markdown",
   "id": "ccb6102a-0374-4886-961f-8ecd474b9937",
   "metadata": {},
   "source": [
    "#### Array Creation"
   ]
  },
  {
   "cell_type": "code",
   "execution_count": 1,
   "id": "16bbe971-5058-4432-9527-48d650252370",
   "metadata": {},
   "outputs": [
    {
     "name": "stdout",
     "output_type": "stream",
     "text": [
      "[1 2 3 4 5]\n",
      "[[1 2 3]\n",
      " [4 5 6]]\n",
      "[[0. 0. 0.]\n",
      " [0. 0. 0.]\n",
      " [0. 0. 0.]]\n",
      "[[1. 1. 1. 1.]\n",
      " [1. 1. 1. 1.]]\n"
     ]
    }
   ],
   "source": [
    "import numpy as np\n",
    "\n",
    "# Create a 1D array\n",
    "arr_1d = np.array([1, 2, 3, 4, 5])\n",
    "\n",
    "# Create a 2D array\n",
    "arr_2d = np.array([[1, 2, 3], [4, 5, 6]])\n",
    "\n",
    "# Create an array with zeros\n",
    "zeros_array = np.zeros((3, 3))\n",
    "\n",
    "# Create an array with ones\n",
    "ones_array = np.ones((2, 4))\n",
    "\n",
    "print(arr_1d)\n",
    "print(arr_2d)\n",
    "print(zeros_array)\n",
    "print(ones_array)"
   ]
  },
  {
   "cell_type": "markdown",
   "id": "a5c08bd3-e523-447c-bf5c-2eb026ff7199",
   "metadata": {},
   "source": [
    "#### Array Operations"
   ]
  },
  {
   "cell_type": "code",
   "execution_count": 2,
   "id": "18617129-357c-4241-bd9f-81deb0ca9f79",
   "metadata": {},
   "outputs": [
    {
     "name": "stdout",
     "output_type": "stream",
     "text": [
      "[11 12 13 14 15]\n",
      "[[ 2  4  6]\n",
      " [ 8 10 12]]\n",
      "[[ 6.]\n",
      " [15.]]\n"
     ]
    }
   ],
   "source": [
    "# Arithmetic operations\n",
    "result = arr_1d + 10\n",
    "\n",
    "# Element-wise multiplication\n",
    "result2 = arr_2d * 2\n",
    "\n",
    "# Matrix multiplication\n",
    "result3 = np.dot(arr_2d, np.ones((3, 1)))\n",
    "\n",
    "print(result)\n",
    "print(result2)\n",
    "print(result3)"
   ]
  },
  {
   "cell_type": "markdown",
   "id": "46393804-054e-4c15-859a-df1b62fcd1df",
   "metadata": {},
   "source": [
    "#### Array Indexing"
   ]
  },
  {
   "cell_type": "code",
   "execution_count": 3,
   "id": "075a01f5-af3c-4c59-84b3-129434410197",
   "metadata": {},
   "outputs": [
    {
     "name": "stdout",
     "output_type": "stream",
     "text": [
      "Element at index 2: 13\n"
     ]
    }
   ],
   "source": [
    "# Array Indexing\n",
    "print(\"Element at index 2:\", result[2])"
   ]
  },
  {
   "cell_type": "markdown",
   "id": "cade9326-daf0-43dd-82af-2c8699f41254",
   "metadata": {},
   "source": [
    "#### Array Slicing"
   ]
  },
  {
   "cell_type": "code",
   "execution_count": 4,
   "id": "6eefcfb3-9d4d-441d-8e4f-c88a4b586707",
   "metadata": {},
   "outputs": [
    {
     "name": "stdout",
     "output_type": "stream",
     "text": [
      "Sliced array: [12 13 14]\n"
     ]
    }
   ],
   "source": [
    "# Array Slicing\n",
    "print(\"Sliced array:\", result[1:4])"
   ]
  },
  {
   "cell_type": "markdown",
   "id": "be0b34f1-12f1-4fe7-8149-f59594ce1503",
   "metadata": {},
   "source": [
    "#### Data Types"
   ]
  },
  {
   "cell_type": "code",
   "execution_count": 5,
   "id": "0c3fb4eb-0a5f-4207-95b8-25e5615f58c7",
   "metadata": {},
   "outputs": [
    {
     "name": "stdout",
     "output_type": "stream",
     "text": [
      "Array with float data type: [1. 2. 3.]\n"
     ]
    }
   ],
   "source": [
    "arr_float = np.array([1, 2, 3], dtype=float)\n",
    "print(\"Array with float data type:\", arr_float)"
   ]
  },
  {
   "cell_type": "markdown",
   "id": "5af88427-3530-4ebf-bb6a-87118982a297",
   "metadata": {},
   "source": [
    "#### Copy vs View"
   ]
  },
  {
   "cell_type": "code",
   "execution_count": 6,
   "id": "3a59f3ec-7185-4490-ac2d-dd29b8d31deb",
   "metadata": {},
   "outputs": [
    {
     "name": "stdout",
     "output_type": "stream",
     "text": [
      "Original Array: [10 12 13 14 15]\n",
      "Copied Array: [11 12 13 14 15]\n",
      "Viewed Array: [10 12 13 14 15]\n"
     ]
    }
   ],
   "source": [
    "arr_copy = result.copy()\n",
    "arr_view = result.view()\n",
    "result[0] = 10\n",
    "print(\"Original Array:\", result)\n",
    "print(\"Copied Array:\", arr_copy)\n",
    "print(\"Viewed Array:\", arr_view)"
   ]
  },
  {
   "cell_type": "markdown",
   "id": "07fd79c3-feee-43b3-8677-e514612f7246",
   "metadata": {},
   "source": [
    "#### Array Shape"
   ]
  },
  {
   "cell_type": "code",
   "execution_count": 7,
   "id": "91df888e-666b-434a-bb5b-04ad04214dce",
   "metadata": {},
   "outputs": [
    {
     "name": "stdout",
     "output_type": "stream",
     "text": [
      "Shape of Array: (5,)\n"
     ]
    }
   ],
   "source": [
    "print(\"Shape of Array:\", result.shape)"
   ]
  },
  {
   "cell_type": "markdown",
   "id": "1f9e6815-5c86-44e2-8524-78a2bc6ea400",
   "metadata": {},
   "source": [
    "#### Array Reshape"
   ]
  },
  {
   "cell_type": "code",
   "execution_count": 8,
   "id": "a02052e7-682e-4d62-863c-029df341dd1c",
   "metadata": {},
   "outputs": [
    {
     "name": "stdout",
     "output_type": "stream",
     "text": [
      "Reshaped Array: [[10 12 13 14 15]]\n"
     ]
    }
   ],
   "source": [
    "arr_reshape = result.reshape(1, 5)\n",
    "print(\"Reshaped Array:\", arr_reshape)"
   ]
  },
  {
   "cell_type": "markdown",
   "id": "a5b85833-86ac-4999-9b88-46bb687d59bb",
   "metadata": {},
   "source": [
    "#### Array Iterating"
   ]
  },
  {
   "cell_type": "code",
   "execution_count": 9,
   "id": "0993a7bf-8e15-463e-ad2a-28702708d271",
   "metadata": {},
   "outputs": [
    {
     "name": "stdout",
     "output_type": "stream",
     "text": [
      "10\n",
      "12\n",
      "13\n",
      "14\n",
      "15\n"
     ]
    }
   ],
   "source": [
    "for element in  result:\n",
    "    print(element)"
   ]
  },
  {
   "cell_type": "markdown",
   "id": "25bdc90f-8d19-4d7e-883f-8a56f923cd43",
   "metadata": {},
   "source": [
    "#### Array Join"
   ]
  },
  {
   "cell_type": "code",
   "execution_count": 10,
   "id": "2f9d0923-6e2f-4cd7-a1f2-1e91e3ca77db",
   "metadata": {},
   "outputs": [
    {
     "name": "stdout",
     "output_type": "stream",
     "text": [
      "Joined Array: [1 2 3 4 5 6]\n"
     ]
    }
   ],
   "source": [
    "arr1 = np.array([1, 2, 3])\n",
    "arr2 = np.array([4, 5, 6])\n",
    "arr_join = np.concatenate((arr1, arr2))\n",
    "print(\"Joined Array:\", arr_join)"
   ]
  },
  {
   "cell_type": "markdown",
   "id": "c600c82c-69aa-4a17-a9ff-520a0ed7146d",
   "metadata": {},
   "source": [
    "#### Array Split"
   ]
  },
  {
   "cell_type": "code",
   "execution_count": 11,
   "id": "7f6495d8-5bb6-4df0-afd6-c98258b95cd3",
   "metadata": {},
   "outputs": [
    {
     "name": "stdout",
     "output_type": "stream",
     "text": [
      "Split Arrays: [array([1, 2, 3]), array([4, 5, 6])]\n"
     ]
    }
   ],
   "source": [
    "arr_split = np.array_split(arr_join, 2)\n",
    "print(\"Split Arrays:\", arr_split)"
   ]
  },
  {
   "cell_type": "markdown",
   "id": "d25a1d21-f409-48e6-bbfc-e12a0ebd066b",
   "metadata": {},
   "source": [
    "#### Array Search"
   ]
  },
  {
   "cell_type": "code",
   "execution_count": 12,
   "id": "834fcf4b-47cf-41df-a0de-4217e80b8987",
   "metadata": {},
   "outputs": [
    {
     "name": "stdout",
     "output_type": "stream",
     "text": [
      "Index of 4: (array([3], dtype=int64),)\n"
     ]
    }
   ],
   "source": [
    "index = np.where(arr_join == 4)\n",
    "print(\"Index of 4:\", index)"
   ]
  },
  {
   "cell_type": "markdown",
   "id": "cd629c4d-1fda-4321-b38f-aa0ea3211c05",
   "metadata": {},
   "source": [
    "#### Array Sort"
   ]
  },
  {
   "cell_type": "code",
   "execution_count": 13,
   "id": "aa95a83d-50c4-4f91-9212-fcc41dbea199",
   "metadata": {},
   "outputs": [
    {
     "name": "stdout",
     "output_type": "stream",
     "text": [
      "Sorted Array: [1 2 3 4 5 6]\n"
     ]
    }
   ],
   "source": [
    "arr_sort = np.sort(arr_join)\n",
    "print(\"Sorted Array:\", arr_sort)"
   ]
  },
  {
   "cell_type": "markdown",
   "id": "3e9a50cc-e313-45f4-9eec-44c7a033013a",
   "metadata": {},
   "source": [
    "#### Array Filter"
   ]
  },
  {
   "cell_type": "code",
   "execution_count": 14,
   "id": "392d621d-56f1-4022-b60f-530a6bfcc942",
   "metadata": {},
   "outputs": [
    {
     "name": "stdout",
     "output_type": "stream",
     "text": [
      "Filtered Array: [4 5 6]\n"
     ]
    }
   ],
   "source": [
    "arr_filter = arr_join[arr_join > 3]\n",
    "print(\"Filtered Array:\", arr_filter)"
   ]
  },
  {
   "cell_type": "markdown",
   "id": "c1d69433-0e64-4d95-918b-52fb57ad0aa0",
   "metadata": {},
   "source": [
    "## Random"
   ]
  },
  {
   "cell_type": "markdown",
   "id": "d64419a8-4e4c-457e-b9ef-34539f7a34b7",
   "metadata": {},
   "source": [
    "NumPy provides a variety of functions for generating random numbers and arrays. Here's a list of some common random functions in NumPy"
   ]
  },
  {
   "cell_type": "markdown",
   "id": "d268b61a-8ab3-480f-bf94-cdaa0fdc8aa4",
   "metadata": {},
   "source": [
    "#### np.random.rand \n",
    "Generate random numbers from a uniform distribution over [0, 1)."
   ]
  },
  {
   "cell_type": "code",
   "execution_count": 15,
   "id": "d85ea0ac-8d14-4740-b708-5caefd0ad928",
   "metadata": {},
   "outputs": [
    {
     "name": "stdout",
     "output_type": "stream",
     "text": [
      "[[0.9213901  0.350397  ]\n",
      " [0.08483354 0.86725345]\n",
      " [0.33436114 0.49988585]]\n"
     ]
    }
   ],
   "source": [
    "random_numbers = np.random.rand(3, 2)  # 3x2 array of random numbers\n",
    "print(random_numbers )"
   ]
  },
  {
   "cell_type": "markdown",
   "id": "5a7cf613-d300-4dbf-a651-8cc0f509f622",
   "metadata": {},
   "source": [
    "#### np.random.randn \n",
    "Generate random numbers from a standard normal distribution."
   ]
  },
  {
   "cell_type": "code",
   "execution_count": 16,
   "id": "3b471074-6bc4-4419-b44b-42c6cb53fb27",
   "metadata": {},
   "outputs": [
    {
     "name": "stdout",
     "output_type": "stream",
     "text": [
      "[[-1.4281745   0.0722784 ]\n",
      " [ 0.34200444  0.2533777 ]\n",
      " [-1.96684441  0.01909037]]\n"
     ]
    }
   ],
   "source": [
    "random_numbers_std_normal = np.random.randn(3, 2)  # 3x2 array of standard normal distribution numbers\n",
    "print(random_numbers_std_normal )"
   ]
  },
  {
   "cell_type": "markdown",
   "id": "b5b5bb59-6155-4b1e-87d3-9f36cc1c074d",
   "metadata": {},
   "source": [
    "#### np.random.randint\n",
    "Generate random integers from a specified low to high, exclusive."
   ]
  },
  {
   "cell_type": "code",
   "execution_count": 17,
   "id": "1992a888-7c7f-4362-9641-a133f464e9d5",
   "metadata": {},
   "outputs": [
    {
     "name": "stdout",
     "output_type": "stream",
     "text": [
      "[[5 9]\n",
      " [1 4]\n",
      " [7 6]]\n"
     ]
    }
   ],
   "source": [
    "random_integers = np.random.randint(1, 10, size=(3, 2))  # 3x2 array of random integers between 1 and 10\n",
    "print(random_integers)"
   ]
  },
  {
   "cell_type": "markdown",
   "id": "8d686342-19a1-4e60-8d5a-fef7366146b2",
   "metadata": {},
   "source": [
    "#### np.random.random_sample or np.random.random\n",
    "Generate random floats in the half-open interval [0.0, 1.0)."
   ]
  },
  {
   "cell_type": "code",
   "execution_count": 18,
   "id": "66afa788-f13d-4993-8f87-235449f816b2",
   "metadata": {},
   "outputs": [
    {
     "name": "stdout",
     "output_type": "stream",
     "text": [
      "[[0.2347914  0.99258368]\n",
      " [0.71104656 0.61237905]\n",
      " [0.93973209 0.89573567]]\n"
     ]
    }
   ],
   "source": [
    "random_floats = np.random.random_sample((3, 2))  # 3x2 array of random floats\n",
    "print(random_floats)"
   ]
  },
  {
   "cell_type": "markdown",
   "id": "618e6505-f500-40d8-b274-a8c43e954e03",
   "metadata": {},
   "source": [
    "#### np.random.choice\n",
    "Generates a random sample from a given 1-D array."
   ]
  },
  {
   "cell_type": "code",
   "execution_count": 19,
   "id": "27db7e2d-1b5b-4091-a44e-ea40b26297ef",
   "metadata": {},
   "outputs": [
    {
     "name": "stdout",
     "output_type": "stream",
     "text": [
      "[[5 3]\n",
      " [1 5]\n",
      " [2 2]]\n"
     ]
    }
   ],
   "source": [
    "choices = np.array([1, 2, 3, 4, 5])\n",
    "random_choice = np.random.choice(choices, size=(3, 2))  # 3x2 array of random choices from the array\n",
    "print(random_choice)"
   ]
  },
  {
   "cell_type": "markdown",
   "id": "1d9e30e3-0de3-4419-90d3-1cdcac226e86",
   "metadata": {},
   "source": [
    "#### np.random.shuffle\n",
    "Shuffle an array in-place."
   ]
  },
  {
   "cell_type": "markdown",
   "id": "4ca76d35-f38b-4d6d-aa78-170968605e03",
   "metadata": {},
   "source": [
    "arr = np.array([1, 2, 3, 4, 5])\n",
    "np.random.shuffle(arr)\n",
    "print(arr)"
   ]
  },
  {
   "cell_type": "markdown",
   "id": "3ca468fa-2966-4eaf-8a2b-6ea8d76cc130",
   "metadata": {},
   "source": [
    "#### np.random.permutation\n",
    "Randomly permute a sequence or return a permuted range."
   ]
  },
  {
   "cell_type": "code",
   "execution_count": 20,
   "id": "929d7c89-075f-41a3-9586-a0f35c17ca00",
   "metadata": {},
   "outputs": [
    {
     "name": "stdout",
     "output_type": "stream",
     "text": [
      "[3 2 1]\n"
     ]
    }
   ],
   "source": [
    "permuted_arr = np.random.permutation(arr1)\n",
    "print(permuted_arr)"
   ]
  },
  {
   "cell_type": "markdown",
   "id": "a34630da-c013-49c8-8b5b-d84dd1b8db8f",
   "metadata": {},
   "source": [
    "#### np.random.seed\n",
    "Seed the generator for reproducibility."
   ]
  },
  {
   "cell_type": "code",
   "execution_count": 21,
   "id": "cef39403-f4cc-4a55-b4b0-be368e61c266",
   "metadata": {},
   "outputs": [
    {
     "name": "stdout",
     "output_type": "stream",
     "text": [
      "None\n"
     ]
    }
   ],
   "source": [
    "seed=np.random.seed(42)\n",
    "print(seed)"
   ]
  },
  {
   "cell_type": "markdown",
   "id": "5a70e1ce-801c-4d9b-b784-f21e90bb81ad",
   "metadata": {},
   "source": [
    "## Probability Distribitions\n",
    "NumPy's random module provides functions for generating random numbers from various probability distributions. Here are some common probability distribution functions in NumPy:"
   ]
  },
  {
   "cell_type": "markdown",
   "id": "5c23f0c6-43ee-48d0-85ed-d120ee381cff",
   "metadata": {},
   "source": [
    "#### Uniform Distribution (np.random.uniform):\n",
    "\n",
    "Generates random samples from a uniform distribution over a specified interval"
   ]
  },
  {
   "cell_type": "code",
   "execution_count": 22,
   "id": "f60436eb-8ed4-4c92-b52f-9dbf4961090a",
   "metadata": {},
   "outputs": [
    {
     "name": "stdout",
     "output_type": "stream",
     "text": [
      "[[0.37454012 0.95071431]\n",
      " [0.73199394 0.59865848]\n",
      " [0.15601864 0.15599452]]\n"
     ]
    }
   ],
   "source": [
    "uniform_distribution = np.random.uniform(low=0.0, high=1.0, size=(3, 2))\n",
    "print(uniform_distribution)"
   ]
  },
  {
   "cell_type": "markdown",
   "id": "e97e52d5-b388-4232-bbff-a0241ddc888d",
   "metadata": {},
   "source": [
    "#### Normal Distribution (np.random.normal):\r\n",
    "\r\n",
    "Generates random samples from a normal (Gaussian) distribution."
   ]
  },
  {
   "cell_type": "code",
   "execution_count": 23,
   "id": "88100414-5d9d-4fc0-a8f7-019f5f8dbc74",
   "metadata": {},
   "outputs": [
    {
     "name": "stdout",
     "output_type": "stream",
     "text": [
      "[[ 1.57921282  0.76743473]\n",
      " [-0.46947439  0.54256004]\n",
      " [-0.46341769 -0.46572975]]\n"
     ]
    }
   ],
   "source": [
    "normal_distribution = np.random.normal(loc=0.0, scale=1.0, size=(3, 2))\n",
    "print(normal_distribution)"
   ]
  },
  {
   "cell_type": "markdown",
   "id": "4815fc14-413a-4e11-9fe2-7179a9138142",
   "metadata": {},
   "source": [
    "#### Binomial Distribution (np.random.binomial):\r\n",
    "\r\n",
    "Generates random samples from a binomial distribution."
   ]
  },
  {
   "cell_type": "code",
   "execution_count": 24,
   "id": "71b58afd-4630-40d0-bd17-8913e3bc8f85",
   "metadata": {},
   "outputs": [
    {
     "name": "stdout",
     "output_type": "stream",
     "text": [
      "[[4 5]\n",
      " [5 4]\n",
      " [5 3]]\n"
     ]
    }
   ],
   "source": [
    "binomial_distribution = np.random.binomial(n=10, p=0.5, size=(3, 2))\n",
    "print(binomial_distribution)"
   ]
  },
  {
   "cell_type": "markdown",
   "id": "3395165b-726c-4bb3-96b3-9280388756d6",
   "metadata": {},
   "source": [
    "#### Poisson Distribution (np.random.poisson):\r\n",
    "\r\n",
    "Generates random samples from a Poisson distribution."
   ]
  },
  {
   "cell_type": "code",
   "execution_count": 25,
   "id": "ed9944a1-4ecc-47a1-8b61-ce6f2154d78d",
   "metadata": {},
   "outputs": [
    {
     "name": "stdout",
     "output_type": "stream",
     "text": [
      "[[5 3]\n",
      " [5 4]\n",
      " [6 7]]\n"
     ]
    }
   ],
   "source": [
    "poisson_distribution = np.random.poisson(lam=5, size=(3, 2))\n",
    "print(poisson_distribution)"
   ]
  },
  {
   "cell_type": "markdown",
   "id": "060fae2b-ea44-43e4-90fa-6b56bd5ef25c",
   "metadata": {},
   "source": [
    "#### Exponential Distribution (np.random.exponential):\r\n",
    "\r\n",
    "Generates random samples from an exponential distribution."
   ]
  },
  {
   "cell_type": "code",
   "execution_count": 26,
   "id": "052d22dd-291b-4534-8605-04e89b7909c8",
   "metadata": {},
   "outputs": [
    {
     "name": "stdout",
     "output_type": "stream",
     "text": [
      "[[0.04628197 0.39353209]\n",
      " [0.49213029 0.31656044]\n",
      " [1.76455787 0.441227  ]]\n"
     ]
    }
   ],
   "source": [
    "exponential_distribution = np.random.exponential(scale=1.0, size=(3, 2))\n",
    "print(exponential_distribution)"
   ]
  },
  {
   "cell_type": "markdown",
   "id": "e8ac89ee-3c33-408d-a54e-5f34ccd5edfc",
   "metadata": {},
   "source": [
    "#### Logistic Distribution (np.random.logistic):\r\n",
    "\r\n",
    "Generates random samples from a logistic distribution."
   ]
  },
  {
   "cell_type": "code",
   "execution_count": 27,
   "id": "9c86b580-388f-4c38-9d70-b012f8f66ae8",
   "metadata": {},
   "outputs": [
    {
     "name": "stdout",
     "output_type": "stream",
     "text": [
      "[[-0.93983086  0.17120127]\n",
      " [-1.8076348   1.40008251]\n",
      " [-2.51880073  4.32094654]]\n"
     ]
    }
   ],
   "source": [
    "logistic_distribution = np.random.logistic(loc=0.0, scale=1.0, size=(3, 2))\n",
    "print(logistic_distribution)"
   ]
  },
  {
   "cell_type": "markdown",
   "id": "ce795899-aebf-4434-bd9b-7b63e21ff4f4",
   "metadata": {},
   "source": [
    "#### Chi-Square Distribution (np.random.chisquare):\r\n",
    "\r\n",
    "Generates random samples from a chi-square distribution."
   ]
  },
  {
   "cell_type": "code",
   "execution_count": 28,
   "id": "3108e711-7b59-416e-a6a5-b97b4f4b29d6",
   "metadata": {},
   "outputs": [
    {
     "name": "stdout",
     "output_type": "stream",
     "text": [
      "[[1.15522492 3.91983193]\n",
      " [5.34434366 4.97870708]\n",
      " [0.94940659 1.72707227]]\n"
     ]
    }
   ],
   "source": [
    "chi_square_distribution = np.random.chisquare(df=3, size=(3, 2))\n",
    "print(chi_square_distribution)"
   ]
  },
  {
   "cell_type": "markdown",
   "id": "3c8bd334-1969-4616-a43a-71704e55489f",
   "metadata": {},
   "source": [
    "#### Gamma Distribution (np.random.gamma):\r\n",
    "\r\n",
    "Generates random samples from a gamma distribution."
   ]
  },
  {
   "cell_type": "code",
   "execution_count": 29,
   "id": "d3106758-2a57-4d8c-9c29-0c078777c79a",
   "metadata": {},
   "outputs": [
    {
     "name": "stdout",
     "output_type": "stream",
     "text": [
      "[[1.12143497 1.43828812]\n",
      " [2.95108852 4.10226246]\n",
      " [2.17848714 0.96484462]]\n"
     ]
    }
   ],
   "source": [
    "gamma_distribution = np.random.gamma(shape=2, scale=1, size=(3, 2))\n",
    "print(gamma_distribution)"
   ]
  },
  {
   "cell_type": "markdown",
   "id": "a350730e-4ec5-4429-b779-0d255afd22e1",
   "metadata": {},
   "source": [
    "#### Beta Distribution (np.random.beta):\r\n",
    "\r\n",
    "Generates random samples from a beta distribution."
   ]
  },
  {
   "cell_type": "code",
   "execution_count": 30,
   "id": "f1970b5e-1f3a-480b-bf32-cbf81bec7dbb",
   "metadata": {},
   "outputs": [
    {
     "name": "stdout",
     "output_type": "stream",
     "text": [
      "[[0.15364547 0.30550235]\n",
      " [0.20331388 0.18387688]\n",
      " [0.36782409 0.20209677]]\n"
     ]
    }
   ],
   "source": [
    "beta_distribution = np.random.beta(a=2, b=5, size=(3, 2))\n",
    "print(beta_distribution)"
   ]
  },
  {
   "cell_type": "markdown",
   "id": "43c2c2cc-a485-4f86-b2b0-76251e041005",
   "metadata": {},
   "source": [
    "#### Laplace Distribution (np.random.laplace):\r\n",
    "\r\n",
    "Generates random samples from a Laplace distribution."
   ]
  },
  {
   "cell_type": "code",
   "execution_count": 31,
   "id": "d78ca8ab-970c-444a-b266-18e38702a6de",
   "metadata": {},
   "outputs": [
    {
     "name": "stdout",
     "output_type": "stream",
     "text": [
      "[[-0.45254579 -1.5136558 ]\n",
      " [-0.78554688 -0.15757168]\n",
      " [ 1.01068255  1.27819779]]\n"
     ]
    }
   ],
   "source": [
    "laplace_distribution = np.random.laplace(loc=0.0, scale=1.0, size=(3, 2))\n",
    "print(laplace_distribution )"
   ]
  },
  {
   "cell_type": "markdown",
   "id": "20b43bc0-6457-43e6-a796-59b71372b89c",
   "metadata": {},
   "source": [
    "## Universal Functions"
   ]
  },
  {
   "cell_type": "markdown",
   "id": "c607c4b4-9325-4e2d-858b-50498236eaee",
   "metadata": {},
   "source": [
    "Universal functions (ufuncs) in NumPy are functions that operate element-wise on arrays, performing element-wise operations on the array elements. They are the key to NumPy's ability to perform array operations efficiently and quickly. Here are some common universal functions in NumPy:"
   ]
  },
  {
   "cell_type": "markdown",
   "id": "181a876a-b173-4b7d-a7df-2b9453603b72",
   "metadata": {},
   "source": [
    "### Mathematical Operations:"
   ]
  },
  {
   "cell_type": "markdown",
   "id": "0a03e4a7-d308-4d21-8af5-bf4f2275f94d",
   "metadata": {},
   "source": [
    "#### np.add\n",
    "Add corresponding elements of two arrays."
   ]
  },
  {
   "cell_type": "code",
   "execution_count": 32,
   "id": "9a03ad1a-4d1b-4a30-98db-b0f72894efd2",
   "metadata": {},
   "outputs": [
    {
     "name": "stdout",
     "output_type": "stream",
     "text": [
      "[5 7 9]\n"
     ]
    }
   ],
   "source": [
    "result_add = np.add(arr1, arr2)\n",
    "print(result_add)"
   ]
  },
  {
   "cell_type": "markdown",
   "id": "1e850c97-fcb2-43c4-b6e1-bf87b769a0a4",
   "metadata": {},
   "source": [
    "#### np.subtract: \n",
    "Subtract elements of the second array from the first array."
   ]
  },
  {
   "cell_type": "code",
   "execution_count": 33,
   "id": "7467bac0-a2d5-4091-b22d-ebe164b2470f",
   "metadata": {},
   "outputs": [
    {
     "name": "stdout",
     "output_type": "stream",
     "text": [
      "[-3 -3 -3]\n"
     ]
    }
   ],
   "source": [
    "result_subtract = np.subtract(arr1, arr2)\n",
    "print(result_subtract)"
   ]
  },
  {
   "cell_type": "markdown",
   "id": "b7b904d6-6156-4d2e-98d6-ce4463c20e63",
   "metadata": {},
   "source": [
    "#### np.multiply: \n",
    "Multiply corresponding elements of two arrays."
   ]
  },
  {
   "cell_type": "code",
   "execution_count": 34,
   "id": "24aa6561-a0f8-476a-9a72-78b695870be7",
   "metadata": {},
   "outputs": [
    {
     "name": "stdout",
     "output_type": "stream",
     "text": [
      "[ 4 10 18]\n"
     ]
    }
   ],
   "source": [
    "result_multiply = np.multiply(arr1, arr2)\n",
    "print(result_multiply)"
   ]
  },
  {
   "cell_type": "markdown",
   "id": "ab54b05e-5efa-4437-8348-3c756570b5b0",
   "metadata": {},
   "source": [
    "#### np.divide:\n",
    "Divide elements of the first array by the corresponding elements of the second array."
   ]
  },
  {
   "cell_type": "code",
   "execution_count": 35,
   "id": "2a6e373b-3a19-46fd-9b96-6c38ad0c8702",
   "metadata": {},
   "outputs": [
    {
     "name": "stdout",
     "output_type": "stream",
     "text": [
      "[0.25 0.4  0.5 ]\n"
     ]
    }
   ],
   "source": [
    "result_divide = np.divide(arr1, arr2)\n",
    "print(result_divide)"
   ]
  },
  {
   "cell_type": "markdown",
   "id": "36fcccdc-4cdc-49aa-a490-01edbc0a8edb",
   "metadata": {},
   "source": [
    "#### np.power: \n",
    "Raise elements of the first array to the power of the corresponding elements of the second array."
   ]
  },
  {
   "cell_type": "code",
   "execution_count": 36,
   "id": "cdc68b3e-6afb-4178-8c9b-b2e34bb67ad9",
   "metadata": {},
   "outputs": [
    {
     "name": "stdout",
     "output_type": "stream",
     "text": [
      "[  1  32 729]\n"
     ]
    }
   ],
   "source": [
    "result_power = np.power(arr1, arr2)\n",
    "print(result_power)"
   ]
  },
  {
   "cell_type": "markdown",
   "id": "3d0e22df-f9c0-42f0-80e3-987c1935da0e",
   "metadata": {},
   "source": [
    "#### np.sqrt: \n",
    "Compute the square root of each element."
   ]
  },
  {
   "cell_type": "code",
   "execution_count": 37,
   "id": "cf3a3d05-22e8-432c-b766-d4dcd40230e9",
   "metadata": {},
   "outputs": [
    {
     "name": "stdout",
     "output_type": "stream",
     "text": [
      "[1.         1.41421356 1.73205081]\n"
     ]
    }
   ],
   "source": [
    "result_sqrt = np.sqrt(arr1)\n",
    "print(result_sqrt )"
   ]
  },
  {
   "cell_type": "markdown",
   "id": "5c359b0e-e0bc-461a-8b38-0f921aed1306",
   "metadata": {},
   "source": [
    "## Trigonometric Functions:\n",
    "np.sin, np.cos, np.tan: Compute trigonometric functions."
   ]
  },
  {
   "cell_type": "code",
   "execution_count": 38,
   "id": "86860bfc-115e-4cd5-aac0-605b686f3854",
   "metadata": {},
   "outputs": [
    {
     "name": "stdout",
     "output_type": "stream",
     "text": [
      "[0.84147098 0.90929743 0.14112001]\n",
      "[ 0.54030231 -0.41614684 -0.9899925 ]\n",
      "[ 1.55740772 -2.18503986 -0.14254654]\n"
     ]
    }
   ],
   "source": [
    "result_sin = np.sin(arr1)\n",
    "result_cos = np.cos(arr1)\n",
    "result_tan = np.tan(arr1)\n",
    "print(result_sin)\n",
    "print(result_cos)\n",
    "print(result_tan)"
   ]
  },
  {
   "cell_type": "markdown",
   "id": "f769efe6-8c11-4c1d-82f3-a962c43dea08",
   "metadata": {},
   "source": [
    "#### np.arcsin, np.arccos, np.arctan: Compute inverse trigonometric functions."
   ]
  },
  {
   "cell_type": "code",
   "execution_count": 39,
   "id": "bb08f616-ad4e-47c4-82b8-2b2b3a247e0b",
   "metadata": {},
   "outputs": [
    {
     "name": "stdout",
     "output_type": "stream",
     "text": [
      "[1.57079633 1.57079633 1.57079633]\n",
      "[0. 0. 0.]\n",
      "[0.78539816 0.78539816 0.78539816]\n"
     ]
    }
   ],
   "source": [
    "# Filter values within the valid range\n",
    "valid_values = np.clip(arr1, -1, 1)\n",
    "result_arcsin = np.arcsin(valid_values)\n",
    "result_arccos = np.arccos(valid_values)\n",
    "result_arctan = np.arctan(valid_values)\n",
    "print(result_arcsin)\n",
    "print(result_arccos)\n",
    "print(result_arctan)"
   ]
  },
  {
   "cell_type": "markdown",
   "id": "f2547113-0560-4744-982f-2e842b46e349",
   "metadata": {},
   "source": [
    "## Exponential and Logarithmic Functions:\n",
    "#### np.exp: \n",
    "Compute the exponential of each element."
   ]
  },
  {
   "cell_type": "code",
   "execution_count": 40,
   "id": "de432173-38a5-4a78-848a-e7cf8e4f5660",
   "metadata": {},
   "outputs": [
    {
     "name": "stdout",
     "output_type": "stream",
     "text": [
      "[ 2.71828183  7.3890561  20.08553692]\n"
     ]
    }
   ],
   "source": [
    "result_exp = np.exp(arr1)\n",
    "print(result_exp)"
   ]
  },
  {
   "cell_type": "markdown",
   "id": "7d00a6f7-bbf3-41fc-9ef8-15651709428a",
   "metadata": {},
   "source": [
    "#### np.log, np.log2, np.log10: \n",
    "Compute logarithmic functions."
   ]
  },
  {
   "cell_type": "code",
   "execution_count": 41,
   "id": "2dcefafe-d029-4577-a119-1ed6b73971b9",
   "metadata": {},
   "outputs": [
    {
     "name": "stdout",
     "output_type": "stream",
     "text": [
      "[0.         0.69314718 1.09861229]\n",
      "[0.        1.        1.5849625]\n",
      "[0.         0.30103    0.47712125]\n"
     ]
    }
   ],
   "source": [
    "result_log = np.log(arr1)\n",
    "result_log2 = np.log2(arr1)\n",
    "result_log10 = np.log10(arr1)\n",
    "print(result_log)\n",
    "print(result_log2)\n",
    "print(result_log10 )"
   ]
  },
  {
   "cell_type": "markdown",
   "id": "bf643f85-e698-4842-a312-fcfdb0ad2253",
   "metadata": {},
   "source": [
    "## Rounding and Absolute Value:"
   ]
  },
  {
   "cell_type": "markdown",
   "id": "4320aa5b-c9de-4e7e-9783-d3da718d22ab",
   "metadata": {},
   "source": [
    "#### np.round: \n",
    "Round elements to the nearest integer."
   ]
  },
  {
   "cell_type": "code",
   "execution_count": 42,
   "id": "8620b005-320e-40be-8749-69da473ed9c5",
   "metadata": {},
   "outputs": [
    {
     "name": "stdout",
     "output_type": "stream",
     "text": [
      "[1 2 3]\n"
     ]
    }
   ],
   "source": [
    "result_round = np.round(arr1)\n",
    "print(result_round)"
   ]
  },
  {
   "cell_type": "markdown",
   "id": "cf5ef41f-5ed7-4d17-9175-5bc7714e7cbc",
   "metadata": {},
   "source": [
    "#### np.abs: \n",
    "Compute the absolute value of each element."
   ]
  },
  {
   "cell_type": "code",
   "execution_count": 43,
   "id": "e48721b8-e774-47af-8569-bde8486aab4d",
   "metadata": {},
   "outputs": [
    {
     "name": "stdout",
     "output_type": "stream",
     "text": [
      "[1 2 3]\n"
     ]
    }
   ],
   "source": [
    "result_abs = np.abs(arr1)\n",
    "print(result_abs)"
   ]
  },
  {
   "cell_type": "markdown",
   "id": "31418dda-1fbe-4cff-a8c1-d9b7f13661fd",
   "metadata": {},
   "source": [
    "## Statistical Functions:\n",
    "\n",
    "#### np.mean, np.median, np.std: \n",
    "Compute statistical measures."
   ]
  },
  {
   "cell_type": "code",
   "execution_count": 44,
   "id": "a422ffce-d35f-458f-aa4e-32b37cdec1ec",
   "metadata": {},
   "outputs": [
    {
     "name": "stdout",
     "output_type": "stream",
     "text": [
      "2.0\n",
      "2.0\n",
      "0.816496580927726\n"
     ]
    }
   ],
   "source": [
    "mean_value = np.mean(arr1)\n",
    "median_value = np.median(arr1)\n",
    "std_dev = np.std(arr1)\n",
    "print(mean_value)\n",
    "print(median_value)\n",
    "print(std_dev)"
   ]
  },
  {
   "cell_type": "markdown",
   "id": "d9e09794-d9f7-4df2-a767-6e2d880daa32",
   "metadata": {},
   "source": [
    "#### np.min, np.max: \n",
    "Find the minimum and maximum values."
   ]
  },
  {
   "cell_type": "code",
   "execution_count": 45,
   "id": "62666e72-b89b-41b9-bf93-6527fa59dd2c",
   "metadata": {},
   "outputs": [
    {
     "name": "stdout",
     "output_type": "stream",
     "text": [
      "1\n",
      "3\n"
     ]
    }
   ],
   "source": [
    "min_value = np.min(arr1)\n",
    "max_value = np.max(arr1)\n",
    "print(min_value)\n",
    "print(max_value)"
   ]
  },
  {
   "cell_type": "markdown",
   "id": "2e18bf32-73ee-40aa-9e48-5e2c109ba097",
   "metadata": {},
   "source": [
    "# Pandas: Python Data Analysis Library"
   ]
  },
  {
   "cell_type": "markdown",
   "id": "3ebe3a7c-df00-427e-8378-bbf20786382e",
   "metadata": {},
   "source": [
    "#### Introduction to Pandas\n",
    "\n",
    "Pandas is a fast, powerful, and flexible open-source data analysis and manipulation library for Python."
   ]
  },
  {
   "cell_type": "markdown",
   "id": "2b20abc3-3755-4243-a3fe-47c72ddeaec0",
   "metadata": {},
   "source": [
    "### Pandas Basics"
   ]
  },
  {
   "cell_type": "markdown",
   "id": "8dd6fa92-c257-4fb8-8a79-38118f5d835c",
   "metadata": {},
   "source": [
    "#### Series and DataFrame"
   ]
  },
  {
   "cell_type": "code",
   "execution_count": 46,
   "id": "a2089278-d652-49bb-9e0a-45a5f8d737e5",
   "metadata": {},
   "outputs": [
    {
     "data": {
      "text/html": [
       "<div>\n",
       "<style scoped>\n",
       "    .dataframe tbody tr th:only-of-type {\n",
       "        vertical-align: middle;\n",
       "    }\n",
       "\n",
       "    .dataframe tbody tr th {\n",
       "        vertical-align: top;\n",
       "    }\n",
       "\n",
       "    .dataframe thead th {\n",
       "        text-align: right;\n",
       "    }\n",
       "</style>\n",
       "<table border=\"1\" class=\"dataframe\">\n",
       "  <thead>\n",
       "    <tr style=\"text-align: right;\">\n",
       "      <th></th>\n",
       "      <th>A</th>\n",
       "      <th>B</th>\n",
       "    </tr>\n",
       "  </thead>\n",
       "  <tbody>\n",
       "    <tr>\n",
       "      <th>0</th>\n",
       "      <td>1.0</td>\n",
       "      <td>4</td>\n",
       "    </tr>\n",
       "    <tr>\n",
       "      <th>1</th>\n",
       "      <td>2.0</td>\n",
       "      <td>5</td>\n",
       "    </tr>\n",
       "    <tr>\n",
       "      <th>2</th>\n",
       "      <td>NaN</td>\n",
       "      <td>6</td>\n",
       "    </tr>\n",
       "  </tbody>\n",
       "</table>\n",
       "</div>"
      ],
      "text/plain": [
       "     A  B\n",
       "0  1.0  4\n",
       "1  2.0  5\n",
       "2  NaN  6"
      ]
     },
     "execution_count": 46,
     "metadata": {},
     "output_type": "execute_result"
    }
   ],
   "source": [
    "import pandas as pd\n",
    "\n",
    "# Create a Series\n",
    "series = pd.Series([1, 3, 5, np.nan, 6, 8])\n",
    "\n",
    "# Create a DataFrame\n",
    "df = pd.DataFrame({'A': [1, 2, np.nan], 'B': [4, 5, 6]})\n",
    "df"
   ]
  },
  {
   "cell_type": "markdown",
   "id": "7cf5a8b1-fa76-46c9-9a31-9810449f788e",
   "metadata": {},
   "source": [
    "#### Data Cleaning"
   ]
  },
  {
   "cell_type": "code",
   "execution_count": 47,
   "id": "6aee93cf-0e1c-464e-b246-3293d3f86ee6",
   "metadata": {},
   "outputs": [
    {
     "data": {
      "text/html": [
       "<div>\n",
       "<style scoped>\n",
       "    .dataframe tbody tr th:only-of-type {\n",
       "        vertical-align: middle;\n",
       "    }\n",
       "\n",
       "    .dataframe tbody tr th {\n",
       "        vertical-align: top;\n",
       "    }\n",
       "\n",
       "    .dataframe thead th {\n",
       "        text-align: right;\n",
       "    }\n",
       "</style>\n",
       "<table border=\"1\" class=\"dataframe\">\n",
       "  <thead>\n",
       "    <tr style=\"text-align: right;\">\n",
       "      <th></th>\n",
       "      <th>A</th>\n",
       "      <th>B</th>\n",
       "    </tr>\n",
       "  </thead>\n",
       "  <tbody>\n",
       "    <tr>\n",
       "      <th>0</th>\n",
       "      <td>1.0</td>\n",
       "      <td>4</td>\n",
       "    </tr>\n",
       "    <tr>\n",
       "      <th>1</th>\n",
       "      <td>2.0</td>\n",
       "      <td>5</td>\n",
       "    </tr>\n",
       "    <tr>\n",
       "      <th>2</th>\n",
       "      <td>0.0</td>\n",
       "      <td>6</td>\n",
       "    </tr>\n",
       "  </tbody>\n",
       "</table>\n",
       "</div>"
      ],
      "text/plain": [
       "     A  B\n",
       "0  1.0  4\n",
       "1  2.0  5\n",
       "2  0.0  6"
      ]
     },
     "execution_count": 47,
     "metadata": {},
     "output_type": "execute_result"
    }
   ],
   "source": [
    "# Handling missing data\n",
    "df.dropna()\n",
    "df.fillna(0)\n"
   ]
  },
  {
   "cell_type": "markdown",
   "id": "1413dc2a-0f79-4034-bdc1-1be47d29f7a5",
   "metadata": {},
   "source": [
    "#### Creating a DataFrame from a dictionary:"
   ]
  },
  {
   "cell_type": "code",
   "execution_count": 48,
   "id": "9f27a256-ce15-4820-8611-0800dd3c22c6",
   "metadata": {},
   "outputs": [
    {
     "data": {
      "text/html": [
       "<div>\n",
       "<style scoped>\n",
       "    .dataframe tbody tr th:only-of-type {\n",
       "        vertical-align: middle;\n",
       "    }\n",
       "\n",
       "    .dataframe tbody tr th {\n",
       "        vertical-align: top;\n",
       "    }\n",
       "\n",
       "    .dataframe thead th {\n",
       "        text-align: right;\n",
       "    }\n",
       "</style>\n",
       "<table border=\"1\" class=\"dataframe\">\n",
       "  <thead>\n",
       "    <tr style=\"text-align: right;\">\n",
       "      <th></th>\n",
       "      <th>Name</th>\n",
       "      <th>Age</th>\n",
       "      <th>City</th>\n",
       "    </tr>\n",
       "  </thead>\n",
       "  <tbody>\n",
       "    <tr>\n",
       "      <th>0</th>\n",
       "      <td>Alice</td>\n",
       "      <td>25</td>\n",
       "      <td>New York</td>\n",
       "    </tr>\n",
       "    <tr>\n",
       "      <th>1</th>\n",
       "      <td>Bob</td>\n",
       "      <td>30</td>\n",
       "      <td>San Francisco</td>\n",
       "    </tr>\n",
       "    <tr>\n",
       "      <th>2</th>\n",
       "      <td>Charlie</td>\n",
       "      <td>35</td>\n",
       "      <td>Los Angeles</td>\n",
       "    </tr>\n",
       "  </tbody>\n",
       "</table>\n",
       "</div>"
      ],
      "text/plain": [
       "      Name  Age           City\n",
       "0    Alice   25       New York\n",
       "1      Bob   30  San Francisco\n",
       "2  Charlie   35    Los Angeles"
      ]
     },
     "execution_count": 48,
     "metadata": {},
     "output_type": "execute_result"
    }
   ],
   "source": [
    "data = {'Name': ['Alice', 'Bob', 'Charlie'],\n",
    "        'Age': [25, 30, 35],\n",
    "        'City': ['New York', 'San Francisco', 'Los Angeles']}\n",
    "df = pd.DataFrame(data)\n",
    "df"
   ]
  },
  {
   "cell_type": "markdown",
   "id": "0170966d-f153-496b-bfbc-22443a2eb976",
   "metadata": {},
   "source": [
    "#### Creating a DataFrame from a list of dictionaries:"
   ]
  },
  {
   "cell_type": "code",
   "execution_count": 49,
   "id": "e45b6cca-2f44-4802-a800-08a5a0954d50",
   "metadata": {},
   "outputs": [
    {
     "data": {
      "text/html": [
       "<div>\n",
       "<style scoped>\n",
       "    .dataframe tbody tr th:only-of-type {\n",
       "        vertical-align: middle;\n",
       "    }\n",
       "\n",
       "    .dataframe tbody tr th {\n",
       "        vertical-align: top;\n",
       "    }\n",
       "\n",
       "    .dataframe thead th {\n",
       "        text-align: right;\n",
       "    }\n",
       "</style>\n",
       "<table border=\"1\" class=\"dataframe\">\n",
       "  <thead>\n",
       "    <tr style=\"text-align: right;\">\n",
       "      <th></th>\n",
       "      <th>Name</th>\n",
       "      <th>Age</th>\n",
       "      <th>City</th>\n",
       "    </tr>\n",
       "  </thead>\n",
       "  <tbody>\n",
       "    <tr>\n",
       "      <th>0</th>\n",
       "      <td>Alice</td>\n",
       "      <td>25</td>\n",
       "      <td>New York</td>\n",
       "    </tr>\n",
       "    <tr>\n",
       "      <th>1</th>\n",
       "      <td>Bob</td>\n",
       "      <td>30</td>\n",
       "      <td>San Francisco</td>\n",
       "    </tr>\n",
       "    <tr>\n",
       "      <th>2</th>\n",
       "      <td>Charlie</td>\n",
       "      <td>35</td>\n",
       "      <td>Los Angeles</td>\n",
       "    </tr>\n",
       "  </tbody>\n",
       "</table>\n",
       "</div>"
      ],
      "text/plain": [
       "      Name  Age           City\n",
       "0    Alice   25       New York\n",
       "1      Bob   30  San Francisco\n",
       "2  Charlie   35    Los Angeles"
      ]
     },
     "execution_count": 49,
     "metadata": {},
     "output_type": "execute_result"
    }
   ],
   "source": [
    "data_list = [{'Name': 'Alice', 'Age': 25, 'City': 'New York'},\n",
    "             {'Name': 'Bob', 'Age': 30, 'City': 'San Francisco'},\n",
    "             {'Name': 'Charlie', 'Age': 35, 'City': 'Los Angeles'}]\n",
    "df_from_list = pd.DataFrame(data_list)\n",
    "df_from_list"
   ]
  },
  {
   "cell_type": "markdown",
   "id": "48335f53-95ec-43a1-b400-66409edce1e6",
   "metadata": {},
   "source": [
    "### Reading and Writing Data:"
   ]
  },
  {
   "cell_type": "markdown",
   "id": "6f22f259-db61-46ee-80a4-7c99bd88e1c4",
   "metadata": {},
   "source": [
    "#### Reading from CSV:"
   ]
  },
  {
   "cell_type": "code",
   "execution_count": 50,
   "id": "56acf0f0-5af2-499f-bdd1-08f87c5a67c4",
   "metadata": {},
   "outputs": [
    {
     "data": {
      "text/html": [
       "<div>\n",
       "<style scoped>\n",
       "    .dataframe tbody tr th:only-of-type {\n",
       "        vertical-align: middle;\n",
       "    }\n",
       "\n",
       "    .dataframe tbody tr th {\n",
       "        vertical-align: top;\n",
       "    }\n",
       "\n",
       "    .dataframe thead th {\n",
       "        text-align: right;\n",
       "    }\n",
       "</style>\n",
       "<table border=\"1\" class=\"dataframe\">\n",
       "  <thead>\n",
       "    <tr style=\"text-align: right;\">\n",
       "      <th></th>\n",
       "      <th>Ths is an example file.</th>\n",
       "    </tr>\n",
       "  </thead>\n",
       "  <tbody>\n",
       "    <tr>\n",
       "      <th>0</th>\n",
       "      <td>Python is fun</td>\n",
       "    </tr>\n",
       "  </tbody>\n",
       "</table>\n",
       "</div>"
      ],
      "text/plain": [
       "  Ths is an example file. \n",
       "0            Python is fun"
      ]
     },
     "execution_count": 50,
     "metadata": {},
     "output_type": "execute_result"
    }
   ],
   "source": [
    "df_csv = pd.read_csv('example.txt')\n",
    "df_csv"
   ]
  },
  {
   "cell_type": "markdown",
   "id": "0fd5143d-05d1-44db-a990-c5ff1d82d3ba",
   "metadata": {},
   "source": [
    "#### Writing to CSV:"
   ]
  },
  {
   "cell_type": "code",
   "execution_count": 51,
   "id": "42be4a44-35ec-4fab-bbf3-b4b1d64be3cd",
   "metadata": {},
   "outputs": [],
   "source": [
    "df.to_csv('output_filename.csv', index=False)\n"
   ]
  },
  {
   "cell_type": "markdown",
   "id": "5e3a7e7c-66a2-44f0-bab1-5492a6c8ef29",
   "metadata": {},
   "source": [
    "### Data Indexing and Selection"
   ]
  },
  {
   "cell_type": "markdown",
   "id": "f91545d9-819d-43e5-ae91-1b61cc0f81f7",
   "metadata": {},
   "source": [
    "#### Selecting a column:"
   ]
  },
  {
   "cell_type": "code",
   "execution_count": 52,
   "id": "28cab274-dc54-41db-b3de-3058a4faf13d",
   "metadata": {},
   "outputs": [
    {
     "data": {
      "text/plain": [
       "0      Alice\n",
       "1        Bob\n",
       "2    Charlie\n",
       "Name: Name, dtype: object"
      ]
     },
     "execution_count": 52,
     "metadata": {},
     "output_type": "execute_result"
    }
   ],
   "source": [
    "name_column = df['Name']\n",
    "name_column"
   ]
  },
  {
   "cell_type": "markdown",
   "id": "b697247f-b627-442b-b622-60ba7972feb1",
   "metadata": {},
   "source": [
    "#### Selecting multiple columns:"
   ]
  },
  {
   "cell_type": "code",
   "execution_count": 53,
   "id": "3c89b96e-0db4-4545-ad26-cc8e4b039ae6",
   "metadata": {},
   "outputs": [
    {
     "data": {
      "text/html": [
       "<div>\n",
       "<style scoped>\n",
       "    .dataframe tbody tr th:only-of-type {\n",
       "        vertical-align: middle;\n",
       "    }\n",
       "\n",
       "    .dataframe tbody tr th {\n",
       "        vertical-align: top;\n",
       "    }\n",
       "\n",
       "    .dataframe thead th {\n",
       "        text-align: right;\n",
       "    }\n",
       "</style>\n",
       "<table border=\"1\" class=\"dataframe\">\n",
       "  <thead>\n",
       "    <tr style=\"text-align: right;\">\n",
       "      <th></th>\n",
       "      <th>Name</th>\n",
       "      <th>Age</th>\n",
       "    </tr>\n",
       "  </thead>\n",
       "  <tbody>\n",
       "    <tr>\n",
       "      <th>0</th>\n",
       "      <td>Alice</td>\n",
       "      <td>25</td>\n",
       "    </tr>\n",
       "    <tr>\n",
       "      <th>1</th>\n",
       "      <td>Bob</td>\n",
       "      <td>30</td>\n",
       "    </tr>\n",
       "    <tr>\n",
       "      <th>2</th>\n",
       "      <td>Charlie</td>\n",
       "      <td>35</td>\n",
       "    </tr>\n",
       "  </tbody>\n",
       "</table>\n",
       "</div>"
      ],
      "text/plain": [
       "      Name  Age\n",
       "0    Alice   25\n",
       "1      Bob   30\n",
       "2  Charlie   35"
      ]
     },
     "execution_count": 53,
     "metadata": {},
     "output_type": "execute_result"
    }
   ],
   "source": [
    "selected_columns = df[['Name', 'Age']]\n",
    "selected_columns"
   ]
  },
  {
   "cell_type": "markdown",
   "id": "6bb39f7e-1ae7-47c8-9070-9ccb8b1843e5",
   "metadata": {},
   "source": [
    "#### Selecting rows based on conditions:"
   ]
  },
  {
   "cell_type": "code",
   "execution_count": 54,
   "id": "81a46e69-9c42-424c-9c86-33c97b99ec63",
   "metadata": {},
   "outputs": [
    {
     "data": {
      "text/html": [
       "<div>\n",
       "<style scoped>\n",
       "    .dataframe tbody tr th:only-of-type {\n",
       "        vertical-align: middle;\n",
       "    }\n",
       "\n",
       "    .dataframe tbody tr th {\n",
       "        vertical-align: top;\n",
       "    }\n",
       "\n",
       "    .dataframe thead th {\n",
       "        text-align: right;\n",
       "    }\n",
       "</style>\n",
       "<table border=\"1\" class=\"dataframe\">\n",
       "  <thead>\n",
       "    <tr style=\"text-align: right;\">\n",
       "      <th></th>\n",
       "      <th>Name</th>\n",
       "      <th>Age</th>\n",
       "      <th>City</th>\n",
       "    </tr>\n",
       "  </thead>\n",
       "  <tbody>\n",
       "    <tr>\n",
       "      <th>0</th>\n",
       "      <td>Alice</td>\n",
       "      <td>25</td>\n",
       "      <td>New York</td>\n",
       "    </tr>\n",
       "  </tbody>\n",
       "</table>\n",
       "</div>"
      ],
      "text/plain": [
       "    Name  Age      City\n",
       "0  Alice   25  New York"
      ]
     },
     "execution_count": 54,
     "metadata": {},
     "output_type": "execute_result"
    }
   ],
   "source": [
    "young_people = df[df['Age'] < 30]\n",
    "young_people"
   ]
  },
  {
   "cell_type": "markdown",
   "id": "680f0507-1702-446c-8e7f-80f356a82f56",
   "metadata": {},
   "source": [
    "### Handling Missing Data:"
   ]
  },
  {
   "cell_type": "markdown",
   "id": "274dabc4-d112-4f11-bda0-f8a14c7dd639",
   "metadata": {},
   "source": [
    "#### Checking for missing values:"
   ]
  },
  {
   "cell_type": "code",
   "execution_count": 55,
   "id": "d6a4b599-c17b-4027-b866-d5f777fc48db",
   "metadata": {},
   "outputs": [
    {
     "data": {
      "text/plain": [
       "Name    0\n",
       "Age     0\n",
       "City    0\n",
       "dtype: int64"
      ]
     },
     "execution_count": 55,
     "metadata": {},
     "output_type": "execute_result"
    }
   ],
   "source": [
    "missing_values = df.isnull().sum()\n",
    "missing_values"
   ]
  },
  {
   "cell_type": "markdown",
   "id": "44cc8373-9ba5-44e8-aa81-e11f0e4aa641",
   "metadata": {},
   "source": [
    "#### Dropping missing values:"
   ]
  },
  {
   "cell_type": "code",
   "execution_count": 56,
   "id": "48a3e494-b538-45bc-a53a-d92eb607cb74",
   "metadata": {},
   "outputs": [
    {
     "data": {
      "text/html": [
       "<div>\n",
       "<style scoped>\n",
       "    .dataframe tbody tr th:only-of-type {\n",
       "        vertical-align: middle;\n",
       "    }\n",
       "\n",
       "    .dataframe tbody tr th {\n",
       "        vertical-align: top;\n",
       "    }\n",
       "\n",
       "    .dataframe thead th {\n",
       "        text-align: right;\n",
       "    }\n",
       "</style>\n",
       "<table border=\"1\" class=\"dataframe\">\n",
       "  <thead>\n",
       "    <tr style=\"text-align: right;\">\n",
       "      <th></th>\n",
       "      <th>Name</th>\n",
       "      <th>Age</th>\n",
       "      <th>City</th>\n",
       "    </tr>\n",
       "  </thead>\n",
       "  <tbody>\n",
       "    <tr>\n",
       "      <th>0</th>\n",
       "      <td>Alice</td>\n",
       "      <td>25</td>\n",
       "      <td>New York</td>\n",
       "    </tr>\n",
       "    <tr>\n",
       "      <th>1</th>\n",
       "      <td>Bob</td>\n",
       "      <td>30</td>\n",
       "      <td>San Francisco</td>\n",
       "    </tr>\n",
       "    <tr>\n",
       "      <th>2</th>\n",
       "      <td>Charlie</td>\n",
       "      <td>35</td>\n",
       "      <td>Los Angeles</td>\n",
       "    </tr>\n",
       "  </tbody>\n",
       "</table>\n",
       "</div>"
      ],
      "text/plain": [
       "      Name  Age           City\n",
       "0    Alice   25       New York\n",
       "1      Bob   30  San Francisco\n",
       "2  Charlie   35    Los Angeles"
      ]
     },
     "execution_count": 56,
     "metadata": {},
     "output_type": "execute_result"
    }
   ],
   "source": [
    "df_no_missing = df.dropna()\n",
    "df_no_missing"
   ]
  },
  {
   "cell_type": "markdown",
   "id": "42637910-b93a-493f-bac6-51f138e8b845",
   "metadata": {},
   "source": [
    "#### Filling missing values:"
   ]
  },
  {
   "cell_type": "code",
   "execution_count": 57,
   "id": "5479c9b4-5bbe-4fb9-8345-dceae8be3fff",
   "metadata": {},
   "outputs": [
    {
     "data": {
      "text/html": [
       "<div>\n",
       "<style scoped>\n",
       "    .dataframe tbody tr th:only-of-type {\n",
       "        vertical-align: middle;\n",
       "    }\n",
       "\n",
       "    .dataframe tbody tr th {\n",
       "        vertical-align: top;\n",
       "    }\n",
       "\n",
       "    .dataframe thead th {\n",
       "        text-align: right;\n",
       "    }\n",
       "</style>\n",
       "<table border=\"1\" class=\"dataframe\">\n",
       "  <thead>\n",
       "    <tr style=\"text-align: right;\">\n",
       "      <th></th>\n",
       "      <th>Name</th>\n",
       "      <th>Age</th>\n",
       "      <th>City</th>\n",
       "    </tr>\n",
       "  </thead>\n",
       "  <tbody>\n",
       "    <tr>\n",
       "      <th>0</th>\n",
       "      <td>Alice</td>\n",
       "      <td>25</td>\n",
       "      <td>New York</td>\n",
       "    </tr>\n",
       "    <tr>\n",
       "      <th>1</th>\n",
       "      <td>Bob</td>\n",
       "      <td>30</td>\n",
       "      <td>San Francisco</td>\n",
       "    </tr>\n",
       "    <tr>\n",
       "      <th>2</th>\n",
       "      <td>Charlie</td>\n",
       "      <td>35</td>\n",
       "      <td>Los Angeles</td>\n",
       "    </tr>\n",
       "  </tbody>\n",
       "</table>\n",
       "</div>"
      ],
      "text/plain": [
       "      Name  Age           City\n",
       "0    Alice   25       New York\n",
       "1      Bob   30  San Francisco\n",
       "2  Charlie   35    Los Angeles"
      ]
     },
     "execution_count": 57,
     "metadata": {},
     "output_type": "execute_result"
    }
   ],
   "source": [
    "df_filled = df.fillna(value=0)\n",
    "df_filled"
   ]
  },
  {
   "cell_type": "markdown",
   "id": "d2d96df0-52c1-4b1f-a8a4-961b11cef99b",
   "metadata": {},
   "source": [
    "### Grouping and Aggregation:"
   ]
  },
  {
   "cell_type": "markdown",
   "id": "41962733-bb2f-4180-898f-b13ee8b6550b",
   "metadata": {},
   "source": [
    "#### Grouping by a column:"
   ]
  },
  {
   "cell_type": "code",
   "execution_count": 58,
   "id": "3909475c-be91-4d29-8a7e-131a8dfc0cc9",
   "metadata": {},
   "outputs": [
    {
     "data": {
      "text/plain": [
       "<pandas.core.groupby.generic.DataFrameGroupBy object at 0x000001B5871B0FD0>"
      ]
     },
     "execution_count": 58,
     "metadata": {},
     "output_type": "execute_result"
    }
   ],
   "source": [
    "grouped_by_city = df.groupby('City')\n",
    "grouped_by_city"
   ]
  },
  {
   "cell_type": "markdown",
   "id": "d33d6e9b-2661-4415-b7f5-ed985871845e",
   "metadata": {},
   "source": [
    "#### Aggregating with mean:"
   ]
  },
  {
   "cell_type": "code",
   "execution_count": 59,
   "id": "fe6f8840-d277-459a-87ab-6e8306a2c1a6",
   "metadata": {},
   "outputs": [
    {
     "data": {
      "text/plain": [
       "<pandas.core.groupby.generic.DataFrameGroupBy object at 0x000001B5871B0FD0>"
      ]
     },
     "execution_count": 59,
     "metadata": {},
     "output_type": "execute_result"
    }
   ],
   "source": [
    "mean_age_by_city = grouped_by_city['Age'].mean()\n",
    "grouped_by_city"
   ]
  },
  {
   "cell_type": "markdown",
   "id": "bf5457e4-7d6e-43e0-9a92-2b98ae02292a",
   "metadata": {},
   "source": [
    "### Merging and Concatenating:"
   ]
  },
  {
   "cell_type": "markdown",
   "id": "88bc81e4-6ee3-4bb4-ab27-14d3a1fcb2d7",
   "metadata": {},
   "source": [
    "#### Concatenating DataFrames vertically:"
   ]
  },
  {
   "cell_type": "code",
   "execution_count": 60,
   "id": "473e2836-cc06-499c-acb6-b368448b59f3",
   "metadata": {},
   "outputs": [
    {
     "data": {
      "text/html": [
       "<div>\n",
       "<style scoped>\n",
       "    .dataframe tbody tr th:only-of-type {\n",
       "        vertical-align: middle;\n",
       "    }\n",
       "\n",
       "    .dataframe tbody tr th {\n",
       "        vertical-align: top;\n",
       "    }\n",
       "\n",
       "    .dataframe thead th {\n",
       "        text-align: right;\n",
       "    }\n",
       "</style>\n",
       "<table border=\"1\" class=\"dataframe\">\n",
       "  <thead>\n",
       "    <tr style=\"text-align: right;\">\n",
       "      <th></th>\n",
       "      <th>Name</th>\n",
       "      <th>Age</th>\n",
       "      <th>City</th>\n",
       "    </tr>\n",
       "  </thead>\n",
       "  <tbody>\n",
       "    <tr>\n",
       "      <th>0</th>\n",
       "      <td>Alice</td>\n",
       "      <td>25</td>\n",
       "      <td>New York</td>\n",
       "    </tr>\n",
       "    <tr>\n",
       "      <th>1</th>\n",
       "      <td>Bob</td>\n",
       "      <td>30</td>\n",
       "      <td>San Francisco</td>\n",
       "    </tr>\n",
       "    <tr>\n",
       "      <th>2</th>\n",
       "      <td>Charlie</td>\n",
       "      <td>35</td>\n",
       "      <td>Los Angeles</td>\n",
       "    </tr>\n",
       "    <tr>\n",
       "      <th>0</th>\n",
       "      <td>David</td>\n",
       "      <td>28</td>\n",
       "      <td>Chicago</td>\n",
       "    </tr>\n",
       "    <tr>\n",
       "      <th>1</th>\n",
       "      <td>Eva</td>\n",
       "      <td>32</td>\n",
       "      <td>Seattle</td>\n",
       "    </tr>\n",
       "    <tr>\n",
       "      <th>2</th>\n",
       "      <td>Frank</td>\n",
       "      <td>40</td>\n",
       "      <td>Miami</td>\n",
       "    </tr>\n",
       "  </tbody>\n",
       "</table>\n",
       "</div>"
      ],
      "text/plain": [
       "      Name  Age           City\n",
       "0    Alice   25       New York\n",
       "1      Bob   30  San Francisco\n",
       "2  Charlie   35    Los Angeles\n",
       "0    David   28        Chicago\n",
       "1      Eva   32        Seattle\n",
       "2    Frank   40          Miami"
      ]
     },
     "execution_count": 60,
     "metadata": {},
     "output_type": "execute_result"
    }
   ],
   "source": [
    "# Define DataFrame df1\n",
    "data1 = {'Name': ['Alice', 'Bob', 'Charlie'],\n",
    "         'Age': [25, 30, 35],\n",
    "         'City': ['New York', 'San Francisco', 'Los Angeles']}\n",
    "df1 = pd.DataFrame(data1)\n",
    "\n",
    "# Define DataFrame df2\n",
    "data2 = {'Name': ['David', 'Eva', 'Frank'],\n",
    "         'Age': [28, 32, 40],\n",
    "         'City': ['Chicago', 'Seattle', 'Miami']}\n",
    "df2 = pd.DataFrame(data2)\n",
    "\n",
    "# Concatenate DataFrames vertically\n",
    "df_concatenated = pd.concat([df1, df2], axis=0)\n",
    "\n",
    "# Display the concatenated DataFrame\n",
    "df_concatenated"
   ]
  },
  {
   "cell_type": "markdown",
   "id": "5a391305-6116-4dca-9bca-7e8e839d5c27",
   "metadata": {},
   "source": [
    "#### Merging DataFrames:"
   ]
  },
  {
   "cell_type": "code",
   "execution_count": 61,
   "id": "49da8c45-f23d-4692-b6ee-eada01f46b98",
   "metadata": {},
   "outputs": [
    {
     "data": {
      "text/html": [
       "<div>\n",
       "<style scoped>\n",
       "    .dataframe tbody tr th:only-of-type {\n",
       "        vertical-align: middle;\n",
       "    }\n",
       "\n",
       "    .dataframe tbody tr th {\n",
       "        vertical-align: top;\n",
       "    }\n",
       "\n",
       "    .dataframe thead th {\n",
       "        text-align: right;\n",
       "    }\n",
       "</style>\n",
       "<table border=\"1\" class=\"dataframe\">\n",
       "  <thead>\n",
       "    <tr style=\"text-align: right;\">\n",
       "      <th></th>\n",
       "      <th>ID</th>\n",
       "      <th>Name</th>\n",
       "      <th>Score1</th>\n",
       "      <th>Score2</th>\n",
       "    </tr>\n",
       "  </thead>\n",
       "  <tbody>\n",
       "    <tr>\n",
       "      <th>0</th>\n",
       "      <td>1</td>\n",
       "      <td>Alice</td>\n",
       "      <td>85</td>\n",
       "      <td>92</td>\n",
       "    </tr>\n",
       "    <tr>\n",
       "      <th>1</th>\n",
       "      <td>2</td>\n",
       "      <td>Bob</td>\n",
       "      <td>90</td>\n",
       "      <td>88</td>\n",
       "    </tr>\n",
       "    <tr>\n",
       "      <th>2</th>\n",
       "      <td>3</td>\n",
       "      <td>Charlie</td>\n",
       "      <td>75</td>\n",
       "      <td>95</td>\n",
       "    </tr>\n",
       "  </tbody>\n",
       "</table>\n",
       "</div>"
      ],
      "text/plain": [
       "   ID     Name  Score1  Score2\n",
       "0   1    Alice      85      92\n",
       "1   2      Bob      90      88\n",
       "2   3  Charlie      75      95"
      ]
     },
     "execution_count": 61,
     "metadata": {},
     "output_type": "execute_result"
    }
   ],
   "source": [
    "# Sample DataFrame df1\n",
    "data1 = {'ID': [1, 2, 3],\n",
    "         'Name': ['Alice', 'Bob', 'Charlie'],\n",
    "         'Score1': [85, 90, 75]}\n",
    "df3 = pd.DataFrame(data1)\n",
    "\n",
    "# Sample DataFrame df2\n",
    "data2 = {'ID': [1, 2, 3],\n",
    "         'Score2': [92, 88, 95]}\n",
    "df4 = pd.DataFrame(data2)\n",
    "\n",
    "# Merging on the 'ID' column\n",
    "merged_df = pd.merge(df3, df4, on='ID')\n",
    "merged_df"
   ]
  },
  {
   "cell_type": "markdown",
   "id": "8bf29b3b-16c2-45f1-9f4f-8d41c2a74290",
   "metadata": {},
   "source": [
    "### Sorting DataFrames:"
   ]
  },
  {
   "cell_type": "markdown",
   "id": "0faa3432-7b89-42e2-a631-29db0eac10e7",
   "metadata": {},
   "source": [
    "#### Sorting by a column:"
   ]
  },
  {
   "cell_type": "code",
   "execution_count": 62,
   "id": "f7f7b695-fd41-490d-b8d2-903f3303fd48",
   "metadata": {},
   "outputs": [
    {
     "data": {
      "text/html": [
       "<div>\n",
       "<style scoped>\n",
       "    .dataframe tbody tr th:only-of-type {\n",
       "        vertical-align: middle;\n",
       "    }\n",
       "\n",
       "    .dataframe tbody tr th {\n",
       "        vertical-align: top;\n",
       "    }\n",
       "\n",
       "    .dataframe thead th {\n",
       "        text-align: right;\n",
       "    }\n",
       "</style>\n",
       "<table border=\"1\" class=\"dataframe\">\n",
       "  <thead>\n",
       "    <tr style=\"text-align: right;\">\n",
       "      <th></th>\n",
       "      <th>Name</th>\n",
       "      <th>Age</th>\n",
       "      <th>City</th>\n",
       "    </tr>\n",
       "  </thead>\n",
       "  <tbody>\n",
       "    <tr>\n",
       "      <th>2</th>\n",
       "      <td>Charlie</td>\n",
       "      <td>35</td>\n",
       "      <td>Los Angeles</td>\n",
       "    </tr>\n",
       "    <tr>\n",
       "      <th>1</th>\n",
       "      <td>Bob</td>\n",
       "      <td>30</td>\n",
       "      <td>San Francisco</td>\n",
       "    </tr>\n",
       "    <tr>\n",
       "      <th>0</th>\n",
       "      <td>Alice</td>\n",
       "      <td>25</td>\n",
       "      <td>New York</td>\n",
       "    </tr>\n",
       "  </tbody>\n",
       "</table>\n",
       "</div>"
      ],
      "text/plain": [
       "      Name  Age           City\n",
       "2  Charlie   35    Los Angeles\n",
       "1      Bob   30  San Francisco\n",
       "0    Alice   25       New York"
      ]
     },
     "execution_count": 62,
     "metadata": {},
     "output_type": "execute_result"
    }
   ],
   "source": [
    "sorted_df = df.sort_values(by='Age', ascending=False)\n",
    "sorted_df"
   ]
  },
  {
   "cell_type": "markdown",
   "id": "ce1a13f3-5c7b-45de-873c-076e30e91de6",
   "metadata": {},
   "source": [
    "#### Applying a function to a column:"
   ]
  },
  {
   "cell_type": "code",
   "execution_count": 63,
   "id": "9e0ffb4b-1b98-4326-842e-5e732bc0dd44",
   "metadata": {},
   "outputs": [
    {
     "data": {
      "text/plain": [
       "0    26\n",
       "1    31\n",
       "2    36\n",
       "Name: Age, dtype: int64"
      ]
     },
     "execution_count": 63,
     "metadata": {},
     "output_type": "execute_result"
    }
   ],
   "source": [
    "df['Age'] = df['Age'].apply(lambda x: x + 1)\n",
    "df['Age']"
   ]
  },
  {
   "cell_type": "markdown",
   "id": "3173bdc9-87e1-4227-a536-7f42afb79740",
   "metadata": {},
   "source": [
    "### Statistical Summary:"
   ]
  },
  {
   "cell_type": "markdown",
   "id": "e2733110-9e7b-44da-9edb-d260429c899f",
   "metadata": {},
   "source": [
    "#### Descriptive statistics:"
   ]
  },
  {
   "cell_type": "code",
   "execution_count": 64,
   "id": "62fcf5fa-1813-44c3-9cd4-d78524efe7d0",
   "metadata": {},
   "outputs": [
    {
     "data": {
      "text/html": [
       "<div>\n",
       "<style scoped>\n",
       "    .dataframe tbody tr th:only-of-type {\n",
       "        vertical-align: middle;\n",
       "    }\n",
       "\n",
       "    .dataframe tbody tr th {\n",
       "        vertical-align: top;\n",
       "    }\n",
       "\n",
       "    .dataframe thead th {\n",
       "        text-align: right;\n",
       "    }\n",
       "</style>\n",
       "<table border=\"1\" class=\"dataframe\">\n",
       "  <thead>\n",
       "    <tr style=\"text-align: right;\">\n",
       "      <th></th>\n",
       "      <th>Age</th>\n",
       "    </tr>\n",
       "  </thead>\n",
       "  <tbody>\n",
       "    <tr>\n",
       "      <th>count</th>\n",
       "      <td>3.0</td>\n",
       "    </tr>\n",
       "    <tr>\n",
       "      <th>mean</th>\n",
       "      <td>31.0</td>\n",
       "    </tr>\n",
       "    <tr>\n",
       "      <th>std</th>\n",
       "      <td>5.0</td>\n",
       "    </tr>\n",
       "    <tr>\n",
       "      <th>min</th>\n",
       "      <td>26.0</td>\n",
       "    </tr>\n",
       "    <tr>\n",
       "      <th>25%</th>\n",
       "      <td>28.5</td>\n",
       "    </tr>\n",
       "    <tr>\n",
       "      <th>50%</th>\n",
       "      <td>31.0</td>\n",
       "    </tr>\n",
       "    <tr>\n",
       "      <th>75%</th>\n",
       "      <td>33.5</td>\n",
       "    </tr>\n",
       "    <tr>\n",
       "      <th>max</th>\n",
       "      <td>36.0</td>\n",
       "    </tr>\n",
       "  </tbody>\n",
       "</table>\n",
       "</div>"
      ],
      "text/plain": [
       "        Age\n",
       "count   3.0\n",
       "mean   31.0\n",
       "std     5.0\n",
       "min    26.0\n",
       "25%    28.5\n",
       "50%    31.0\n",
       "75%    33.5\n",
       "max    36.0"
      ]
     },
     "execution_count": 64,
     "metadata": {},
     "output_type": "execute_result"
    }
   ],
   "source": [
    "summary_stats = df.describe()\n",
    "summary_stats"
   ]
  },
  {
   "cell_type": "markdown",
   "id": "dd70fc73-3b5b-4548-85eb-1cefabbdb703",
   "metadata": {},
   "source": [
    "### Renaming Columns:"
   ]
  },
  {
   "cell_type": "markdown",
   "id": "01b2c9de-796b-4815-ad71-535d6f420d52",
   "metadata": {},
   "source": [
    "Renaming specific columns:"
   ]
  },
  {
   "cell_type": "code",
   "execution_count": 65,
   "id": "4cd59482-46ba-41ef-833d-b8eb336e2cc5",
   "metadata": {},
   "outputs": [
    {
     "data": {
      "text/html": [
       "<div>\n",
       "<style scoped>\n",
       "    .dataframe tbody tr th:only-of-type {\n",
       "        vertical-align: middle;\n",
       "    }\n",
       "\n",
       "    .dataframe tbody tr th {\n",
       "        vertical-align: top;\n",
       "    }\n",
       "\n",
       "    .dataframe thead th {\n",
       "        text-align: right;\n",
       "    }\n",
       "</style>\n",
       "<table border=\"1\" class=\"dataframe\">\n",
       "  <thead>\n",
       "    <tr style=\"text-align: right;\">\n",
       "      <th></th>\n",
       "      <th>Name1</th>\n",
       "      <th>Age</th>\n",
       "      <th>City</th>\n",
       "    </tr>\n",
       "  </thead>\n",
       "  <tbody>\n",
       "    <tr>\n",
       "      <th>0</th>\n",
       "      <td>Alice</td>\n",
       "      <td>26</td>\n",
       "      <td>New York</td>\n",
       "    </tr>\n",
       "    <tr>\n",
       "      <th>1</th>\n",
       "      <td>Bob</td>\n",
       "      <td>31</td>\n",
       "      <td>San Francisco</td>\n",
       "    </tr>\n",
       "    <tr>\n",
       "      <th>2</th>\n",
       "      <td>Charlie</td>\n",
       "      <td>36</td>\n",
       "      <td>Los Angeles</td>\n",
       "    </tr>\n",
       "  </tbody>\n",
       "</table>\n",
       "</div>"
      ],
      "text/plain": [
       "     Name1  Age           City\n",
       "0    Alice   26       New York\n",
       "1      Bob   31  San Francisco\n",
       "2  Charlie   36    Los Angeles"
      ]
     },
     "execution_count": 65,
     "metadata": {},
     "output_type": "execute_result"
    }
   ],
   "source": [
    "df\n",
    "df.rename(columns={'Name': 'Name1'}, inplace=True)\n",
    "df"
   ]
  },
  {
   "cell_type": "code",
   "execution_count": 66,
   "id": "81e3da62-9fbf-48a1-b774-34eaf8072354",
   "metadata": {},
   "outputs": [
    {
     "data": {
      "text/html": [
       "<div>\n",
       "<style scoped>\n",
       "    .dataframe tbody tr th:only-of-type {\n",
       "        vertical-align: middle;\n",
       "    }\n",
       "\n",
       "    .dataframe tbody tr th {\n",
       "        vertical-align: top;\n",
       "    }\n",
       "\n",
       "    .dataframe thead th {\n",
       "        text-align: right;\n",
       "    }\n",
       "</style>\n",
       "<table border=\"1\" class=\"dataframe\">\n",
       "  <thead>\n",
       "    <tr style=\"text-align: right;\">\n",
       "      <th></th>\n",
       "      <th>Name</th>\n",
       "      <th>Age2</th>\n",
       "      <th>City3</th>\n",
       "    </tr>\n",
       "  </thead>\n",
       "  <tbody>\n",
       "    <tr>\n",
       "      <th>0</th>\n",
       "      <td>Alice</td>\n",
       "      <td>26</td>\n",
       "      <td>New York</td>\n",
       "    </tr>\n",
       "    <tr>\n",
       "      <th>1</th>\n",
       "      <td>Bob</td>\n",
       "      <td>31</td>\n",
       "      <td>San Francisco</td>\n",
       "    </tr>\n",
       "    <tr>\n",
       "      <th>2</th>\n",
       "      <td>Charlie</td>\n",
       "      <td>36</td>\n",
       "      <td>Los Angeles</td>\n",
       "    </tr>\n",
       "  </tbody>\n",
       "</table>\n",
       "</div>"
      ],
      "text/plain": [
       "      Name  Age2          City3\n",
       "0    Alice    26       New York\n",
       "1      Bob    31  San Francisco\n",
       "2  Charlie    36    Los Angeles"
      ]
     },
     "execution_count": 66,
     "metadata": {},
     "output_type": "execute_result"
    }
   ],
   "source": [
    "df.columns = ['Name', 'Age2', 'City3']\n",
    "df"
   ]
  },
  {
   "cell_type": "markdown",
   "id": "d18bfcda-cb7e-4915-883e-abf2822a1e5e",
   "metadata": {},
   "source": [
    "### Dropping Columns and Rows:"
   ]
  },
  {
   "cell_type": "markdown",
   "id": "cc182773-eae2-43b6-b2d8-e5c0d7123c50",
   "metadata": {},
   "source": [
    "#### Dropping columns:"
   ]
  },
  {
   "cell_type": "code",
   "execution_count": 67,
   "id": "ff228636-8999-4694-855a-055a42e9dc64",
   "metadata": {},
   "outputs": [
    {
     "data": {
      "text/html": [
       "<div>\n",
       "<style scoped>\n",
       "    .dataframe tbody tr th:only-of-type {\n",
       "        vertical-align: middle;\n",
       "    }\n",
       "\n",
       "    .dataframe tbody tr th {\n",
       "        vertical-align: top;\n",
       "    }\n",
       "\n",
       "    .dataframe thead th {\n",
       "        text-align: right;\n",
       "    }\n",
       "</style>\n",
       "<table border=\"1\" class=\"dataframe\">\n",
       "  <thead>\n",
       "    <tr style=\"text-align: right;\">\n",
       "      <th></th>\n",
       "      <th>Name</th>\n",
       "      <th>Age2</th>\n",
       "    </tr>\n",
       "  </thead>\n",
       "  <tbody>\n",
       "    <tr>\n",
       "      <th>0</th>\n",
       "      <td>Alice</td>\n",
       "      <td>26</td>\n",
       "    </tr>\n",
       "    <tr>\n",
       "      <th>1</th>\n",
       "      <td>Bob</td>\n",
       "      <td>31</td>\n",
       "    </tr>\n",
       "    <tr>\n",
       "      <th>2</th>\n",
       "      <td>Charlie</td>\n",
       "      <td>36</td>\n",
       "    </tr>\n",
       "  </tbody>\n",
       "</table>\n",
       "</div>"
      ],
      "text/plain": [
       "      Name  Age2\n",
       "0    Alice    26\n",
       "1      Bob    31\n",
       "2  Charlie    36"
      ]
     },
     "execution_count": 67,
     "metadata": {},
     "output_type": "execute_result"
    }
   ],
   "source": [
    "df_dropped_columns = df.drop(['City3'], axis=1)\n",
    "df_dropped_columns"
   ]
  },
  {
   "cell_type": "markdown",
   "id": "c1549df5-f653-4d17-ae51-7c2b27105dc4",
   "metadata": {},
   "source": [
    "#### Dropping rows based on conditions:"
   ]
  },
  {
   "cell_type": "code",
   "execution_count": 68,
   "id": "479d5516-a849-40ea-92f8-61e04f80cdcf",
   "metadata": {},
   "outputs": [
    {
     "data": {
      "text/html": [
       "<div>\n",
       "<style scoped>\n",
       "    .dataframe tbody tr th:only-of-type {\n",
       "        vertical-align: middle;\n",
       "    }\n",
       "\n",
       "    .dataframe tbody tr th {\n",
       "        vertical-align: top;\n",
       "    }\n",
       "\n",
       "    .dataframe thead th {\n",
       "        text-align: right;\n",
       "    }\n",
       "</style>\n",
       "<table border=\"1\" class=\"dataframe\">\n",
       "  <thead>\n",
       "    <tr style=\"text-align: right;\">\n",
       "      <th></th>\n",
       "      <th>Name</th>\n",
       "      <th>Age2</th>\n",
       "      <th>City3</th>\n",
       "    </tr>\n",
       "  </thead>\n",
       "  <tbody>\n",
       "    <tr>\n",
       "      <th>0</th>\n",
       "      <td>Alice</td>\n",
       "      <td>26</td>\n",
       "      <td>New York</td>\n",
       "    </tr>\n",
       "    <tr>\n",
       "      <th>1</th>\n",
       "      <td>Bob</td>\n",
       "      <td>31</td>\n",
       "      <td>San Francisco</td>\n",
       "    </tr>\n",
       "    <tr>\n",
       "      <th>2</th>\n",
       "      <td>Charlie</td>\n",
       "      <td>36</td>\n",
       "      <td>Los Angeles</td>\n",
       "    </tr>\n",
       "  </tbody>\n",
       "</table>\n",
       "</div>"
      ],
      "text/plain": [
       "      Name  Age2          City3\n",
       "0    Alice    26       New York\n",
       "1      Bob    31  San Francisco\n",
       "2  Charlie    36    Los Angeles"
      ]
     },
     "execution_count": 68,
     "metadata": {},
     "output_type": "execute_result"
    }
   ],
   "source": [
    "df_filtered_rows = df[df['Age2'] > 25]\n",
    "df_filtered_rows"
   ]
  },
  {
   "cell_type": "markdown",
   "id": "eaf69395-e119-48b3-835f-a16d5334ab23",
   "metadata": {},
   "source": [
    "### Applying Functions Row-wise or Column-wise:"
   ]
  },
  {
   "cell_type": "markdown",
   "id": "f47f0c88-a0fe-4fc6-9301-0c06c22f1674",
   "metadata": {},
   "source": [
    "#### Applying a function to each column:"
   ]
  },
  {
   "cell_type": "code",
   "execution_count": 69,
   "id": "f2754159-910b-4c50-8be7-ebfce7ef7209",
   "metadata": {},
   "outputs": [
    {
     "data": {
      "text/html": [
       "<div>\n",
       "<style scoped>\n",
       "    .dataframe tbody tr th:only-of-type {\n",
       "        vertical-align: middle;\n",
       "    }\n",
       "\n",
       "    .dataframe tbody tr th {\n",
       "        vertical-align: top;\n",
       "    }\n",
       "\n",
       "    .dataframe thead th {\n",
       "        text-align: right;\n",
       "    }\n",
       "</style>\n",
       "<table border=\"1\" class=\"dataframe\">\n",
       "  <thead>\n",
       "    <tr style=\"text-align: right;\">\n",
       "      <th></th>\n",
       "      <th>Name</th>\n",
       "      <th>Age2</th>\n",
       "      <th>City3</th>\n",
       "    </tr>\n",
       "  </thead>\n",
       "  <tbody>\n",
       "    <tr>\n",
       "      <th>0</th>\n",
       "      <td>Alice</td>\n",
       "      <td>26</td>\n",
       "      <td>New York</td>\n",
       "    </tr>\n",
       "    <tr>\n",
       "      <th>1</th>\n",
       "      <td>Bob</td>\n",
       "      <td>31</td>\n",
       "      <td>San Francisco</td>\n",
       "    </tr>\n",
       "    <tr>\n",
       "      <th>2</th>\n",
       "      <td>Charlie</td>\n",
       "      <td>36</td>\n",
       "      <td>Los Angeles</td>\n",
       "    </tr>\n",
       "  </tbody>\n",
       "</table>\n",
       "</div>"
      ],
      "text/plain": [
       "      Name  Age2          City3\n",
       "0    Alice    26       New York\n",
       "1      Bob    31  San Francisco\n",
       "2  Charlie    36    Los Angeles"
      ]
     },
     "execution_count": 69,
     "metadata": {},
     "output_type": "execute_result"
    }
   ],
   "source": [
    "df.apply(lambda x: x.max())\n",
    "df"
   ]
  },
  {
   "cell_type": "markdown",
   "id": "e0ee8595-d491-414a-a1a8-eb7ccb401d22",
   "metadata": {},
   "source": [
    "#### Applying a function to each row:"
   ]
  },
  {
   "cell_type": "code",
   "execution_count": 70,
   "id": "23a0cbb7-00ce-4ad5-bc60-10e45db8530a",
   "metadata": {},
   "outputs": [
    {
     "data": {
      "text/html": [
       "<div>\n",
       "<style scoped>\n",
       "    .dataframe tbody tr th:only-of-type {\n",
       "        vertical-align: middle;\n",
       "    }\n",
       "\n",
       "    .dataframe tbody tr th {\n",
       "        vertical-align: top;\n",
       "    }\n",
       "\n",
       "    .dataframe thead th {\n",
       "        text-align: right;\n",
       "    }\n",
       "</style>\n",
       "<table border=\"1\" class=\"dataframe\">\n",
       "  <thead>\n",
       "    <tr style=\"text-align: right;\">\n",
       "      <th></th>\n",
       "      <th>Name</th>\n",
       "      <th>Age2</th>\n",
       "      <th>City3</th>\n",
       "    </tr>\n",
       "  </thead>\n",
       "  <tbody>\n",
       "    <tr>\n",
       "      <th>0</th>\n",
       "      <td>Alice</td>\n",
       "      <td>26</td>\n",
       "      <td>New York</td>\n",
       "    </tr>\n",
       "    <tr>\n",
       "      <th>1</th>\n",
       "      <td>Bob</td>\n",
       "      <td>31</td>\n",
       "      <td>San Francisco</td>\n",
       "    </tr>\n",
       "    <tr>\n",
       "      <th>2</th>\n",
       "      <td>Charlie</td>\n",
       "      <td>36</td>\n",
       "      <td>Los Angeles</td>\n",
       "    </tr>\n",
       "  </tbody>\n",
       "</table>\n",
       "</div>"
      ],
      "text/plain": [
       "      Name  Age2          City3\n",
       "0    Alice    26       New York\n",
       "1      Bob    31  San Francisco\n",
       "2  Charlie    36    Los Angeles"
      ]
     },
     "execution_count": 70,
     "metadata": {},
     "output_type": "execute_result"
    }
   ],
   "source": [
    "df.apply(lambda row: row['Age2'] * 2, axis=1)\n",
    "df"
   ]
  },
  {
   "cell_type": "markdown",
   "id": "de297eb8-0d08-475a-ba84-f6c66158fc15",
   "metadata": {},
   "source": [
    "### Handling Categorical Data:"
   ]
  },
  {
   "cell_type": "markdown",
   "id": "3c906bd4-1ed9-4a75-a009-c61b82954881",
   "metadata": {},
   "source": [
    "#### Converting a column to categorical:"
   ]
  },
  {
   "cell_type": "code",
   "execution_count": 71,
   "id": "683a4f42-d921-45dd-9d48-aa058d3a052f",
   "metadata": {},
   "outputs": [
    {
     "data": {
      "text/plain": [
       "0         New York\n",
       "1    San Francisco\n",
       "2      Los Angeles\n",
       "Name: Category, dtype: category\n",
       "Categories (3, object): ['Los Angeles', 'New York', 'San Francisco']"
      ]
     },
     "execution_count": 71,
     "metadata": {},
     "output_type": "execute_result"
    }
   ],
   "source": [
    "df['Category'] = pd.Categorical(df['City3'])\n",
    "df['Category']"
   ]
  },
  {
   "cell_type": "markdown",
   "id": "f26a3b08-db78-44dd-9683-1ff8d2bf6584",
   "metadata": {},
   "source": [
    "#### Encoding categorical variables:"
   ]
  },
  {
   "cell_type": "code",
   "execution_count": 72,
   "id": "093a7f4a-97d3-44c9-ac1e-7331db741e5d",
   "metadata": {},
   "outputs": [
    {
     "data": {
      "text/html": [
       "<div>\n",
       "<style scoped>\n",
       "    .dataframe tbody tr th:only-of-type {\n",
       "        vertical-align: middle;\n",
       "    }\n",
       "\n",
       "    .dataframe tbody tr th {\n",
       "        vertical-align: top;\n",
       "    }\n",
       "\n",
       "    .dataframe thead th {\n",
       "        text-align: right;\n",
       "    }\n",
       "</style>\n",
       "<table border=\"1\" class=\"dataframe\">\n",
       "  <thead>\n",
       "    <tr style=\"text-align: right;\">\n",
       "      <th></th>\n",
       "      <th>Name</th>\n",
       "      <th>Age2</th>\n",
       "      <th>City3</th>\n",
       "      <th>Category_Los Angeles</th>\n",
       "      <th>Category_New York</th>\n",
       "      <th>Category_San Francisco</th>\n",
       "    </tr>\n",
       "  </thead>\n",
       "  <tbody>\n",
       "    <tr>\n",
       "      <th>0</th>\n",
       "      <td>Alice</td>\n",
       "      <td>26</td>\n",
       "      <td>New York</td>\n",
       "      <td>False</td>\n",
       "      <td>True</td>\n",
       "      <td>False</td>\n",
       "    </tr>\n",
       "    <tr>\n",
       "      <th>1</th>\n",
       "      <td>Bob</td>\n",
       "      <td>31</td>\n",
       "      <td>San Francisco</td>\n",
       "      <td>False</td>\n",
       "      <td>False</td>\n",
       "      <td>True</td>\n",
       "    </tr>\n",
       "    <tr>\n",
       "      <th>2</th>\n",
       "      <td>Charlie</td>\n",
       "      <td>36</td>\n",
       "      <td>Los Angeles</td>\n",
       "      <td>True</td>\n",
       "      <td>False</td>\n",
       "      <td>False</td>\n",
       "    </tr>\n",
       "  </tbody>\n",
       "</table>\n",
       "</div>"
      ],
      "text/plain": [
       "      Name  Age2          City3  Category_Los Angeles  Category_New York  \\\n",
       "0    Alice    26       New York                 False               True   \n",
       "1      Bob    31  San Francisco                 False              False   \n",
       "2  Charlie    36    Los Angeles                  True              False   \n",
       "\n",
       "   Category_San Francisco  \n",
       "0                   False  \n",
       "1                    True  \n",
       "2                   False  "
      ]
     },
     "execution_count": 72,
     "metadata": {},
     "output_type": "execute_result"
    }
   ],
   "source": [
    "df_encoded = pd.get_dummies(df, columns=['Category'])\n",
    "df_encoded"
   ]
  },
  {
   "cell_type": "markdown",
   "id": "659a12ce-283f-492c-a36f-3c07f3d6b851",
   "metadata": {},
   "source": [
    "### Pivoting and Melting:"
   ]
  },
  {
   "cell_type": "markdown",
   "id": "d1a8d406-1c91-4eb1-a31d-3bd0bc4c65bf",
   "metadata": {},
   "source": [
    "#### Pivoting a DataFrame:"
   ]
  },
  {
   "cell_type": "code",
   "execution_count": 73,
   "id": "cb77ff09-808a-450d-98de-a99ed8c4bef6",
   "metadata": {},
   "outputs": [
    {
     "data": {
      "text/html": [
       "<div>\n",
       "<style scoped>\n",
       "    .dataframe tbody tr th:only-of-type {\n",
       "        vertical-align: middle;\n",
       "    }\n",
       "\n",
       "    .dataframe tbody tr th {\n",
       "        vertical-align: top;\n",
       "    }\n",
       "\n",
       "    .dataframe thead th {\n",
       "        text-align: right;\n",
       "    }\n",
       "</style>\n",
       "<table border=\"1\" class=\"dataframe\">\n",
       "  <thead>\n",
       "    <tr style=\"text-align: right;\">\n",
       "      <th></th>\n",
       "      <th>Name</th>\n",
       "      <th>Age</th>\n",
       "      <th>City</th>\n",
       "    </tr>\n",
       "  </thead>\n",
       "  <tbody>\n",
       "    <tr>\n",
       "      <th>0</th>\n",
       "      <td>David</td>\n",
       "      <td>28</td>\n",
       "      <td>Chicago</td>\n",
       "    </tr>\n",
       "    <tr>\n",
       "      <th>1</th>\n",
       "      <td>Eva</td>\n",
       "      <td>32</td>\n",
       "      <td>Seattle</td>\n",
       "    </tr>\n",
       "    <tr>\n",
       "      <th>2</th>\n",
       "      <td>Frank</td>\n",
       "      <td>40</td>\n",
       "      <td>Miami</td>\n",
       "    </tr>\n",
       "  </tbody>\n",
       "</table>\n",
       "</div>"
      ],
      "text/plain": [
       "    Name  Age     City\n",
       "0  David   28  Chicago\n",
       "1    Eva   32  Seattle\n",
       "2  Frank   40    Miami"
      ]
     },
     "execution_count": 73,
     "metadata": {},
     "output_type": "execute_result"
    }
   ],
   "source": [
    "\n",
    "df2"
   ]
  },
  {
   "cell_type": "code",
   "execution_count": 74,
   "id": "d5c3f55c-e898-486a-b82b-8d72b9f0dbf2",
   "metadata": {},
   "outputs": [
    {
     "data": {
      "text/html": [
       "<div>\n",
       "<style scoped>\n",
       "    .dataframe tbody tr th:only-of-type {\n",
       "        vertical-align: middle;\n",
       "    }\n",
       "\n",
       "    .dataframe tbody tr th {\n",
       "        vertical-align: top;\n",
       "    }\n",
       "\n",
       "    .dataframe thead th {\n",
       "        text-align: right;\n",
       "    }\n",
       "</style>\n",
       "<table border=\"1\" class=\"dataframe\">\n",
       "  <thead>\n",
       "    <tr style=\"text-align: right;\">\n",
       "      <th>City</th>\n",
       "      <th>Los Angeles</th>\n",
       "      <th>New York</th>\n",
       "      <th>San Francisco</th>\n",
       "    </tr>\n",
       "    <tr>\n",
       "      <th>Name</th>\n",
       "      <th></th>\n",
       "      <th></th>\n",
       "      <th></th>\n",
       "    </tr>\n",
       "  </thead>\n",
       "  <tbody>\n",
       "    <tr>\n",
       "      <th>Alice</th>\n",
       "      <td>NaN</td>\n",
       "      <td>26.0</td>\n",
       "      <td>NaN</td>\n",
       "    </tr>\n",
       "    <tr>\n",
       "      <th>Bob</th>\n",
       "      <td>NaN</td>\n",
       "      <td>NaN</td>\n",
       "      <td>31.0</td>\n",
       "    </tr>\n",
       "    <tr>\n",
       "      <th>Charlie</th>\n",
       "      <td>36.0</td>\n",
       "      <td>NaN</td>\n",
       "      <td>NaN</td>\n",
       "    </tr>\n",
       "  </tbody>\n",
       "</table>\n",
       "</div>"
      ],
      "text/plain": [
       "City     Los Angeles  New York  San Francisco\n",
       "Name                                         \n",
       "Alice            NaN      26.0            NaN\n",
       "Bob              NaN       NaN           31.0\n",
       "Charlie         36.0       NaN            NaN"
      ]
     },
     "execution_count": 74,
     "metadata": {},
     "output_type": "execute_result"
    }
   ],
   "source": [
    "df2=df.drop(['Category'],axis=1)\n",
    "df2.columns = ['Name', 'Age', 'City']\n",
    "df_pivoted = df2.pivot(index='Name', columns='City', values='Age')\n",
    "df_pivoted"
   ]
  },
  {
   "cell_type": "markdown",
   "id": "7fc7e428-a660-4c89-9c65-5a8416d963cc",
   "metadata": {},
   "source": [
    "#### Melting a DataFrame:"
   ]
  },
  {
   "cell_type": "code",
   "execution_count": 75,
   "id": "72874b15-5fdd-42fc-9aaf-abb180966940",
   "metadata": {},
   "outputs": [
    {
     "data": {
      "text/html": [
       "<div>\n",
       "<style scoped>\n",
       "    .dataframe tbody tr th:only-of-type {\n",
       "        vertical-align: middle;\n",
       "    }\n",
       "\n",
       "    .dataframe tbody tr th {\n",
       "        vertical-align: top;\n",
       "    }\n",
       "\n",
       "    .dataframe thead th {\n",
       "        text-align: right;\n",
       "    }\n",
       "</style>\n",
       "<table border=\"1\" class=\"dataframe\">\n",
       "  <thead>\n",
       "    <tr style=\"text-align: right;\">\n",
       "      <th></th>\n",
       "      <th>Name</th>\n",
       "      <th>variable</th>\n",
       "      <th>value</th>\n",
       "    </tr>\n",
       "  </thead>\n",
       "  <tbody>\n",
       "    <tr>\n",
       "      <th>0</th>\n",
       "      <td>Alice</td>\n",
       "      <td>Age</td>\n",
       "      <td>26</td>\n",
       "    </tr>\n",
       "    <tr>\n",
       "      <th>1</th>\n",
       "      <td>Bob</td>\n",
       "      <td>Age</td>\n",
       "      <td>31</td>\n",
       "    </tr>\n",
       "    <tr>\n",
       "      <th>2</th>\n",
       "      <td>Charlie</td>\n",
       "      <td>Age</td>\n",
       "      <td>36</td>\n",
       "    </tr>\n",
       "    <tr>\n",
       "      <th>3</th>\n",
       "      <td>Alice</td>\n",
       "      <td>City</td>\n",
       "      <td>New York</td>\n",
       "    </tr>\n",
       "    <tr>\n",
       "      <th>4</th>\n",
       "      <td>Bob</td>\n",
       "      <td>City</td>\n",
       "      <td>San Francisco</td>\n",
       "    </tr>\n",
       "    <tr>\n",
       "      <th>5</th>\n",
       "      <td>Charlie</td>\n",
       "      <td>City</td>\n",
       "      <td>Los Angeles</td>\n",
       "    </tr>\n",
       "  </tbody>\n",
       "</table>\n",
       "</div>"
      ],
      "text/plain": [
       "      Name variable          value\n",
       "0    Alice      Age             26\n",
       "1      Bob      Age             31\n",
       "2  Charlie      Age             36\n",
       "3    Alice     City       New York\n",
       "4      Bob     City  San Francisco\n",
       "5  Charlie     City    Los Angeles"
      ]
     },
     "execution_count": 75,
     "metadata": {},
     "output_type": "execute_result"
    }
   ],
   "source": [
    "df_melted = pd.melt(df2, id_vars=['Name'], value_vars=['Age', 'City'])\n",
    "df_melted"
   ]
  },
  {
   "cell_type": "markdown",
   "id": "eb3acb87-d0d0-466d-9c8a-ada6a5217e75",
   "metadata": {},
   "source": [
    "### DateTime Operations:"
   ]
  },
  {
   "cell_type": "markdown",
   "id": "5a7d8dd7-c495-4061-898e-cfcc469057a2",
   "metadata": {},
   "source": [
    "#### Converting a column to datetime:"
   ]
  },
  {
   "cell_type": "code",
   "execution_count": 76,
   "id": "f670d681-b52e-444d-b410-665724c2d855",
   "metadata": {},
   "outputs": [
    {
     "name": "stdout",
     "output_type": "stream",
     "text": [
      "DataFrame Before Conversion:\n",
      "   DateString  Value1  Value2\n",
      "0  2023-01-01      10     1.2\n",
      "1  2023-01-02      15     2.3\n",
      "2  2023-01-03      20     3.5\n",
      "3  2023-01-04      25     4.1\n",
      "\n",
      "DataFrame After Conversion:\n",
      "   Value1  Value2       Date\n",
      "0      10     1.2 2023-01-01\n",
      "1      15     2.3 2023-01-02\n",
      "2      20     3.5 2023-01-03\n",
      "3      25     4.1 2023-01-04\n"
     ]
    }
   ],
   "source": [
    "# Create a DataFrame with Date as strings\n",
    "data = {\n",
    "    'DateString': ['2023-01-01', '2023-01-02', '2023-01-03', '2023-01-04'],\n",
    "    'Value1': [10, 15, 20, 25],\n",
    "    'Value2': [1.2, 2.3, 3.5, 4.1]\n",
    "}\n",
    "\n",
    "df = pd.DataFrame(data)\n",
    "\n",
    "# Display the DataFrame before conversion\n",
    "print(\"DataFrame Before Conversion:\")\n",
    "print(df)\n",
    "\n",
    "# Convert the 'DateString' column to datetime\n",
    "df['Date'] = pd.to_datetime(df['DateString'])\n",
    "\n",
    "# Drop the original 'DateString' column\n",
    "df = df.drop(columns=['DateString'])\n",
    "\n",
    "# Display the DataFrame after conversion\n",
    "print(\"\\nDataFrame After Conversion:\")\n",
    "print(df)"
   ]
  },
  {
   "cell_type": "markdown",
   "id": "4af9c590-cbf6-469c-89db-6bb152ab9e0f",
   "metadata": {},
   "source": [
    "#### Extracting components of a datetime column:"
   ]
  },
  {
   "cell_type": "code",
   "execution_count": 77,
   "id": "3dd2f126-ca79-4b6c-9417-1022b3a57976",
   "metadata": {},
   "outputs": [
    {
     "data": {
      "text/plain": [
       "0    2023\n",
       "1    2023\n",
       "2    2023\n",
       "3    2023\n",
       "Name: Year, dtype: int32"
      ]
     },
     "execution_count": 77,
     "metadata": {},
     "output_type": "execute_result"
    }
   ],
   "source": [
    "df['Year'] = df['Date'].dt.year\n",
    "df['Year'] "
   ]
  },
  {
   "cell_type": "markdown",
   "id": "9c6cd028-ef3a-44c7-844e-fb64b6a35ad8",
   "metadata": {},
   "source": [
    "### Filtering with isin:"
   ]
  },
  {
   "cell_type": "markdown",
   "id": "f4bd20fa-26a4-4f09-ab9c-05bc588f35ba",
   "metadata": {},
   "source": [
    "#### Selecting rows where a column value is in a list:"
   ]
  },
  {
   "cell_type": "code",
   "execution_count": 78,
   "id": "112eee96-4e08-4253-af81-3a41b8d2297b",
   "metadata": {},
   "outputs": [
    {
     "name": "stdout",
     "output_type": "stream",
     "text": [
      "        Date  Value1    Value2 Category\n",
      "0 2023-01-01      70 -0.161286        B\n",
      "1 2023-01-02      72  0.404051        C\n",
      "2 2023-01-03      27  1.886186        A\n",
      "3 2023-01-04       9  0.174578        A\n",
      "4 2023-01-05      62  0.257550        A\n",
      "5 2023-01-06      37 -0.074446        C\n",
      "6 2023-01-07      97 -1.918771        B\n",
      "7 2023-01-08      51 -0.026514        B\n",
      "8 2023-01-09      44  0.060230        A\n",
      "9 2023-01-10      24  2.463242        B\n",
      "        Date  Value1    Value2 Category\n",
      "0 2023-01-01      70 -0.161286        B\n",
      "2 2023-01-03      27  1.886186        A\n",
      "3 2023-01-04       9  0.174578        A\n",
      "4 2023-01-05      62  0.257550        A\n",
      "6 2023-01-07      97 -1.918771        B\n",
      "7 2023-01-08      51 -0.026514        B\n",
      "8 2023-01-09      44  0.060230        A\n",
      "9 2023-01-10      24  2.463242        B\n"
     ]
    }
   ],
   "source": [
    "# Create a date range\n",
    "date_rng = pd.date_range(start='2023-01-01', end='2023-01-10', freq='D')\n",
    "\n",
    "# Create a DataFrame with Date, Value1, Value2, and Category columns\n",
    "data = {\n",
    "    'Date': date_rng,\n",
    "    'Value1': np.random.randint(1, 100, size=(len(date_rng))),\n",
    "    'Value2': np.random.randn(len(date_rng)),\n",
    "    'Category': np.random.choice(['A', 'B', 'C'], size=(len(date_rng)))\n",
    "}\n",
    "\n",
    "df = pd.DataFrame(data)\n",
    "\n",
    "# Display the DataFrame\n",
    "print(df)\n",
    "\n",
    "# Select rows where 'Category' is 'A' or 'B'\n",
    "selected_rows = df[df['Category'].isin(['A', 'B'])]\n",
    "print(selected_rows)"
   ]
  },
  {
   "cell_type": "markdown",
   "id": "e7f26348-343c-4c16-aeeb-2a7eca83802b",
   "metadata": {},
   "source": [
    "### Combining DataFrames:"
   ]
  },
  {
   "cell_type": "markdown",
   "id": "1ca804da-f68c-4d51-be7a-8c778a4e2362",
   "metadata": {},
   "source": [
    "#### Combining DataFrames vertically:"
   ]
  },
  {
   "cell_type": "code",
   "execution_count": 79,
   "id": "e32d1f64-8fb3-4370-aecb-5ff03e1fb255",
   "metadata": {},
   "outputs": [
    {
     "data": {
      "text/html": [
       "<div>\n",
       "<style scoped>\n",
       "    .dataframe tbody tr th:only-of-type {\n",
       "        vertical-align: middle;\n",
       "    }\n",
       "\n",
       "    .dataframe tbody tr th {\n",
       "        vertical-align: top;\n",
       "    }\n",
       "\n",
       "    .dataframe thead th {\n",
       "        text-align: right;\n",
       "    }\n",
       "</style>\n",
       "<table border=\"1\" class=\"dataframe\">\n",
       "  <thead>\n",
       "    <tr style=\"text-align: right;\">\n",
       "      <th></th>\n",
       "      <th>Name</th>\n",
       "      <th>Age</th>\n",
       "      <th>City</th>\n",
       "    </tr>\n",
       "  </thead>\n",
       "  <tbody>\n",
       "    <tr>\n",
       "      <th>0</th>\n",
       "      <td>Alice</td>\n",
       "      <td>25</td>\n",
       "      <td>New York</td>\n",
       "    </tr>\n",
       "    <tr>\n",
       "      <th>1</th>\n",
       "      <td>Bob</td>\n",
       "      <td>30</td>\n",
       "      <td>San Francisco</td>\n",
       "    </tr>\n",
       "    <tr>\n",
       "      <th>2</th>\n",
       "      <td>Charlie</td>\n",
       "      <td>35</td>\n",
       "      <td>Los Angeles</td>\n",
       "    </tr>\n",
       "    <tr>\n",
       "      <th>3</th>\n",
       "      <td>Alice</td>\n",
       "      <td>26</td>\n",
       "      <td>New York</td>\n",
       "    </tr>\n",
       "    <tr>\n",
       "      <th>4</th>\n",
       "      <td>Bob</td>\n",
       "      <td>31</td>\n",
       "      <td>San Francisco</td>\n",
       "    </tr>\n",
       "    <tr>\n",
       "      <th>5</th>\n",
       "      <td>Charlie</td>\n",
       "      <td>36</td>\n",
       "      <td>Los Angeles</td>\n",
       "    </tr>\n",
       "  </tbody>\n",
       "</table>\n",
       "</div>"
      ],
      "text/plain": [
       "      Name  Age           City\n",
       "0    Alice   25       New York\n",
       "1      Bob   30  San Francisco\n",
       "2  Charlie   35    Los Angeles\n",
       "3    Alice   26       New York\n",
       "4      Bob   31  San Francisco\n",
       "5  Charlie   36    Los Angeles"
      ]
     },
     "execution_count": 79,
     "metadata": {},
     "output_type": "execute_result"
    }
   ],
   "source": [
    "df_combined = pd.concat([df1, df2], ignore_index=True)\n",
    "df_combined"
   ]
  },
  {
   "cell_type": "markdown",
   "id": "f2b21d9f-75f5-4215-a4e8-773942648923",
   "metadata": {},
   "source": [
    "#### Combining DataFrames horizontally:"
   ]
  },
  {
   "cell_type": "code",
   "execution_count": 80,
   "id": "2d600359-0458-4f48-822e-3e1b71254714",
   "metadata": {},
   "outputs": [
    {
     "data": {
      "text/html": [
       "<div>\n",
       "<style scoped>\n",
       "    .dataframe tbody tr th:only-of-type {\n",
       "        vertical-align: middle;\n",
       "    }\n",
       "\n",
       "    .dataframe tbody tr th {\n",
       "        vertical-align: top;\n",
       "    }\n",
       "\n",
       "    .dataframe thead th {\n",
       "        text-align: right;\n",
       "    }\n",
       "</style>\n",
       "<table border=\"1\" class=\"dataframe\">\n",
       "  <thead>\n",
       "    <tr style=\"text-align: right;\">\n",
       "      <th></th>\n",
       "      <th>Name</th>\n",
       "      <th>Age</th>\n",
       "      <th>City</th>\n",
       "      <th>Name</th>\n",
       "      <th>Age</th>\n",
       "      <th>City</th>\n",
       "    </tr>\n",
       "  </thead>\n",
       "  <tbody>\n",
       "    <tr>\n",
       "      <th>0</th>\n",
       "      <td>Alice</td>\n",
       "      <td>25</td>\n",
       "      <td>New York</td>\n",
       "      <td>Alice</td>\n",
       "      <td>26</td>\n",
       "      <td>New York</td>\n",
       "    </tr>\n",
       "    <tr>\n",
       "      <th>1</th>\n",
       "      <td>Bob</td>\n",
       "      <td>30</td>\n",
       "      <td>San Francisco</td>\n",
       "      <td>Bob</td>\n",
       "      <td>31</td>\n",
       "      <td>San Francisco</td>\n",
       "    </tr>\n",
       "    <tr>\n",
       "      <th>2</th>\n",
       "      <td>Charlie</td>\n",
       "      <td>35</td>\n",
       "      <td>Los Angeles</td>\n",
       "      <td>Charlie</td>\n",
       "      <td>36</td>\n",
       "      <td>Los Angeles</td>\n",
       "    </tr>\n",
       "  </tbody>\n",
       "</table>\n",
       "</div>"
      ],
      "text/plain": [
       "      Name  Age           City     Name  Age           City\n",
       "0    Alice   25       New York    Alice   26       New York\n",
       "1      Bob   30  San Francisco      Bob   31  San Francisco\n",
       "2  Charlie   35    Los Angeles  Charlie   36    Los Angeles"
      ]
     },
     "execution_count": 80,
     "metadata": {},
     "output_type": "execute_result"
    }
   ],
   "source": [
    "df_combined_horizontal = pd.concat([df1, df2], axis=1)\n",
    "df_combined_horizontal "
   ]
  },
  {
   "cell_type": "markdown",
   "id": "f9e0a63c-9ac6-432c-a432-599d09f56de3",
   "metadata": {},
   "source": [
    "### Handling Duplicate Data:"
   ]
  },
  {
   "cell_type": "markdown",
   "id": "65ea3b93-ef1f-4983-b731-df5e3043e07a",
   "metadata": {},
   "source": [
    "#### Removing duplicate rows:"
   ]
  },
  {
   "cell_type": "code",
   "execution_count": 81,
   "id": "c320ab72-8708-4a22-b007-bfc2a7eaea01",
   "metadata": {},
   "outputs": [
    {
     "data": {
      "text/html": [
       "<div>\n",
       "<style scoped>\n",
       "    .dataframe tbody tr th:only-of-type {\n",
       "        vertical-align: middle;\n",
       "    }\n",
       "\n",
       "    .dataframe tbody tr th {\n",
       "        vertical-align: top;\n",
       "    }\n",
       "\n",
       "    .dataframe thead th {\n",
       "        text-align: right;\n",
       "    }\n",
       "</style>\n",
       "<table border=\"1\" class=\"dataframe\">\n",
       "  <thead>\n",
       "    <tr style=\"text-align: right;\">\n",
       "      <th></th>\n",
       "      <th>Date</th>\n",
       "      <th>Value1</th>\n",
       "      <th>Value2</th>\n",
       "      <th>Category</th>\n",
       "    </tr>\n",
       "  </thead>\n",
       "  <tbody>\n",
       "    <tr>\n",
       "      <th>0</th>\n",
       "      <td>2023-01-01</td>\n",
       "      <td>70</td>\n",
       "      <td>-0.161286</td>\n",
       "      <td>B</td>\n",
       "    </tr>\n",
       "    <tr>\n",
       "      <th>1</th>\n",
       "      <td>2023-01-02</td>\n",
       "      <td>72</td>\n",
       "      <td>0.404051</td>\n",
       "      <td>C</td>\n",
       "    </tr>\n",
       "    <tr>\n",
       "      <th>2</th>\n",
       "      <td>2023-01-03</td>\n",
       "      <td>27</td>\n",
       "      <td>1.886186</td>\n",
       "      <td>A</td>\n",
       "    </tr>\n",
       "    <tr>\n",
       "      <th>3</th>\n",
       "      <td>2023-01-04</td>\n",
       "      <td>9</td>\n",
       "      <td>0.174578</td>\n",
       "      <td>A</td>\n",
       "    </tr>\n",
       "    <tr>\n",
       "      <th>4</th>\n",
       "      <td>2023-01-05</td>\n",
       "      <td>62</td>\n",
       "      <td>0.257550</td>\n",
       "      <td>A</td>\n",
       "    </tr>\n",
       "    <tr>\n",
       "      <th>5</th>\n",
       "      <td>2023-01-06</td>\n",
       "      <td>37</td>\n",
       "      <td>-0.074446</td>\n",
       "      <td>C</td>\n",
       "    </tr>\n",
       "    <tr>\n",
       "      <th>6</th>\n",
       "      <td>2023-01-07</td>\n",
       "      <td>97</td>\n",
       "      <td>-1.918771</td>\n",
       "      <td>B</td>\n",
       "    </tr>\n",
       "    <tr>\n",
       "      <th>7</th>\n",
       "      <td>2023-01-08</td>\n",
       "      <td>51</td>\n",
       "      <td>-0.026514</td>\n",
       "      <td>B</td>\n",
       "    </tr>\n",
       "    <tr>\n",
       "      <th>8</th>\n",
       "      <td>2023-01-09</td>\n",
       "      <td>44</td>\n",
       "      <td>0.060230</td>\n",
       "      <td>A</td>\n",
       "    </tr>\n",
       "    <tr>\n",
       "      <th>9</th>\n",
       "      <td>2023-01-10</td>\n",
       "      <td>24</td>\n",
       "      <td>2.463242</td>\n",
       "      <td>B</td>\n",
       "    </tr>\n",
       "  </tbody>\n",
       "</table>\n",
       "</div>"
      ],
      "text/plain": [
       "        Date  Value1    Value2 Category\n",
       "0 2023-01-01      70 -0.161286        B\n",
       "1 2023-01-02      72  0.404051        C\n",
       "2 2023-01-03      27  1.886186        A\n",
       "3 2023-01-04       9  0.174578        A\n",
       "4 2023-01-05      62  0.257550        A\n",
       "5 2023-01-06      37 -0.074446        C\n",
       "6 2023-01-07      97 -1.918771        B\n",
       "7 2023-01-08      51 -0.026514        B\n",
       "8 2023-01-09      44  0.060230        A\n",
       "9 2023-01-10      24  2.463242        B"
      ]
     },
     "execution_count": 81,
     "metadata": {},
     "output_type": "execute_result"
    }
   ],
   "source": [
    "df_no_duplicates = df.drop_duplicates()\n",
    "df_no_duplicates"
   ]
  },
  {
   "cell_type": "markdown",
   "id": "e62affb5-e8a4-4e57-b2fe-210912464e76",
   "metadata": {},
   "source": [
    "#### Identifying and keeping only duplicates:"
   ]
  },
  {
   "cell_type": "code",
   "execution_count": 82,
   "id": "dd4d1079-423d-42f4-a546-0ae08bc987f5",
   "metadata": {},
   "outputs": [
    {
     "data": {
      "text/html": [
       "<div>\n",
       "<style scoped>\n",
       "    .dataframe tbody tr th:only-of-type {\n",
       "        vertical-align: middle;\n",
       "    }\n",
       "\n",
       "    .dataframe tbody tr th {\n",
       "        vertical-align: top;\n",
       "    }\n",
       "\n",
       "    .dataframe thead th {\n",
       "        text-align: right;\n",
       "    }\n",
       "</style>\n",
       "<table border=\"1\" class=\"dataframe\">\n",
       "  <thead>\n",
       "    <tr style=\"text-align: right;\">\n",
       "      <th></th>\n",
       "      <th>Date</th>\n",
       "      <th>Value1</th>\n",
       "      <th>Value2</th>\n",
       "      <th>Category</th>\n",
       "    </tr>\n",
       "  </thead>\n",
       "  <tbody>\n",
       "  </tbody>\n",
       "</table>\n",
       "</div>"
      ],
      "text/plain": [
       "Empty DataFrame\n",
       "Columns: [Date, Value1, Value2, Category]\n",
       "Index: []"
      ]
     },
     "execution_count": 82,
     "metadata": {},
     "output_type": "execute_result"
    }
   ],
   "source": [
    "df_duplicates_only = df[df.duplicated()]\n",
    "df_duplicates_only"
   ]
  },
  {
   "cell_type": "markdown",
   "id": "7e800659-a025-45b6-af73-03af161c4cfc",
   "metadata": {},
   "source": [
    "### Resetting Index:"
   ]
  },
  {
   "cell_type": "markdown",
   "id": "3d867956-16db-4e7e-be0c-a0079777c59d",
   "metadata": {},
   "source": [
    "#### Resetting the DataFrame index:"
   ]
  },
  {
   "cell_type": "code",
   "execution_count": 83,
   "id": "f1923b10-6d2d-4dad-bcac-1e733352bfdf",
   "metadata": {},
   "outputs": [
    {
     "data": {
      "text/html": [
       "<div>\n",
       "<style scoped>\n",
       "    .dataframe tbody tr th:only-of-type {\n",
       "        vertical-align: middle;\n",
       "    }\n",
       "\n",
       "    .dataframe tbody tr th {\n",
       "        vertical-align: top;\n",
       "    }\n",
       "\n",
       "    .dataframe thead th {\n",
       "        text-align: right;\n",
       "    }\n",
       "</style>\n",
       "<table border=\"1\" class=\"dataframe\">\n",
       "  <thead>\n",
       "    <tr style=\"text-align: right;\">\n",
       "      <th></th>\n",
       "      <th>Date</th>\n",
       "      <th>Value1</th>\n",
       "      <th>Value2</th>\n",
       "      <th>Category</th>\n",
       "    </tr>\n",
       "  </thead>\n",
       "  <tbody>\n",
       "    <tr>\n",
       "      <th>0</th>\n",
       "      <td>2023-01-01</td>\n",
       "      <td>70</td>\n",
       "      <td>-0.161286</td>\n",
       "      <td>B</td>\n",
       "    </tr>\n",
       "    <tr>\n",
       "      <th>1</th>\n",
       "      <td>2023-01-02</td>\n",
       "      <td>72</td>\n",
       "      <td>0.404051</td>\n",
       "      <td>C</td>\n",
       "    </tr>\n",
       "    <tr>\n",
       "      <th>2</th>\n",
       "      <td>2023-01-03</td>\n",
       "      <td>27</td>\n",
       "      <td>1.886186</td>\n",
       "      <td>A</td>\n",
       "    </tr>\n",
       "    <tr>\n",
       "      <th>3</th>\n",
       "      <td>2023-01-04</td>\n",
       "      <td>9</td>\n",
       "      <td>0.174578</td>\n",
       "      <td>A</td>\n",
       "    </tr>\n",
       "    <tr>\n",
       "      <th>4</th>\n",
       "      <td>2023-01-05</td>\n",
       "      <td>62</td>\n",
       "      <td>0.257550</td>\n",
       "      <td>A</td>\n",
       "    </tr>\n",
       "    <tr>\n",
       "      <th>5</th>\n",
       "      <td>2023-01-06</td>\n",
       "      <td>37</td>\n",
       "      <td>-0.074446</td>\n",
       "      <td>C</td>\n",
       "    </tr>\n",
       "    <tr>\n",
       "      <th>6</th>\n",
       "      <td>2023-01-07</td>\n",
       "      <td>97</td>\n",
       "      <td>-1.918771</td>\n",
       "      <td>B</td>\n",
       "    </tr>\n",
       "    <tr>\n",
       "      <th>7</th>\n",
       "      <td>2023-01-08</td>\n",
       "      <td>51</td>\n",
       "      <td>-0.026514</td>\n",
       "      <td>B</td>\n",
       "    </tr>\n",
       "    <tr>\n",
       "      <th>8</th>\n",
       "      <td>2023-01-09</td>\n",
       "      <td>44</td>\n",
       "      <td>0.060230</td>\n",
       "      <td>A</td>\n",
       "    </tr>\n",
       "    <tr>\n",
       "      <th>9</th>\n",
       "      <td>2023-01-10</td>\n",
       "      <td>24</td>\n",
       "      <td>2.463242</td>\n",
       "      <td>B</td>\n",
       "    </tr>\n",
       "  </tbody>\n",
       "</table>\n",
       "</div>"
      ],
      "text/plain": [
       "        Date  Value1    Value2 Category\n",
       "0 2023-01-01      70 -0.161286        B\n",
       "1 2023-01-02      72  0.404051        C\n",
       "2 2023-01-03      27  1.886186        A\n",
       "3 2023-01-04       9  0.174578        A\n",
       "4 2023-01-05      62  0.257550        A\n",
       "5 2023-01-06      37 -0.074446        C\n",
       "6 2023-01-07      97 -1.918771        B\n",
       "7 2023-01-08      51 -0.026514        B\n",
       "8 2023-01-09      44  0.060230        A\n",
       "9 2023-01-10      24  2.463242        B"
      ]
     },
     "execution_count": 83,
     "metadata": {},
     "output_type": "execute_result"
    }
   ],
   "source": [
    "df_reset_index = df.reset_index(drop=True)\n",
    "df_reset_index"
   ]
  },
  {
   "cell_type": "markdown",
   "id": "693fa480-3b0a-4bae-b24a-be43db51d0c0",
   "metadata": {},
   "source": [
    "#### Head and Tail Methods"
   ]
  },
  {
   "cell_type": "code",
   "execution_count": 84,
   "id": "e8b2b2be-228a-403e-9141-be624a81e821",
   "metadata": {},
   "outputs": [
    {
     "data": {
      "text/html": [
       "<div>\n",
       "<style scoped>\n",
       "    .dataframe tbody tr th:only-of-type {\n",
       "        vertical-align: middle;\n",
       "    }\n",
       "\n",
       "    .dataframe tbody tr th {\n",
       "        vertical-align: top;\n",
       "    }\n",
       "\n",
       "    .dataframe thead th {\n",
       "        text-align: right;\n",
       "    }\n",
       "</style>\n",
       "<table border=\"1\" class=\"dataframe\">\n",
       "  <thead>\n",
       "    <tr style=\"text-align: right;\">\n",
       "      <th></th>\n",
       "      <th>Date</th>\n",
       "      <th>Value1</th>\n",
       "      <th>Value2</th>\n",
       "      <th>Category</th>\n",
       "    </tr>\n",
       "  </thead>\n",
       "  <tbody>\n",
       "    <tr>\n",
       "      <th>0</th>\n",
       "      <td>2023-01-01</td>\n",
       "      <td>70</td>\n",
       "      <td>-0.161286</td>\n",
       "      <td>B</td>\n",
       "    </tr>\n",
       "    <tr>\n",
       "      <th>1</th>\n",
       "      <td>2023-01-02</td>\n",
       "      <td>72</td>\n",
       "      <td>0.404051</td>\n",
       "      <td>C</td>\n",
       "    </tr>\n",
       "    <tr>\n",
       "      <th>2</th>\n",
       "      <td>2023-01-03</td>\n",
       "      <td>27</td>\n",
       "      <td>1.886186</td>\n",
       "      <td>A</td>\n",
       "    </tr>\n",
       "    <tr>\n",
       "      <th>3</th>\n",
       "      <td>2023-01-04</td>\n",
       "      <td>9</td>\n",
       "      <td>0.174578</td>\n",
       "      <td>A</td>\n",
       "    </tr>\n",
       "  </tbody>\n",
       "</table>\n",
       "</div>"
      ],
      "text/plain": [
       "        Date  Value1    Value2 Category\n",
       "0 2023-01-01      70 -0.161286        B\n",
       "1 2023-01-02      72  0.404051        C\n",
       "2 2023-01-03      27  1.886186        A\n",
       "3 2023-01-04       9  0.174578        A"
      ]
     },
     "execution_count": 84,
     "metadata": {},
     "output_type": "execute_result"
    }
   ],
   "source": [
    "df_reset_index.head(4)"
   ]
  },
  {
   "cell_type": "code",
   "execution_count": 85,
   "id": "ad80168e-6b4f-4c78-883d-8b5e1f5adde9",
   "metadata": {},
   "outputs": [
    {
     "data": {
      "text/html": [
       "<div>\n",
       "<style scoped>\n",
       "    .dataframe tbody tr th:only-of-type {\n",
       "        vertical-align: middle;\n",
       "    }\n",
       "\n",
       "    .dataframe tbody tr th {\n",
       "        vertical-align: top;\n",
       "    }\n",
       "\n",
       "    .dataframe thead th {\n",
       "        text-align: right;\n",
       "    }\n",
       "</style>\n",
       "<table border=\"1\" class=\"dataframe\">\n",
       "  <thead>\n",
       "    <tr style=\"text-align: right;\">\n",
       "      <th></th>\n",
       "      <th>Date</th>\n",
       "      <th>Value1</th>\n",
       "      <th>Value2</th>\n",
       "      <th>Category</th>\n",
       "    </tr>\n",
       "  </thead>\n",
       "  <tbody>\n",
       "    <tr>\n",
       "      <th>5</th>\n",
       "      <td>2023-01-06</td>\n",
       "      <td>37</td>\n",
       "      <td>-0.074446</td>\n",
       "      <td>C</td>\n",
       "    </tr>\n",
       "    <tr>\n",
       "      <th>6</th>\n",
       "      <td>2023-01-07</td>\n",
       "      <td>97</td>\n",
       "      <td>-1.918771</td>\n",
       "      <td>B</td>\n",
       "    </tr>\n",
       "    <tr>\n",
       "      <th>7</th>\n",
       "      <td>2023-01-08</td>\n",
       "      <td>51</td>\n",
       "      <td>-0.026514</td>\n",
       "      <td>B</td>\n",
       "    </tr>\n",
       "    <tr>\n",
       "      <th>8</th>\n",
       "      <td>2023-01-09</td>\n",
       "      <td>44</td>\n",
       "      <td>0.060230</td>\n",
       "      <td>A</td>\n",
       "    </tr>\n",
       "    <tr>\n",
       "      <th>9</th>\n",
       "      <td>2023-01-10</td>\n",
       "      <td>24</td>\n",
       "      <td>2.463242</td>\n",
       "      <td>B</td>\n",
       "    </tr>\n",
       "  </tbody>\n",
       "</table>\n",
       "</div>"
      ],
      "text/plain": [
       "        Date  Value1    Value2 Category\n",
       "5 2023-01-06      37 -0.074446        C\n",
       "6 2023-01-07      97 -1.918771        B\n",
       "7 2023-01-08      51 -0.026514        B\n",
       "8 2023-01-09      44  0.060230        A\n",
       "9 2023-01-10      24  2.463242        B"
      ]
     },
     "execution_count": 85,
     "metadata": {},
     "output_type": "execute_result"
    }
   ],
   "source": [
    "df_reset_index.tail()"
   ]
  },
  {
   "cell_type": "markdown",
   "id": "228c6738-0562-4587-be7b-1d95a08cde0b",
   "metadata": {},
   "source": [
    "#### loc and iloc methods"
   ]
  },
  {
   "cell_type": "code",
   "execution_count": 86,
   "id": "48d46102-9341-4c8e-a5d5-e6386d66c43e",
   "metadata": {},
   "outputs": [
    {
     "data": {
      "text/html": [
       "<div>\n",
       "<style scoped>\n",
       "    .dataframe tbody tr th:only-of-type {\n",
       "        vertical-align: middle;\n",
       "    }\n",
       "\n",
       "    .dataframe tbody tr th {\n",
       "        vertical-align: top;\n",
       "    }\n",
       "\n",
       "    .dataframe thead th {\n",
       "        text-align: right;\n",
       "    }\n",
       "</style>\n",
       "<table border=\"1\" class=\"dataframe\">\n",
       "  <thead>\n",
       "    <tr style=\"text-align: right;\">\n",
       "      <th></th>\n",
       "      <th>Date</th>\n",
       "      <th>Value1</th>\n",
       "      <th>Value2</th>\n",
       "    </tr>\n",
       "  </thead>\n",
       "  <tbody>\n",
       "    <tr>\n",
       "      <th>0</th>\n",
       "      <td>2023-01-01</td>\n",
       "      <td>70</td>\n",
       "      <td>-0.161286</td>\n",
       "    </tr>\n",
       "    <tr>\n",
       "      <th>1</th>\n",
       "      <td>2023-01-02</td>\n",
       "      <td>72</td>\n",
       "      <td>0.404051</td>\n",
       "    </tr>\n",
       "    <tr>\n",
       "      <th>2</th>\n",
       "      <td>2023-01-03</td>\n",
       "      <td>27</td>\n",
       "      <td>1.886186</td>\n",
       "    </tr>\n",
       "    <tr>\n",
       "      <th>3</th>\n",
       "      <td>2023-01-04</td>\n",
       "      <td>9</td>\n",
       "      <td>0.174578</td>\n",
       "    </tr>\n",
       "    <tr>\n",
       "      <th>4</th>\n",
       "      <td>2023-01-05</td>\n",
       "      <td>62</td>\n",
       "      <td>0.257550</td>\n",
       "    </tr>\n",
       "  </tbody>\n",
       "</table>\n",
       "</div>"
      ],
      "text/plain": [
       "        Date  Value1    Value2\n",
       "0 2023-01-01      70 -0.161286\n",
       "1 2023-01-02      72  0.404051\n",
       "2 2023-01-03      27  1.886186\n",
       "3 2023-01-04       9  0.174578\n",
       "4 2023-01-05      62  0.257550"
      ]
     },
     "execution_count": 86,
     "metadata": {},
     "output_type": "execute_result"
    }
   ],
   "source": [
    "df_reset_index.iloc[0:5,0:3]"
   ]
  },
  {
   "cell_type": "code",
   "execution_count": null,
   "id": "27be6d3b-7b7f-4efd-b863-e58e75a5adaa",
   "metadata": {},
   "outputs": [],
   "source": []
  }
 ],
 "metadata": {
  "kernelspec": {
   "display_name": "Python 3 (ipykernel)",
   "language": "python",
   "name": "python3"
  },
  "language_info": {
   "codemirror_mode": {
    "name": "ipython",
    "version": 3
   },
   "file_extension": ".py",
   "mimetype": "text/x-python",
   "name": "python",
   "nbconvert_exporter": "python",
   "pygments_lexer": "ipython3",
   "version": "3.11.6"
  }
 },
 "nbformat": 4,
 "nbformat_minor": 5
}
