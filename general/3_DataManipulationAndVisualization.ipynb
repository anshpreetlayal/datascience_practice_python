{
 "cells": [
  {
   "cell_type": "markdown",
   "id": "73e97001-cca5-4850-9ba8-6e166f5c6878",
   "metadata": {},
   "source": [
    "# Data Manipulation with Python"
   ]
  },
  {
   "cell_type": "markdown",
   "id": "2097125b-5e34-4e27-a1e1-87975cef5176",
   "metadata": {},
   "source": [
    "## Introduction"
   ]
  },
  {
   "cell_type": "markdown",
   "id": "fba4196b-dd19-4e41-b876-c60a838f5e03",
   "metadata": {},
   "source": [
    "Data manipulation is a crucial aspect of data science and analysis. In this notebook, we'll explore three powerful libraries in Python: NumPy, Pandas, and Matplotlib. These libraries provide tools for handling, analyzing, and visualizing data.\n"
   ]
  },
  {
   "cell_type": "markdown",
   "id": "edc7e9ba-fbd9-4a27-9382-3ee58db6babd",
   "metadata": {},
   "source": [
    "## NumPy: Numerical Python"
   ]
  },
  {
   "cell_type": "markdown",
   "id": "d273c16a-a5fa-4b66-bdb0-955c703a62ee",
   "metadata": {},
   "source": [
    "### Introduction to NumPy"
   ]
  },
  {
   "cell_type": "markdown",
   "id": "9e36a76e-f0d0-459a-b938-f14bf16629a8",
   "metadata": {},
   "source": [
    "NumPy is a fundamental package for scientific computing with Python. It provides support for large, multi-dimensional arrays and matrices, along with mathematical functions to operate on these arrays."
   ]
  },
  {
   "cell_type": "markdown",
   "id": "3cb066a3-f659-481e-ba9e-f2625d55f6e8",
   "metadata": {},
   "source": [
    "### NumPy Basics"
   ]
  },
  {
   "cell_type": "markdown",
   "id": "ccb6102a-0374-4886-961f-8ecd474b9937",
   "metadata": {},
   "source": [
    "#### Array Creation"
   ]
  },
  {
   "cell_type": "code",
   "execution_count": 4,
   "id": "16bbe971-5058-4432-9527-48d650252370",
   "metadata": {},
   "outputs": [
    {
     "name": "stdout",
     "output_type": "stream",
     "text": [
      "[1 2 3 4 5]\n",
      "[[1 2 3]\n",
      " [4 5 6]]\n",
      "[[0. 0. 0.]\n",
      " [0. 0. 0.]\n",
      " [0. 0. 0.]]\n",
      "[[1. 1. 1. 1.]\n",
      " [1. 1. 1. 1.]]\n"
     ]
    }
   ],
   "source": [
    "import numpy as np\n",
    "\n",
    "# Create a 1D array\n",
    "arr_1d = np.array([1, 2, 3, 4, 5])\n",
    "\n",
    "# Create a 2D array\n",
    "arr_2d = np.array([[1, 2, 3], [4, 5, 6]])\n",
    "\n",
    "# Create an array with zeros\n",
    "zeros_array = np.zeros((3, 3))\n",
    "\n",
    "# Create an array with ones\n",
    "ones_array = np.ones((2, 4))\n",
    "\n",
    "print(arr_1d)\n",
    "print(arr_2d)\n",
    "print(zeros_array)\n",
    "print(ones_array)"
   ]
  },
  {
   "cell_type": "markdown",
   "id": "a5c08bd3-e523-447c-bf5c-2eb026ff7199",
   "metadata": {},
   "source": [
    "#### Array Operations"
   ]
  },
  {
   "cell_type": "code",
   "execution_count": 5,
   "id": "18617129-357c-4241-bd9f-81deb0ca9f79",
   "metadata": {},
   "outputs": [
    {
     "name": "stdout",
     "output_type": "stream",
     "text": [
      "[11 12 13 14 15]\n",
      "[[ 2  4  6]\n",
      " [ 8 10 12]]\n",
      "[[ 6.]\n",
      " [15.]]\n"
     ]
    }
   ],
   "source": [
    "# Arithmetic operations\n",
    "result = arr_1d + 10\n",
    "\n",
    "# Element-wise multiplication\n",
    "result2 = arr_2d * 2\n",
    "\n",
    "# Matrix multiplication\n",
    "result3 = np.dot(arr_2d, np.ones((3, 1)))\n",
    "\n",
    "print(result)\n",
    "print(result2)\n",
    "print(result3)"
   ]
  },
  {
   "cell_type": "markdown",
   "id": "46393804-054e-4c15-859a-df1b62fcd1df",
   "metadata": {},
   "source": [
    "#### Array Indexing"
   ]
  },
  {
   "cell_type": "code",
   "execution_count": 7,
   "id": "075a01f5-af3c-4c59-84b3-129434410197",
   "metadata": {},
   "outputs": [
    {
     "name": "stdout",
     "output_type": "stream",
     "text": [
      "Element at index 2: 13\n"
     ]
    }
   ],
   "source": [
    "# Array Indexing\n",
    "print(\"Element at index 2:\", result[2])"
   ]
  },
  {
   "cell_type": "markdown",
   "id": "cade9326-daf0-43dd-82af-2c8699f41254",
   "metadata": {},
   "source": [
    "#### Array Slicing"
   ]
  },
  {
   "cell_type": "code",
   "execution_count": 9,
   "id": "6eefcfb3-9d4d-441d-8e4f-c88a4b586707",
   "metadata": {},
   "outputs": [
    {
     "name": "stdout",
     "output_type": "stream",
     "text": [
      "Sliced array: [12 13 14]\n"
     ]
    }
   ],
   "source": [
    "# Array Slicing\n",
    "print(\"Sliced array:\", result[1:4])"
   ]
  },
  {
   "cell_type": "markdown",
   "id": "be0b34f1-12f1-4fe7-8149-f59594ce1503",
   "metadata": {},
   "source": [
    "#### Data Types"
   ]
  },
  {
   "cell_type": "code",
   "execution_count": 10,
   "id": "0c3fb4eb-0a5f-4207-95b8-25e5615f58c7",
   "metadata": {},
   "outputs": [
    {
     "name": "stdout",
     "output_type": "stream",
     "text": [
      "Array with float data type: [1. 2. 3.]\n"
     ]
    }
   ],
   "source": [
    "arr_float = np.array([1, 2, 3], dtype=float)\n",
    "print(\"Array with float data type:\", arr_float)"
   ]
  },
  {
   "cell_type": "markdown",
   "id": "5af88427-3530-4ebf-bb6a-87118982a297",
   "metadata": {},
   "source": [
    "#### Copy vs View"
   ]
  },
  {
   "cell_type": "code",
   "execution_count": 16,
   "id": "3a59f3ec-7185-4490-ac2d-dd29b8d31deb",
   "metadata": {},
   "outputs": [
    {
     "name": "stdout",
     "output_type": "stream",
     "text": [
      "Original Array: [10 12 13 14 15]\n",
      "Copied Array: [11 12 13 14 15]\n",
      "Viewed Array: [10 12 13 14 15]\n"
     ]
    }
   ],
   "source": [
    "arr_copy = result.copy()\n",
    "arr_view = result.view()\n",
    "result[0] = 10\n",
    "print(\"Original Array:\", result)\n",
    "print(\"Copied Array:\", arr_copy)\n",
    "print(\"Viewed Array:\", arr_view)"
   ]
  },
  {
   "cell_type": "markdown",
   "id": "07fd79c3-feee-43b3-8677-e514612f7246",
   "metadata": {},
   "source": [
    "#### Array Shape"
   ]
  },
  {
   "cell_type": "code",
   "execution_count": 15,
   "id": "91df888e-666b-434a-bb5b-04ad04214dce",
   "metadata": {},
   "outputs": [
    {
     "name": "stdout",
     "output_type": "stream",
     "text": [
      "Shape of Array: (5,)\n"
     ]
    }
   ],
   "source": [
    "print(\"Shape of Array:\", result.shape)"
   ]
  },
  {
   "cell_type": "code",
   "execution_count": null,
   "id": "bda2dca5-72a0-4169-8e5e-d4727b03cca2",
   "metadata": {},
   "outputs": [],
   "source": []
  }
 ],
 "metadata": {
  "kernelspec": {
   "display_name": "Python 3 (ipykernel)",
   "language": "python",
   "name": "python3"
  },
  "language_info": {
   "codemirror_mode": {
    "name": "ipython",
    "version": 3
   },
   "file_extension": ".py",
   "mimetype": "text/x-python",
   "name": "python",
   "nbconvert_exporter": "python",
   "pygments_lexer": "ipython3",
   "version": "3.11.6"
  }
 },
 "nbformat": 4,
 "nbformat_minor": 5
}
